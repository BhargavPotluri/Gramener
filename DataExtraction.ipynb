{
 "cells": [
  {
   "cell_type": "markdown",
   "metadata": {},
   "source": [
    "### Demonstration of Data Collection / Extraction from various sources"
   ]
  },
  {
   "cell_type": "markdown",
   "metadata": {},
   "source": [
    "As part of Data Scientist activities, Data collection or extraction is one of the steps which takes quite a good amount of time and effort "
   ]
  },
  {
   "cell_type": "markdown",
   "metadata": {},
   "source": [
    "###### For this particular Use Case, we are extracting state wise Covid-19 cases in USA from various sources "
   ]
  },
  {
   "cell_type": "markdown",
   "metadata": {},
   "source": [
    "#### There are multiple sources in which data is resided & a Data Scientist should be able to extract the data. Below are few sources\n",
    "1.Website <br>\n",
    "2.API <br>\n",
    "3.Documents such as PDF <br>\n",
    "4.RDBMS <br>"
   ]
  },
  {
   "cell_type": "markdown",
   "metadata": {},
   "source": [
    "##### Exercise 1: To scrape the data from a website"
   ]
  },
  {
   "cell_type": "code",
   "execution_count": 93,
   "metadata": {},
   "outputs": [],
   "source": [
    "# Import libraries\n",
    "import requests\n",
    "import numpy as np\n",
    "import pandas as pd\n",
    "from pathlib import Path"
   ]
  },
  {
   "cell_type": "code",
   "execution_count": 94,
   "metadata": {},
   "outputs": [
    {
     "name": "stdout",
     "output_type": "stream",
     "text": [
      "Status: 200\n"
     ]
    }
   ],
   "source": [
    "Data_URL = 'https://www.worldometers.info/coronavirus/country/us/'\n",
    "\n",
    "r = requests.get(Data_URL)\n",
    "print(f'Status: {r.status_code}') # Status: 200 states that the response is success from website"
   ]
  },
  {
   "cell_type": "markdown",
   "metadata": {},
   "source": [
    "Documentation for BeautifulSoup library - https://www.crummy.com/software/BeautifulSoup/bs4/doc/"
   ]
  },
  {
   "cell_type": "code",
   "execution_count": 95,
   "metadata": {},
   "outputs": [],
   "source": [
    "# Import BeautifulSoup\n",
    "import bs4\n",
    "from bs4 import BeautifulSoup as BS\n",
    "\n",
    "page = BS(r.content, 'html.parser')\n",
    "table = page.table"
   ]
  },
  {
   "cell_type": "code",
   "execution_count": 96,
   "metadata": {},
   "outputs": [
    {
     "name": "stdout",
     "output_type": "stream",
     "text": [
      "<tr class=\"total_row_usa\">\n",
      " <td style=\"text-align:left;\">\n",
      "  USA Total\n",
      " </td>\n",
      " <td>\n",
      "  2,727,996\n",
      " </td>\n",
      " <td>\n",
      "  +143\n",
      " </td>\n",
      " <td>\n",
      "  130,123\n",
      " </td>\n",
      " <td>\n",
      "  +1\n",
      " </td>\n",
      " <td>\n",
      "  1,454,383\n",
      " </td>\n",
      " <td>\n",
      "  8,242\n",
      " </td>\n",
      " <td>\n",
      "  393\n",
      " </td>\n",
      " <td>\n",
      "  34,199,918\n",
      " </td>\n",
      " <td>\n",
      "  103,322\n",
      " </td>\n",
      " <td>\n",
      " </td>\n",
      " <td>\n",
      " </td>\n",
      "</tr>\n",
      "\n"
     ]
    }
   ],
   "source": [
    "print(table.tbody.tr.prettify())"
   ]
  },
  {
   "cell_type": "code",
   "execution_count": 147,
   "metadata": {},
   "outputs": [
    {
     "data": {
      "text/plain": [
       "[['USA Total',\n",
       "  '2,727,996',\n",
       "  '+143',\n",
       "  '130,123',\n",
       "  '+1',\n",
       "  '1,454,383',\n",
       "  '8,242',\n",
       "  '393',\n",
       "  '34,199,918',\n",
       "  '103,322',\n",
       "  '\\xa0',\n",
       "  '\\xa0'],\n",
       " ['\\nNew York ',\n",
       "  '417,836 ',\n",
       "  '\\n',\n",
       "  '\\n32,129 ',\n",
       "  ' ',\n",
       "  '\\n296,232 ',\n",
       "  '21,479',\n",
       "  '1,652',\n",
       "  '\\n3,914,938 ',\n",
       "  '201,245',\n",
       "  '\\n[view by county]\\xa0[1]\\xa0[2]\\xa0[3]\\xa0[4]\\xa0 ',\n",
       "  '\\n[projections]\\n'],\n",
       " ['\\nCalifornia ',\n",
       "  '230,891 ',\n",
       "  '\\n',\n",
       "  '\\n6,081  ',\n",
       "  ' ',\n",
       "  '\\n161,148 ',\n",
       "  '5,844',\n",
       "  '154',\n",
       "  '\\n4,168,509 ',\n",
       "  '105,499',\n",
       "  '\\n[view by county]\\xa0[1]\\xa0 ',\n",
       "  '\\n[projections]\\n'],\n",
       " ['\\nNew Jersey ',\n",
       "  '176,953 ',\n",
       "  '\\n',\n",
       "  '\\n15,177 ',\n",
       "  ' ',\n",
       "  '\\n116,634 ',\n",
       "  '19,922',\n",
       "  '1,709',\n",
       "  '\\n1,422,374 ',\n",
       "  '160,138',\n",
       "  '\\n[view by county]\\xa0[1]\\xa0 ',\n",
       "  '\\n [projections]\\n'],\n",
       " ['\\nTexas ',\n",
       "  '167,269 ',\n",
       "  '\\n',\n",
       "  '\\n2,496 ',\n",
       "  ' ',\n",
       "  '\\n79,955 ',\n",
       "  '5,769',\n",
       "  '86',\n",
       "  '\\n2,119,036 ',\n",
       "  '73,081',\n",
       "  '\\n[view by county]\\xa0[1]\\xa0[2]\\xa0 ',\n",
       "  '\\n[projections]\\n'],\n",
       " ['\\nFlorida ',\n",
       "  '152,434 ',\n",
       "  '\\n',\n",
       "  '\\n3,505 ',\n",
       "  ' ',\n",
       "  '\\n125,011 ',\n",
       "  '7,097',\n",
       "  '163',\n",
       "  '\\n1,946,510 ',\n",
       "  '90,629',\n",
       "  '\\n[view by county]\\xa0[1]\\xa0[2]\\xa0[3]\\xa0 ',\n",
       "  '\\n[projections]\\n'],\n",
       " ['\\nIllinois ',\n",
       "  '144,238 ',\n",
       "  '\\n',\n",
       "  '\\n7,124 ',\n",
       "  ' ',\n",
       "  '\\n25,505 ',\n",
       "  '11,383',\n",
       "  '562',\n",
       "  '\\n1,604,018 ',\n",
       "  '126,581',\n",
       "  '\\n[1]\\xa0[2]\\xa0[3]\\xa0[4]\\xa0 ',\n",
       "  '\\n[projections]\\n'],\n",
       " ['\\nMassachusetts ',\n",
       "  '108,882 ',\n",
       "  '\\n',\n",
       "  '\\n8,054 ',\n",
       "  ' ',\n",
       "  '\\n9,424 ',\n",
       "  '15,797',\n",
       "  '1,169',\n",
       "  '\\n914,646 ',\n",
       "  '132,702',\n",
       "  '\\n[1]\\xa0 ',\n",
       "  '\\n[projections]\\n'],\n",
       " ['\\nPennsylvania ',\n",
       "  '91,228 ',\n",
       "  '\\n',\n",
       "  '\\n6,702 ',\n",
       "  ' ',\n",
       "  '\\n16,974  ',\n",
       "  '7,126',\n",
       "  '524',\n",
       "  '\\n775,037 ',\n",
       "  '60,540',\n",
       "  '\\n[view by county]\\xa0[1]\\xa0 ',\n",
       "  '\\n[projections]\\n'],\n",
       " ['\\nGeorgia ',\n",
       "  '81,291 ',\n",
       "  '\\n',\n",
       "  '\\n2,805 ',\n",
       "  ' ',\n",
       "  '\\n69,234 ',\n",
       "  '7,656',\n",
       "  '264',\n",
       "  '\\n991,501 ',\n",
       "  '93,384',\n",
       "  '\\n[1]\\xa0 ',\n",
       "  '\\n[projections]\\n']]"
      ]
     },
     "execution_count": 147,
     "metadata": {},
     "output_type": "execute_result"
    }
   ],
   "source": [
    "from typing import List\n",
    "\n",
    "def extract_from_table(table: bs4.element.Tag) -> List:\n",
    "    '''Extracts data from HTML table.\n",
    "    \n",
    "    Input:  bs4 *table*\n",
    "    Return: List of all the values in the table\n",
    "    '''\n",
    "    data = list()\n",
    "    \n",
    "    for row in table.select('tbody tr'):\n",
    "        data.append([col.text for col in row.find_all('td')])\n",
    "        \n",
    "    return data\n",
    "\n",
    "data_table = extract_from_table(table)\n",
    "data_table[0:10]"
   ]
  },
  {
   "cell_type": "code",
   "execution_count": 98,
   "metadata": {},
   "outputs": [
    {
     "data": {
      "text/plain": [
       "USA State                 object\n",
       "Total Cases               object\n",
       "New Cases                 object\n",
       "Total Deaths              object\n",
       "New Deaths                object\n",
       "Active Cases              object\n",
       "Total Cases per 1M pop    object\n",
       "Deaths per 1M pop         object\n",
       "Total Tests               object\n",
       "Tests per 1M pop          object\n",
       "View                      object\n",
       "projections               object\n",
       "dtype: object"
      ]
     },
     "execution_count": 98,
     "metadata": {},
     "output_type": "execute_result"
    }
   ],
   "source": [
    "# Setting the column names \n",
    "columns = ['USA State','Total Cases','New Cases','Total Deaths','New Deaths','Active Cases','Total Cases per 1M pop','Deaths per 1M pop','Total Tests','Tests per 1M pop','View','projections']\n",
    "stats = pd.DataFrame(data_table, columns=columns)\n",
    "stats.dtypes"
   ]
  },
  {
   "cell_type": "code",
   "execution_count": 99,
   "metadata": {},
   "outputs": [
    {
     "data": {
      "text/html": [
       "<div>\n",
       "<style scoped>\n",
       "    .dataframe tbody tr th:only-of-type {\n",
       "        vertical-align: middle;\n",
       "    }\n",
       "\n",
       "    .dataframe tbody tr th {\n",
       "        vertical-align: top;\n",
       "    }\n",
       "\n",
       "    .dataframe thead th {\n",
       "        text-align: right;\n",
       "    }\n",
       "</style>\n",
       "<table border=\"1\" class=\"dataframe\">\n",
       "  <thead>\n",
       "    <tr style=\"text-align: right;\">\n",
       "      <th></th>\n",
       "      <th>USA State</th>\n",
       "      <th>Total Cases</th>\n",
       "      <th>New Cases</th>\n",
       "      <th>Total Deaths</th>\n",
       "      <th>New Deaths</th>\n",
       "      <th>Active Cases</th>\n",
       "      <th>Total Cases per 1M pop</th>\n",
       "      <th>Deaths per 1M pop</th>\n",
       "      <th>Total Tests</th>\n",
       "      <th>Tests per 1M pop</th>\n",
       "      <th>View</th>\n",
       "      <th>projections</th>\n",
       "    </tr>\n",
       "  </thead>\n",
       "  <tbody>\n",
       "    <tr>\n",
       "      <th>0</th>\n",
       "      <td>USA Total</td>\n",
       "      <td>2,727,996</td>\n",
       "      <td>+143</td>\n",
       "      <td>130,123</td>\n",
       "      <td>+1</td>\n",
       "      <td>1,454,383</td>\n",
       "      <td>8,242</td>\n",
       "      <td>393</td>\n",
       "      <td>34,199,918</td>\n",
       "      <td>103,322</td>\n",
       "      <td></td>\n",
       "      <td></td>\n",
       "    </tr>\n",
       "    <tr>\n",
       "      <th>1</th>\n",
       "      <td>\\nNew York</td>\n",
       "      <td>417,836</td>\n",
       "      <td>\\n</td>\n",
       "      <td>\\n32,129</td>\n",
       "      <td></td>\n",
       "      <td>\\n296,232</td>\n",
       "      <td>21,479</td>\n",
       "      <td>1,652</td>\n",
       "      <td>\\n3,914,938</td>\n",
       "      <td>201,245</td>\n",
       "      <td>\\n[view by county] [1] [2] [3] [4]</td>\n",
       "      <td>\\n[projections]\\n</td>\n",
       "    </tr>\n",
       "  </tbody>\n",
       "</table>\n",
       "</div>"
      ],
      "text/plain": [
       "     USA State Total Cases New Cases Total Deaths New Deaths Active Cases  \\\n",
       "0    USA Total   2,727,996      +143      130,123         +1    1,454,383   \n",
       "1  \\nNew York     417,836         \\n    \\n32,129               \\n296,232    \n",
       "\n",
       "  Total Cases per 1M pop Deaths per 1M pop   Total Tests Tests per 1M pop  \\\n",
       "0                  8,242               393    34,199,918          103,322   \n",
       "1                 21,479             1,652  \\n3,914,938           201,245   \n",
       "\n",
       "                                   View        projections  \n",
       "0                                                           \n",
       "1  \\n[view by county] [1] [2] [3] [4]    \\n[projections]\\n  "
      ]
     },
     "execution_count": 99,
     "metadata": {},
     "output_type": "execute_result"
    }
   ],
   "source": [
    "stats.head(2)"
   ]
  },
  {
   "cell_type": "code",
   "execution_count": 100,
   "metadata": {},
   "outputs": [],
   "source": [
    "# Lets remove unwanted columns from the data set\n",
    "cols=['New Cases','New Deaths','View','projections']\n",
    "stats.drop(columns=cols,inplace=True)"
   ]
  },
  {
   "cell_type": "code",
   "execution_count": 101,
   "metadata": {},
   "outputs": [
    {
     "data": {
      "text/html": [
       "<div>\n",
       "<style scoped>\n",
       "    .dataframe tbody tr th:only-of-type {\n",
       "        vertical-align: middle;\n",
       "    }\n",
       "\n",
       "    .dataframe tbody tr th {\n",
       "        vertical-align: top;\n",
       "    }\n",
       "\n",
       "    .dataframe thead th {\n",
       "        text-align: right;\n",
       "    }\n",
       "</style>\n",
       "<table border=\"1\" class=\"dataframe\">\n",
       "  <thead>\n",
       "    <tr style=\"text-align: right;\">\n",
       "      <th></th>\n",
       "      <th>USA State</th>\n",
       "      <th>Total Cases</th>\n",
       "      <th>Total Deaths</th>\n",
       "      <th>Active Cases</th>\n",
       "      <th>Total Cases per 1M pop</th>\n",
       "      <th>Deaths per 1M pop</th>\n",
       "      <th>Total Tests</th>\n",
       "      <th>Tests per 1M pop</th>\n",
       "    </tr>\n",
       "  </thead>\n",
       "  <tbody>\n",
       "    <tr>\n",
       "      <th>0</th>\n",
       "      <td>USA Total</td>\n",
       "      <td>2,727,996</td>\n",
       "      <td>130,123</td>\n",
       "      <td>1,454,383</td>\n",
       "      <td>8,242</td>\n",
       "      <td>393</td>\n",
       "      <td>34,199,918</td>\n",
       "      <td>103,322</td>\n",
       "    </tr>\n",
       "    <tr>\n",
       "      <th>1</th>\n",
       "      <td>\\nNew York</td>\n",
       "      <td>417,836</td>\n",
       "      <td>\\n32,129</td>\n",
       "      <td>\\n296,232</td>\n",
       "      <td>21,479</td>\n",
       "      <td>1,652</td>\n",
       "      <td>\\n3,914,938</td>\n",
       "      <td>201,245</td>\n",
       "    </tr>\n",
       "  </tbody>\n",
       "</table>\n",
       "</div>"
      ],
      "text/plain": [
       "     USA State Total Cases Total Deaths Active Cases Total Cases per 1M pop  \\\n",
       "0    USA Total   2,727,996      130,123    1,454,383                  8,242   \n",
       "1  \\nNew York     417,836     \\n32,129    \\n296,232                  21,479   \n",
       "\n",
       "  Deaths per 1M pop   Total Tests Tests per 1M pop  \n",
       "0               393    34,199,918          103,322  \n",
       "1             1,652  \\n3,914,938           201,245  "
      ]
     },
     "execution_count": 101,
     "metadata": {},
     "output_type": "execute_result"
    }
   ],
   "source": [
    "stats.head(2)"
   ]
  },
  {
   "cell_type": "code",
   "execution_count": 102,
   "metadata": {},
   "outputs": [],
   "source": [
    "# Data Clean up \n",
    "# Below function iterates through every column in the df, to iterarte through each column\n",
    "def cleanup_df():\n",
    "    for col in stats.columns:\n",
    "        print(col)\n",
    "        stats[col]=stats[col].str.replace(',','') # Replacing commma with blank\n",
    "        stats[col]=stats[col].str.replace('\\n','',regex=True) # Replacing \\n with blank\n",
    "        #stats[col]=stats[col].str.replace(\"\",'0')\n",
    "        stats[col]=stats[col].str.strip() # Stripping the unwanted spaces at the start & at the end of the values in the column\n",
    "        stats.loc[stats[col] =='', col] = 0 # Assigning a value '0', where there are no values in the data set"
   ]
  },
  {
   "cell_type": "code",
   "execution_count": 104,
   "metadata": {},
   "outputs": [
    {
     "name": "stdout",
     "output_type": "stream",
     "text": [
      "USA State\n",
      "Total Cases\n",
      "Total Deaths\n",
      "Active Cases\n",
      "Total Cases per 1M pop\n",
      "Deaths per 1M pop\n",
      "Total Tests\n",
      "Tests per 1M pop\n"
     ]
    }
   ],
   "source": [
    "# Calling the function\n",
    "cleanup_df()"
   ]
  },
  {
   "cell_type": "code",
   "execution_count": 105,
   "metadata": {},
   "outputs": [],
   "source": [
    "# All the columns are in string data type. Need to convert into 'int' data type to perform arithematic operations further\n",
    "stats[['Total Cases','Total Deaths','Active Cases','Total Cases per 1M pop','Deaths per 1M pop','Total Tests','Tests per 1M pop']] = stats[['Total Cases','Total Deaths','Active Cases','Total Cases per 1M pop','Deaths per 1M pop','Total Tests','Tests per 1M pop']].astype(int)"
   ]
  },
  {
   "cell_type": "code",
   "execution_count": 106,
   "metadata": {},
   "outputs": [
    {
     "data": {
      "text/html": [
       "<div>\n",
       "<style scoped>\n",
       "    .dataframe tbody tr th:only-of-type {\n",
       "        vertical-align: middle;\n",
       "    }\n",
       "\n",
       "    .dataframe tbody tr th {\n",
       "        vertical-align: top;\n",
       "    }\n",
       "\n",
       "    .dataframe thead th {\n",
       "        text-align: right;\n",
       "    }\n",
       "</style>\n",
       "<table border=\"1\" class=\"dataframe\">\n",
       "  <thead>\n",
       "    <tr style=\"text-align: right;\">\n",
       "      <th></th>\n",
       "      <th>USA State</th>\n",
       "      <th>Total Cases</th>\n",
       "      <th>Total Deaths</th>\n",
       "      <th>Active Cases</th>\n",
       "      <th>Total Cases per 1M pop</th>\n",
       "      <th>Deaths per 1M pop</th>\n",
       "      <th>Total Tests</th>\n",
       "      <th>Tests per 1M pop</th>\n",
       "    </tr>\n",
       "  </thead>\n",
       "  <tbody>\n",
       "    <tr>\n",
       "      <th>0</th>\n",
       "      <td>USA Total</td>\n",
       "      <td>2727996</td>\n",
       "      <td>130123</td>\n",
       "      <td>1454383</td>\n",
       "      <td>8242</td>\n",
       "      <td>393</td>\n",
       "      <td>34199918</td>\n",
       "      <td>103322</td>\n",
       "    </tr>\n",
       "    <tr>\n",
       "      <th>1</th>\n",
       "      <td>New York</td>\n",
       "      <td>417836</td>\n",
       "      <td>32129</td>\n",
       "      <td>296232</td>\n",
       "      <td>21479</td>\n",
       "      <td>1652</td>\n",
       "      <td>3914938</td>\n",
       "      <td>201245</td>\n",
       "    </tr>\n",
       "  </tbody>\n",
       "</table>\n",
       "</div>"
      ],
      "text/plain": [
       "   USA State  Total Cases  Total Deaths  Active Cases  Total Cases per 1M pop  \\\n",
       "0  USA Total      2727996        130123       1454383                    8242   \n",
       "1   New York       417836         32129        296232                   21479   \n",
       "\n",
       "   Deaths per 1M pop  Total Tests  Tests per 1M pop  \n",
       "0                393     34199918            103322  \n",
       "1               1652      3914938            201245  "
      ]
     },
     "execution_count": 106,
     "metadata": {},
     "output_type": "execute_result"
    }
   ],
   "source": [
    "stats.head(2)"
   ]
  },
  {
   "cell_type": "code",
   "execution_count": 107,
   "metadata": {},
   "outputs": [
    {
     "name": "stdout",
     "output_type": "stream",
     "text": [
      "<class 'pandas.core.frame.DataFrame'>\n",
      "RangeIndex: 64 entries, 0 to 63\n",
      "Data columns (total 8 columns):\n",
      " #   Column                  Non-Null Count  Dtype \n",
      "---  ------                  --------------  ----- \n",
      " 0   USA State               64 non-null     object\n",
      " 1   Total Cases             64 non-null     int32 \n",
      " 2   Total Deaths            64 non-null     int32 \n",
      " 3   Active Cases            64 non-null     int32 \n",
      " 4   Total Cases per 1M pop  64 non-null     int32 \n",
      " 5   Deaths per 1M pop       64 non-null     int32 \n",
      " 6   Total Tests             64 non-null     int32 \n",
      " 7   Tests per 1M pop        64 non-null     int32 \n",
      "dtypes: int32(7), object(1)\n",
      "memory usage: 2.4+ KB\n"
     ]
    }
   ],
   "source": [
    "stats.info()"
   ]
  },
  {
   "cell_type": "code",
   "execution_count": 108,
   "metadata": {},
   "outputs": [
    {
     "data": {
      "text/html": [
       "<style  type=\"text/css\" >\n",
       "    #T_9d767ae8_bb83_11ea_9210_98af657cfb40row0_col8 {\n",
       "            background-color:  #7f0000;\n",
       "            color:  #f1f1f1;\n",
       "        }    #T_9d767ae8_bb83_11ea_9210_98af657cfb40row1_col8 {\n",
       "            background-color:  #dd3e2a;\n",
       "            color:  #f1f1f1;\n",
       "        }    #T_9d767ae8_bb83_11ea_9210_98af657cfb40row2_col8 {\n",
       "            background-color:  #ef6548;\n",
       "            color:  #000000;\n",
       "        }    #T_9d767ae8_bb83_11ea_9210_98af657cfb40row3_col8 {\n",
       "            background-color:  #fee4bf;\n",
       "            color:  #000000;\n",
       "        }    #T_9d767ae8_bb83_11ea_9210_98af657cfb40row4_col8 {\n",
       "            background-color:  #fff7ec;\n",
       "            color:  #000000;\n",
       "        }</style><table id=\"T_9d767ae8_bb83_11ea_9210_98af657cfb40\" ><thead>    <tr>        <th class=\"col_heading level0 col0\" >USA State</th>        <th class=\"col_heading level0 col1\" >Total Cases</th>        <th class=\"col_heading level0 col2\" >Total Deaths</th>        <th class=\"col_heading level0 col3\" >Active Cases</th>        <th class=\"col_heading level0 col4\" >Total Cases per 1M pop</th>        <th class=\"col_heading level0 col5\" >Deaths per 1M pop</th>        <th class=\"col_heading level0 col6\" >Total Tests</th>        <th class=\"col_heading level0 col7\" >Tests per 1M pop</th>        <th class=\"col_heading level0 col8\" >dead_rate</th>    </tr></thead><tbody>\n",
       "                <tr>\n",
       "                                <td id=\"T_9d767ae8_bb83_11ea_9210_98af657cfb40row0_col0\" class=\"data row0 col0\" >Connecticut</td>\n",
       "                        <td id=\"T_9d767ae8_bb83_11ea_9210_98af657cfb40row0_col1\" class=\"data row0 col1\" >46514</td>\n",
       "                        <td id=\"T_9d767ae8_bb83_11ea_9210_98af657cfb40row0_col2\" class=\"data row0 col2\" >4322</td>\n",
       "                        <td id=\"T_9d767ae8_bb83_11ea_9210_98af657cfb40row0_col3\" class=\"data row0 col3\" >31220</td>\n",
       "                        <td id=\"T_9d767ae8_bb83_11ea_9210_98af657cfb40row0_col4\" class=\"data row0 col4\" >13046</td>\n",
       "                        <td id=\"T_9d767ae8_bb83_11ea_9210_98af657cfb40row0_col5\" class=\"data row0 col5\" >1212</td>\n",
       "                        <td id=\"T_9d767ae8_bb83_11ea_9210_98af657cfb40row0_col6\" class=\"data row0 col6\" >466394</td>\n",
       "                        <td id=\"T_9d767ae8_bb83_11ea_9210_98af657cfb40row0_col7\" class=\"data row0 col7\" >130815</td>\n",
       "                        <td id=\"T_9d767ae8_bb83_11ea_9210_98af657cfb40row0_col8\" class=\"data row0 col8\" >9.291826</td>\n",
       "            </tr>\n",
       "            <tr>\n",
       "                                <td id=\"T_9d767ae8_bb83_11ea_9210_98af657cfb40row1_col0\" class=\"data row1 col0\" >Michigan</td>\n",
       "                        <td id=\"T_9d767ae8_bb83_11ea_9210_98af657cfb40row1_col1\" class=\"data row1 col1\" >70728</td>\n",
       "                        <td id=\"T_9d767ae8_bb83_11ea_9210_98af657cfb40row1_col2\" class=\"data row1 col2\" >6193</td>\n",
       "                        <td id=\"T_9d767ae8_bb83_11ea_9210_98af657cfb40row1_col3\" class=\"data row1 col3\" >13436</td>\n",
       "                        <td id=\"T_9d767ae8_bb83_11ea_9210_98af657cfb40row1_col4\" class=\"data row1 col4\" >7082</td>\n",
       "                        <td id=\"T_9d767ae8_bb83_11ea_9210_98af657cfb40row1_col5\" class=\"data row1 col5\" >620</td>\n",
       "                        <td id=\"T_9d767ae8_bb83_11ea_9210_98af657cfb40row1_col6\" class=\"data row1 col6\" >1222547</td>\n",
       "                        <td id=\"T_9d767ae8_bb83_11ea_9210_98af657cfb40row1_col7\" class=\"data row1 col7\" >122416</td>\n",
       "                        <td id=\"T_9d767ae8_bb83_11ea_9210_98af657cfb40row1_col8\" class=\"data row1 col8\" >8.756080</td>\n",
       "            </tr>\n",
       "            <tr>\n",
       "                                <td id=\"T_9d767ae8_bb83_11ea_9210_98af657cfb40row2_col0\" class=\"data row2 col0\" >New Jersey</td>\n",
       "                        <td id=\"T_9d767ae8_bb83_11ea_9210_98af657cfb40row2_col1\" class=\"data row2 col1\" >176953</td>\n",
       "                        <td id=\"T_9d767ae8_bb83_11ea_9210_98af657cfb40row2_col2\" class=\"data row2 col2\" >15177</td>\n",
       "                        <td id=\"T_9d767ae8_bb83_11ea_9210_98af657cfb40row2_col3\" class=\"data row2 col3\" >116634</td>\n",
       "                        <td id=\"T_9d767ae8_bb83_11ea_9210_98af657cfb40row2_col4\" class=\"data row2 col4\" >19922</td>\n",
       "                        <td id=\"T_9d767ae8_bb83_11ea_9210_98af657cfb40row2_col5\" class=\"data row2 col5\" >1709</td>\n",
       "                        <td id=\"T_9d767ae8_bb83_11ea_9210_98af657cfb40row2_col6\" class=\"data row2 col6\" >1422374</td>\n",
       "                        <td id=\"T_9d767ae8_bb83_11ea_9210_98af657cfb40row2_col7\" class=\"data row2 col7\" >160138</td>\n",
       "                        <td id=\"T_9d767ae8_bb83_11ea_9210_98af657cfb40row2_col8\" class=\"data row2 col8\" >8.576854</td>\n",
       "            </tr>\n",
       "            <tr>\n",
       "                                <td id=\"T_9d767ae8_bb83_11ea_9210_98af657cfb40row3_col0\" class=\"data row3 col0\" >New York</td>\n",
       "                        <td id=\"T_9d767ae8_bb83_11ea_9210_98af657cfb40row3_col1\" class=\"data row3 col1\" >417836</td>\n",
       "                        <td id=\"T_9d767ae8_bb83_11ea_9210_98af657cfb40row3_col2\" class=\"data row3 col2\" >32129</td>\n",
       "                        <td id=\"T_9d767ae8_bb83_11ea_9210_98af657cfb40row3_col3\" class=\"data row3 col3\" >296232</td>\n",
       "                        <td id=\"T_9d767ae8_bb83_11ea_9210_98af657cfb40row3_col4\" class=\"data row3 col4\" >21479</td>\n",
       "                        <td id=\"T_9d767ae8_bb83_11ea_9210_98af657cfb40row3_col5\" class=\"data row3 col5\" >1652</td>\n",
       "                        <td id=\"T_9d767ae8_bb83_11ea_9210_98af657cfb40row3_col6\" class=\"data row3 col6\" >3914938</td>\n",
       "                        <td id=\"T_9d767ae8_bb83_11ea_9210_98af657cfb40row3_col7\" class=\"data row3 col7\" >201245</td>\n",
       "                        <td id=\"T_9d767ae8_bb83_11ea_9210_98af657cfb40row3_col8\" class=\"data row3 col8\" >7.689381</td>\n",
       "            </tr>\n",
       "            <tr>\n",
       "                                <td id=\"T_9d767ae8_bb83_11ea_9210_98af657cfb40row4_col0\" class=\"data row4 col0\" >Massachusetts</td>\n",
       "                        <td id=\"T_9d767ae8_bb83_11ea_9210_98af657cfb40row4_col1\" class=\"data row4 col1\" >108882</td>\n",
       "                        <td id=\"T_9d767ae8_bb83_11ea_9210_98af657cfb40row4_col2\" class=\"data row4 col2\" >8054</td>\n",
       "                        <td id=\"T_9d767ae8_bb83_11ea_9210_98af657cfb40row4_col3\" class=\"data row4 col3\" >9424</td>\n",
       "                        <td id=\"T_9d767ae8_bb83_11ea_9210_98af657cfb40row4_col4\" class=\"data row4 col4\" >15797</td>\n",
       "                        <td id=\"T_9d767ae8_bb83_11ea_9210_98af657cfb40row4_col5\" class=\"data row4 col5\" >1169</td>\n",
       "                        <td id=\"T_9d767ae8_bb83_11ea_9210_98af657cfb40row4_col6\" class=\"data row4 col6\" >914646</td>\n",
       "                        <td id=\"T_9d767ae8_bb83_11ea_9210_98af657cfb40row4_col7\" class=\"data row4 col7\" >132702</td>\n",
       "                        <td id=\"T_9d767ae8_bb83_11ea_9210_98af657cfb40row4_col8\" class=\"data row4 col8\" >7.396999</td>\n",
       "            </tr>\n",
       "    </tbody></table>"
      ],
      "text/plain": [
       "<pandas.io.formats.style.Styler at 0x2c918789288>"
      ]
     },
     "execution_count": 108,
     "metadata": {},
     "output_type": "execute_result"
    }
   ],
   "source": [
    "# Calculating the death rate at each state in US\n",
    "stats['dead_rate'] = (stats['Total Deaths'] / stats['Total Cases'] * 100)\n",
    "(stats\n",
    "    .sort_values(by='dead_rate', ascending=False)   \n",
    "    .head(5)\n",
    "    .style\n",
    "    .hide_index()\n",
    "    .background_gradient(cmap='OrRd', subset='dead_rate')\n",
    ")"
   ]
  },
  {
   "cell_type": "code",
   "execution_count": 109,
   "metadata": {},
   "outputs": [
    {
     "data": {
      "text/html": [
       "<style  type=\"text/css\" >\n",
       "    #T_9e1f49de_bb83_11ea_9a32_98af657cfb40row0_col9 {\n",
       "            background-color:  #004529;\n",
       "            color:  #f1f1f1;\n",
       "        }    #T_9e1f49de_bb83_11ea_9a32_98af657cfb40row1_col9 {\n",
       "            background-color:  #56b568;\n",
       "            color:  #000000;\n",
       "        }    #T_9e1f49de_bb83_11ea_9a32_98af657cfb40row2_col9 {\n",
       "            background-color:  #66bd70;\n",
       "            color:  #000000;\n",
       "        }    #T_9e1f49de_bb83_11ea_9a32_98af657cfb40row3_col9 {\n",
       "            background-color:  #77c679;\n",
       "            color:  #000000;\n",
       "        }    #T_9e1f49de_bb83_11ea_9a32_98af657cfb40row4_col9 {\n",
       "            background-color:  #ffffe5;\n",
       "            color:  #000000;\n",
       "        }</style><table id=\"T_9e1f49de_bb83_11ea_9a32_98af657cfb40\" ><thead>    <tr>        <th class=\"col_heading level0 col0\" >USA State</th>        <th class=\"col_heading level0 col1\" >Total Cases</th>        <th class=\"col_heading level0 col2\" >Total Deaths</th>        <th class=\"col_heading level0 col3\" >Active Cases</th>        <th class=\"col_heading level0 col4\" >Total Cases per 1M pop</th>        <th class=\"col_heading level0 col5\" >Deaths per 1M pop</th>        <th class=\"col_heading level0 col6\" >Total Tests</th>        <th class=\"col_heading level0 col7\" >Tests per 1M pop</th>        <th class=\"col_heading level0 col8\" >dead_rate</th>        <th class=\"col_heading level0 col9\" >cured_rate</th>    </tr></thead><tbody>\n",
       "                <tr>\n",
       "                                <td id=\"T_9e1f49de_bb83_11ea_9a32_98af657cfb40row0_col0\" class=\"data row0 col0\" >United States Virgin Islands</td>\n",
       "                        <td id=\"T_9e1f49de_bb83_11ea_9a32_98af657cfb40row0_col1\" class=\"data row0 col1\" >84</td>\n",
       "                        <td id=\"T_9e1f49de_bb83_11ea_9a32_98af657cfb40row0_col2\" class=\"data row0 col2\" >6</td>\n",
       "                        <td id=\"T_9e1f49de_bb83_11ea_9a32_98af657cfb40row0_col3\" class=\"data row0 col3\" >5</td>\n",
       "                        <td id=\"T_9e1f49de_bb83_11ea_9a32_98af657cfb40row0_col4\" class=\"data row0 col4\" >0</td>\n",
       "                        <td id=\"T_9e1f49de_bb83_11ea_9a32_98af657cfb40row0_col5\" class=\"data row0 col5\" >0</td>\n",
       "                        <td id=\"T_9e1f49de_bb83_11ea_9a32_98af657cfb40row0_col6\" class=\"data row0 col6\" >2907</td>\n",
       "                        <td id=\"T_9e1f49de_bb83_11ea_9a32_98af657cfb40row0_col7\" class=\"data row0 col7\" >0</td>\n",
       "                        <td id=\"T_9e1f49de_bb83_11ea_9a32_98af657cfb40row0_col8\" class=\"data row0 col8\" >7.142857</td>\n",
       "                        <td id=\"T_9e1f49de_bb83_11ea_9a32_98af657cfb40row0_col9\" class=\"data row0 col9\" >94.047619</td>\n",
       "            </tr>\n",
       "            <tr>\n",
       "                                <td id=\"T_9e1f49de_bb83_11ea_9a32_98af657cfb40row1_col0\" class=\"data row1 col0\" >North Dakota</td>\n",
       "                        <td id=\"T_9e1f49de_bb83_11ea_9a32_98af657cfb40row1_col1\" class=\"data row1 col1\" >3576</td>\n",
       "                        <td id=\"T_9e1f49de_bb83_11ea_9a32_98af657cfb40row1_col2\" class=\"data row1 col2\" >79</td>\n",
       "                        <td id=\"T_9e1f49de_bb83_11ea_9a32_98af657cfb40row1_col3\" class=\"data row1 col3\" >302</td>\n",
       "                        <td id=\"T_9e1f49de_bb83_11ea_9a32_98af657cfb40row1_col4\" class=\"data row1 col4\" >4693</td>\n",
       "                        <td id=\"T_9e1f49de_bb83_11ea_9a32_98af657cfb40row1_col5\" class=\"data row1 col5\" >104</td>\n",
       "                        <td id=\"T_9e1f49de_bb83_11ea_9a32_98af657cfb40row1_col6\" class=\"data row1 col6\" >106122</td>\n",
       "                        <td id=\"T_9e1f49de_bb83_11ea_9a32_98af657cfb40row1_col7\" class=\"data row1 col7\" >139256</td>\n",
       "                        <td id=\"T_9e1f49de_bb83_11ea_9a32_98af657cfb40row1_col8\" class=\"data row1 col8\" >2.209172</td>\n",
       "                        <td id=\"T_9e1f49de_bb83_11ea_9a32_98af657cfb40row1_col9\" class=\"data row1 col9\" >91.554810</td>\n",
       "            </tr>\n",
       "            <tr>\n",
       "                                <td id=\"T_9e1f49de_bb83_11ea_9a32_98af657cfb40row2_col0\" class=\"data row2 col0\" >Massachusetts</td>\n",
       "                        <td id=\"T_9e1f49de_bb83_11ea_9a32_98af657cfb40row2_col1\" class=\"data row2 col1\" >108882</td>\n",
       "                        <td id=\"T_9e1f49de_bb83_11ea_9a32_98af657cfb40row2_col2\" class=\"data row2 col2\" >8054</td>\n",
       "                        <td id=\"T_9e1f49de_bb83_11ea_9a32_98af657cfb40row2_col3\" class=\"data row2 col3\" >9424</td>\n",
       "                        <td id=\"T_9e1f49de_bb83_11ea_9a32_98af657cfb40row2_col4\" class=\"data row2 col4\" >15797</td>\n",
       "                        <td id=\"T_9e1f49de_bb83_11ea_9a32_98af657cfb40row2_col5\" class=\"data row2 col5\" >1169</td>\n",
       "                        <td id=\"T_9e1f49de_bb83_11ea_9a32_98af657cfb40row2_col6\" class=\"data row2 col6\" >914646</td>\n",
       "                        <td id=\"T_9e1f49de_bb83_11ea_9a32_98af657cfb40row2_col7\" class=\"data row2 col7\" >132702</td>\n",
       "                        <td id=\"T_9e1f49de_bb83_11ea_9a32_98af657cfb40row2_col8\" class=\"data row2 col8\" >7.396999</td>\n",
       "                        <td id=\"T_9e1f49de_bb83_11ea_9a32_98af657cfb40row2_col9\" class=\"data row2 col9\" >91.344759</td>\n",
       "            </tr>\n",
       "            <tr>\n",
       "                                <td id=\"T_9e1f49de_bb83_11ea_9a32_98af657cfb40row3_col0\" class=\"data row3 col0\" >Minnesota</td>\n",
       "                        <td id=\"T_9e1f49de_bb83_11ea_9a32_98af657cfb40row3_col1\" class=\"data row3 col1\" >36303</td>\n",
       "                        <td id=\"T_9e1f49de_bb83_11ea_9a32_98af657cfb40row3_col2\" class=\"data row3 col2\" >1476</td>\n",
       "                        <td id=\"T_9e1f49de_bb83_11ea_9a32_98af657cfb40row3_col3\" class=\"data row3 col3\" >3226</td>\n",
       "                        <td id=\"T_9e1f49de_bb83_11ea_9a32_98af657cfb40row3_col4\" class=\"data row3 col4\" >6437</td>\n",
       "                        <td id=\"T_9e1f49de_bb83_11ea_9a32_98af657cfb40row3_col5\" class=\"data row3 col5\" >262</td>\n",
       "                        <td id=\"T_9e1f49de_bb83_11ea_9a32_98af657cfb40row3_col6\" class=\"data row3 col6\" >605316</td>\n",
       "                        <td id=\"T_9e1f49de_bb83_11ea_9a32_98af657cfb40row3_col7\" class=\"data row3 col7\" >107333</td>\n",
       "                        <td id=\"T_9e1f49de_bb83_11ea_9a32_98af657cfb40row3_col8\" class=\"data row3 col8\" >4.065780</td>\n",
       "                        <td id=\"T_9e1f49de_bb83_11ea_9a32_98af657cfb40row3_col9\" class=\"data row3 col9\" >91.113682</td>\n",
       "            </tr>\n",
       "            <tr>\n",
       "                                <td id=\"T_9e1f49de_bb83_11ea_9a32_98af657cfb40row4_col0\" class=\"data row4 col0\" >South Dakota</td>\n",
       "                        <td id=\"T_9e1f49de_bb83_11ea_9a32_98af657cfb40row4_col1\" class=\"data row4 col1\" >6764</td>\n",
       "                        <td id=\"T_9e1f49de_bb83_11ea_9a32_98af657cfb40row4_col2\" class=\"data row4 col2\" >91</td>\n",
       "                        <td id=\"T_9e1f49de_bb83_11ea_9a32_98af657cfb40row4_col3\" class=\"data row4 col3\" >801</td>\n",
       "                        <td id=\"T_9e1f49de_bb83_11ea_9a32_98af657cfb40row4_col4\" class=\"data row4 col4\" >7646</td>\n",
       "                        <td id=\"T_9e1f49de_bb83_11ea_9a32_98af657cfb40row4_col5\" class=\"data row4 col5\" >103</td>\n",
       "                        <td id=\"T_9e1f49de_bb83_11ea_9a32_98af657cfb40row4_col6\" class=\"data row4 col6\" >80088</td>\n",
       "                        <td id=\"T_9e1f49de_bb83_11ea_9a32_98af657cfb40row4_col7\" class=\"data row4 col7\" >90530</td>\n",
       "                        <td id=\"T_9e1f49de_bb83_11ea_9a32_98af657cfb40row4_col8\" class=\"data row4 col8\" >1.345358</td>\n",
       "                        <td id=\"T_9e1f49de_bb83_11ea_9a32_98af657cfb40row4_col9\" class=\"data row4 col9\" >88.157895</td>\n",
       "            </tr>\n",
       "    </tbody></table>"
      ],
      "text/plain": [
       "<pandas.io.formats.style.Styler at 0x2c91878fd48>"
      ]
     },
     "execution_count": 109,
     "metadata": {},
     "output_type": "execute_result"
    }
   ],
   "source": [
    "# Calculating the cured rate at each state in US\n",
    "stats['cured_rate'] = ((stats['Total Cases'] - stats['Active Cases'])/ stats['Total Cases'] * 100)\n",
    "(stats\n",
    "    .sort_values(by='cured_rate', ascending=False)   \n",
    "    .head(5)\n",
    "    .style\n",
    "    .hide_index()\n",
    "    .background_gradient(cmap='YlGn', subset='cured_rate')\n",
    ")"
   ]
  },
  {
   "cell_type": "markdown",
   "metadata": {},
   "source": [
    "##### Exercise 2: To Pull the data from API"
   ]
  },
  {
   "cell_type": "markdown",
   "metadata": {},
   "source": [
    "Notes for extracting the data from API <br>\n",
    "To pull or access the data through API, need host & key for the API. There can be few public APIs with no authenticaion required. "
   ]
  },
  {
   "cell_type": "code",
   "execution_count": 111,
   "metadata": {},
   "outputs": [
    {
     "name": "stdout",
     "output_type": "stream",
     "text": [
      "Status 200\n"
     ]
    }
   ],
   "source": [
    "DATA_URL = 'https://rapidapi.com/ZermeloTechnologies/api/covid-19-usa-data-by-zt'\n",
    "\n",
    "r = requests.get(DATA_URL)\n",
    "print(f'Status {r.status_code}')"
   ]
  },
  {
   "cell_type": "code",
   "execution_count": 112,
   "metadata": {},
   "outputs": [
    {
     "name": "stdout",
     "output_type": "stream",
     "text": [
      "{\"statusMsg\":\"OK\",\"data\":[{\"code\":\"MO\",\"name\":\"Missouri\",\"active\":\"19996\",\"deaths\":\"1005\",\"tested\":\"373007\",\"confirmed\":\"21001\",\"newdeaths\":\"1\",\"newtested\":\"5601\",\"recovered\":\"0\",\"newconfirmed\":\"176\",\"newrecovered\":\"0\",\"lastupdatedtime\":\"2020-07-01 04:34:05\"},{\"code\":\"VT\",\"name\":\"Vermont\",\"active\":\"199\",\"deaths\":\"56\",\"tested\":\"65764\",\"confirmed\":\"1208\",\"newdeaths\":\"0\",\"newtested\":\"771\",\"recovered\":\"953\",\"newconfirmed\":\"0\",\"newrecovered\":\"4\",\"lastupdatedtime\":\"2020-07-01 04:34:05\"},{\"code\":\"MN\",\"name\":\"Minnesota\",\"active\":\"3226\",\"deaths\":\"1476\",\"tested\":\"605316\",\"confirmed\":\"36303\",\"newdeaths\":\"6\",\"newtested\":\"12361\",\"recovered\":\"31601\",\"newconfirmed\":\"442\",\"newrecovered\":\"376\",\"lastupdatedtime\":\"2020-07-01 04:34:05\"},{\"code\":\"DE\",\"name\":\"Delaware\",\"active\":\"4298\",\"deaths\":\"509\",\"tested\":\"110881\",\"confirmed\":\"11474\",\"newdeaths\":\"2\",\"newtested\":\"950\",\"recovered\":\"6667\",\"newconfirmed\":\"98\",\"newrecovered\":\"2\",\"lastupdatedtime\":\"2020-07-01 04:34:05\"},{\"code\":\"MI\",\"name\":\"Michigan\",\"active\":\"13436\",\"deaths\":\"6193\",\"tested\":\"1045057\",\"confirmed\":\"70728\",\"newdeaths\":\"32\",\"newtested\":\"15682\",\"recovered\":\"51099\",\"newconfirmed\":\"505\",\"newrecovered\":\"0\",\"lastupdatedtime\":\"2020-07-01 04:34:05\"},{\"code\":\"GA\",\"name\":\"Georgia\",\"active\":\"78486\",\"deaths\":\"2805\",\"tested\":\"833878\",\"confirmed\":\"81291\",\"newdeaths\":\"21\",\"newtested\":\"10761\",\"recovered\":\"0\",\"newconfirmed\":\"1874\",\"newrecovered\":\"0\",\"lastupdatedtime\":\"2020-07-01 04:34:05\"},{\"code\":\"ME\",\"name\":\"Maine\",\"active\":\"502\",\"deaths\":\"105\",\"tested\":\"94952\",\"confirmed\":\"3253\",\"newdeaths\":\"0\",\"newtested\":\"1429\",\"recovered\":\"2646\",\"newconfirmed\":\"34\",\"newrecovered\":\"23\",\"lastupdatedtime\":\"2020-07-01 04:34:05\"},{\"code\":\"MD\",\"name\":\"Maryland\",\"active\":\"59387\",\"deaths\":\"3190\",\"tested\":\"535855\",\"confirmed\":\"67559\",\"newdeaths\":\"15\",\"newtested\":\"6542\",\"recovered\":\"4982\",\"newconfirmed\":\"305\",\"newrecovered\":\"3\",\"lastupdatedtime\":\"2020-07-01 04:34:05\"},{\"code\":\"MA\",\"name\":\"Massachusetts\",\"active\":\"100829\",\"deaths\":\"8053\",\"tested\":\"848141\",\"confirmed\":\"108882\",\"newdeaths\":\"0\",\"newtested\":\"5854\",\"recovered\":\"0\",\"newconfirmed\":\"114\",\"newrecovered\":\"0\",\"lastupdatedtime\":\"2020-07-01 04:34:05\"},{\"code\":\"SD\",\"name\":\"South Dakota\",\"active\":\"801\",\"deaths\":\"91\",\"tested\":\"80088\",\"confirmed\":\"6764\",\"newdeaths\":\"0\",\"newtested\":\"631\",\"recovered\":\"5872\",\"newconfirmed\":\"48\",\"newrecovered\":\"54\",\"lastupdatedtime\":\"2020-07-01 04:34:05\"},{\"code\":\"SC\",\"name\":\"South Carolina\",\"active\":\"20189\",\"deaths\":\"739\",\"tested\":\"380572\",\"confirmed\":\"36399\",\"newdeaths\":\"19\",\"newtested\":\"11267\",\"recovered\":\"15471\",\"newconfirmed\":\"1755\",\"newrecovered\":\"2015\",\"lastupdatedtime\":\"2020-07-01 04:34:05\"},{\"code\":\"PA\",\"name\":\"Pennsylvania\",\"active\":\"16938\",\"deaths\":\"6649\",\"tested\":\"764187\",\"confirmed\":\"91139\",\"newdeaths\":\"35\",\"newtested\":\"11298\",\"recovered\":\"67552\",\"newconfirmed\":\"672\",\"newrecovered\":\"482\",\"lastupdatedtime\":\"2020-07-01 04:34:05\"},{\"code\":\"VA\",\"name\":\"Virginia\",\"active\":\"52944\",\"deaths\":\"1763\",\"tested\":\"645034\",\"confirmed\":\"62787\",\"newdeaths\":\"23\",\"newtested\":\"8662\",\"recovered\":\"8080\",\"newconfirmed\":\"598\",\"newrecovered\":\"57\",\"lastupdatedtime\":\"2020-07-01 04:34:05\"},{\"code\":\"CT\",\"name\":\"Connecticut\",\"active\":\"34139\",\"deaths\":\"4322\",\"tested\":\"466394\",\"confirmed\":\"46514\",\"newdeaths\":\"2\",\"newtested\":\"21418\",\"recovered\":\"8053\",\"newconfirmed\":\"152\",\"newrecovered\":\"0\",\"lastupdatedtime\":\"2020-07-01 04:34:05\"},{\"code\":\"CO\",\"name\":\"Colorado\",\"active\":\"26529\",\"deaths\":\"1690\",\"tested\":\"323857\",\"confirmed\":\"32698\",\"newdeaths\":\"9\",\"newtested\":\"4292\",\"recovered\":\"4479\",\"newconfirmed\":\"204\",\"newrecovered\":\"20\",\"lastupdatedtime\":\"2020-07-01 04:34:05\"},{\"code\":\"OR\",\"name\":\"Oregon\",\"active\":\"5727\",\"deaths\":\"207\",\"tested\":\"237634\",\"confirmed\":\"8656\",\"newdeaths\":\"3\",\"newtested\":\"2501\",\"recovered\":\"2722\",\"newconfirmed\":\"171\",\"newrecovered\":\"22\",\"lastupdatedtime\":\"2020-07-01 04:34:05\"},{\"code\":\"FL\",\"name\":\"Florida\",\"active\":\"148929\",\"deaths\":\"3505\",\"tested\":\"1944995\",\"confirmed\":\"152434\",\"newdeaths\":\"58\",\"newtested\":\"32252\",\"recovered\":\"0\",\"newconfirmed\":\"6093\",\"newrecovered\":\"0\",\"lastupdatedtime\":\"2020-07-01 04:34:05\"},{\"code\":\"IN\",\"name\":\"Indiana\",\"active\":\"8308\",\"deaths\":\"2640\",\"tested\":\"484196\",\"confirmed\":\"45594\",\"newdeaths\":\"16\",\"newtested\":\"7677\",\"recovered\":\"34646\",\"newconfirmed\":\"366\",\"newrecovered\":\"298\",\"lastupdatedtime\":\"2020-07-01 04:34:05\"},{\"code\":\"UT\",\"name\":\"Utah\",\"active\":\"9647\",\"deaths\":\"172\",\"tested\":\"340753\",\"confirmed\":\"22217\",\"newdeaths\":\"4\",\"newtested\":\"6848\",\"recovered\":\"12398\",\"newconfirmed\":\"553\",\"newrecovered\":\"193\",\"lastupdatedtime\":\"2020-07-01 04:34:05\"},{\"code\":\"IL\",\"name\":\"Illinois\",\"active\":\"136262\",\"deaths\":\"6923\",\"tested\":\"1604018\",\"confirmed\":\"143185\",\"newdeaths\":\"21\",\"newtested\":\"31069\",\"recovered\":\"0\",\"newconfirmed\":\"724\",\"newrecovered\":\"0\",\"lastupdatedtime\":\"2020-07-01 04:34:05\"},{\"code\":\"OK\",\"name\":\"Oklahoma\",\"active\":\"3285\",\"deaths\":\"387\",\"tested\":\"341597\",\"confirmed\":\"13757\",\"newdeaths\":\"2\",\"newtested\":\"15404\",\"recovered\":\"10085\",\"newconfirmed\":\"582\",\"newrecovered\":\"498\",\"lastupdatedtime\":\"2020-07-01 04:34:05\"},{\"code\":\"CA\",\"name\":\"California\",\"active\":\"225150\",\"deaths\":\"6082\",\"tested\":\"4167139\",\"confirmed\":\"231232\",\"newdeaths\":\"99\",\"newtested\":\"105447\",\"recovered\":\"0\",\"newconfirmed\":\"7586\",\"newrecovered\":\"0\",\"lastupdatedtime\":\"2020-07-01 04:34:05\"},{\"code\":\"ID\",\"name\":\"Idaho\",\"active\":\"1952\",\"deaths\":\"92\",\"tested\":\"89303\",\"confirmed\":\"6117\",\"newdeaths\":\"1\",\"newtested\":\"2958\",\"recovered\":\"4073\",\"newconfirmed\":\"365\",\"newrecovered\":\"175\",\"lastupdatedtime\":\"2020-07-01 04:34:05\"},{\"code\":\"OH\",\"name\":\"Ohio\",\"active\":\"48926\",\"deaths\":\"2863\",\"tested\":\"787929\",\"confirmed\":\"51789\",\"newdeaths\":\"45\",\"newtested\":\"13547\",\"recovered\":\"0\",\"newconfirmed\":\"743\",\"newrecovered\":\"0\",\"lastupdatedtime\":\"2020-07-01 04:34:05\"},{\"code\":\"RI\",\"name\":\"Rhode Island\",\"active\":\"14232\",\"deaths\":\"950\",\"tested\":\"242282\",\"confirmed\":\"16813\",\"newdeaths\":\"4\",\"newtested\":\"3762\",\"recovered\":\"1631\",\"newconfirmed\":\"49\",\"newrecovered\":\"4\",\"lastupdatedtime\":\"2020-07-01 04:34:05\"},{\"code\":\"IA\",\"name\":\"Iowa\",\"active\":\"5146\",\"deaths\":\"716\",\"tested\":\"304188\",\"confirmed\":\"29074\",\"newdeaths\":\"5\",\"newtested\":\"3343\",\"recovered\":\"23212\",\"newconfirmed\":\"229\",\"newrecovered\":\"5361\",\"lastupdatedtime\":\"2020-07-01 04:34:05\"},{\"code\":\"LA\",\"name\":\"Louisiana\",\"active\":\"12649\",\"deaths\":\"3221\",\"tested\":\"728511\",\"confirmed\":\"58095\",\"newdeaths\":\"22\",\"newtested\":\"23874\",\"recovered\":\"42225\",\"newconfirmed\":\"1014\",\"newrecovered\":\"0\",\"lastupdatedtime\":\"2020-07-01 04:34:05\"},{\"code\":\"KY\",\"name\":\"Kentucky\",\"active\":\"11069\",\"deaths\":\"565\",\"tested\":\"370934\",\"confirmed\":\"15624\",\"newdeaths\":\"5\",\"newtested\":\"9493\",\"recovered\":\"3990\",\"newconfirmed\":\"277\",\"newrecovered\":\"51\",\"lastupdatedtime\":\"2020-07-01 04:34:05\"},{\"code\":\"NY\",\"name\":\"New York\",\"active\":\"290935\",\"deaths\":\"32032\",\"tested\":\"3914938\",\"confirmed\":\"393454\",\"newdeaths\":\"629\",\"newtested\":\"52025\",\"recovered\":\"70487\",\"newconfirmed\":\"51\",\"newrecovered\":\"52\",\"lastupdatedtime\":\"2020-07-01 04:34:05\"},{\"code\":\"NV\",\"name\":\"Nevada\",\"active\":\"17260\",\"deaths\":\"507\",\"tested\":\"277568\",\"confirmed\":\"18456\",\"newdeaths\":\"3\",\"newtested\":\"4551\",\"recovered\":\"689\",\"newconfirmed\":\"562\",\"newrecovered\":\"0\",\"lastupdatedtime\":\"2020-07-01 04:34:05\"},{\"code\":\"KS\",\"name\":\"Kansas\",\"active\":\"13303\",\"deaths\":\"273\",\"tested\":\"176725\",\"confirmed\":\"14370\",\"newdeaths\":\"0\",\"newtested\":\"0\",\"recovered\":\"794\",\"newconfirmed\":\"161\",\"newrecovered\":\"0\",\"lastupdatedtime\":\"2020-07-01 04:34:05\"},{\"code\":\"TX\",\"name\":\"Texas\",\"active\":\"75787\",\"deaths\":\"2455\",\"tested\":\"1869282\",\"confirmed\":\"163060\",\"newdeaths\":\"39\",\"newtested\":\"50093\",\"recovered\":\"84818\",\"newconfirmed\":\"6354\",\"newrecovered\":\"3483\",\"lastupdatedtime\":\"2020-07-01 04:34:05\"},{\"code\":\"WY\",\"name\":\"Wyoming\",\"active\":\"370\",\"deaths\":\"20\",\"tested\":\"33672\",\"confirmed\":\"1487\",\"newdeaths\":\"0\",\"newtested\":\"1816\",\"recovered\":\"1097\",\"newconfirmed\":\"37\",\"newrecovered\":\"27\",\"lastupdatedtime\":\"2020-07-01 04:34:05\"},{\"code\":\"WV\",\"name\":\"West Virginia\",\"active\":\"540\",\"deaths\":\"93\",\"tested\":\"171764\",\"confirmed\":\"2905\",\"newdeaths\":\"0\",\"newtested\":\"2109\",\"recovered\":\"2272\",\"newconfirmed\":\"35\",\"newrecovered\":\"76\",\"lastupdatedtime\":\"2020-07-01 04:34:05\"},{\"code\":\"HI\",\"name\":\"Hawaii\",\"active\":\"177\",\"deaths\":\"18\",\"tested\":\"77743\",\"confirmed\":\"917\",\"newdeaths\":\"0\",\"newtested\":\"588\",\"recovered\":\"722\",\"newconfirmed\":\"17\",\"newrecovered\":\"3\",\"lastupdatedtime\":\"2020-07-01 04:34:05\"},{\"code\":\"NM\",\"name\":\"New Mexico\",\"active\":\"6354\",\"deaths\":\"497\",\"tested\":\"337720\",\"confirmed\":\"12147\",\"newdeaths\":\"4\",\"newtested\":\"6672\",\"recovered\":\"5296\",\"newconfirmed\":\"165\",\"newrecovered\":\"32\",\"lastupdatedtime\":\"2020-07-01 04:34:05\"},{\"code\":\"TN\",\"name\":\"Tennessee\",\"active\":\"15306\",\"deaths\":\"604\",\"tested\":\"793127\",\"confirmed\":\"43509\",\"newdeaths\":\"12\",\"newtested\":\"15921\",\"recovered\":\"27599\",\"newconfirmed\":\"1212\",\"newrecovered\":\"637\",\"lastupdatedtime\":\"2020-07-01 04:34:05\"},{\"code\":\"NJ\",\"name\":\"New Jersey\",\"active\":\"126419\",\"deaths\":\"15035\",\"tested\":\"1422374\",\"confirmed\":\"171667\",\"newdeaths\":\"43\",\"newtested\":\"18390\",\"recovered\":\"30213\",\"newconfirmed\":\"395\",\"newrecovered\":\"50\",\"lastupdatedtime\":\"2020-07-01 04:34:05\"},{\"code\":\"NH\",\"name\":\"New Hampshire\",\"active\":\"976\",\"deaths\":\"371\",\"tested\":\"118298\",\"confirmed\":\"5782\",\"newdeaths\":\"4\",\"newtested\":\"0\",\"recovered\":\"4435\",\"newconfirmed\":\"22\",\"newrecovered\":\"0\",\"lastupdatedtime\":\"2020-07-01 04:34:05\"},{\"code\":\"NE\",\"name\":\"Nebraska\",\"active\":\"5356\",\"deaths\":\"274\",\"tested\":\"178157\",\"confirmed\":\"19177\",\"newdeaths\":\"5\",\"newtested\":\"2885\",\"recovered\":\"13547\",\"newconfirmed\":\"135\",\"newrecovered\":\"225\",\"lastupdatedtime\":\"2020-07-01 04:34:05\"},{\"code\":\"ND\",\"name\":\"North Dakota\",\"active\":\"302\",\"deaths\":\"79\",\"tested\":\"106122\",\"confirmed\":\"3576\",\"newdeaths\":\"0\",\"newtested\":\"431\",\"recovered\":\"3195\",\"newconfirmed\":\"37\",\"newrecovered\":\"32\",\"lastupdatedtime\":\"2020-07-01 04:34:05\"},{\"code\":\"WI\",\"name\":\"Wisconsin\",\"active\":\"5288\",\"deaths\":\"784\",\"tested\":\"571201\",\"confirmed\":\"28659\",\"newdeaths\":\"7\",\"newtested\":\"12809\",\"recovered\":\"22587\",\"newconfirmed\":\"601\",\"newrecovered\":\"370\",\"lastupdatedtime\":\"2020-07-01 04:34:05\"},{\"code\":\"AZ\",\"name\":\"Arizona\",\"active\":\"68172\",\"deaths\":\"1645\",\"tested\":\"532356\",\"confirmed\":\"79228\",\"newdeaths\":\"47\",\"newtested\":\"20933\",\"recovered\":\"9411\",\"newconfirmed\":\"4683\",\"newrecovered\":\"232\",\"lastupdatedtime\":\"2020-07-01 04:34:05\"},{\"code\":\"NC\",\"name\":\"North Carolina\",\"active\":\"18409\",\"deaths\":\"1380\",\"tested\":\"910033\",\"confirmed\":\"65327\",\"newdeaths\":\"23\",\"newtested\":\"23728\",\"recovered\":\"45538\",\"newconfirmed\":\"1591\",\"newrecovered\":\"0\",\"lastupdatedtime\":\"2020-07-01 04:34:05\"},{\"code\":\"WA\",\"name\":\"Washington\",\"active\":\"31492\",\"deaths\":\"1332\",\"tested\":\"548220\",\"confirmed\":\"32824\",\"newdeaths\":\"12\",\"newtested\":\"13777\",\"recovered\":\"0\",\"newconfirmed\":\"571\",\"newrecovered\":\"0\",\"lastupdatedtime\":\"2020-07-01 04:34:05\"},{\"code\":\"AR\",\"name\":\"Arkansas\",\"active\":\"5976\",\"deaths\":\"270\",\"tested\":\"311203\",\"confirmed\":\"20777\",\"newdeaths\":\"5\",\"newtested\":\"8667\",\"recovered\":\"14531\",\"newconfirmed\":\"520\",\"newrecovered\":\"465\",\"lastupdatedtime\":\"2020-07-01 04:34:05\"},{\"code\":\"AL\",\"name\":\"Alabama\",\"active\":\"18229\",\"deaths\":\"950\",\"tested\":\"406652\",\"confirmed\":\"38045\",\"newdeaths\":\"21\",\"newtested\":\"13359\",\"recovered\":\"18866\",\"newconfirmed\":\"870\",\"newrecovered\":\"0\",\"lastupdatedtime\":\"2020-07-01 04:34:05\"},{\"code\":\"MT\",\"name\":\"Montana\",\"active\":\"303\",\"deaths\":\"22\",\"tested\":\"90861\",\"confirmed\":\"967\",\"newdeaths\":\"0\",\"newtested\":\"2118\",\"recovered\":\"642\",\"newconfirmed\":\"48\",\"newrecovered\":\"33\",\"lastupdatedtime\":\"2020-07-01 04:34:05\"},{\"code\":\"AK\",\"name\":\"Alaska\",\"active\":\"397\",\"deaths\":\"14\",\"tested\":\"112185\",\"confirmed\":\"937\",\"newdeaths\":\"0\",\"newtested\":\"3476\",\"recovered\":\"526\",\"newconfirmed\":\"36\",\"newrecovered\":\"1\",\"lastupdatedtime\":\"2020-07-01 04:34:05\"},{\"code\":\"MS\",\"name\":\"Mississippi\",\"active\":\"6786\",\"deaths\":\"1073\",\"tested\":\"299691\",\"confirmed\":\"27247\",\"newdeaths\":\"14\",\"newtested\":\"16169\",\"recovered\":\"19388\",\"newconfirmed\":\"680\",\"newrecovered\":\"0\",\"lastupdatedtime\":\"2020-07-01 04:34:05\"}]}\n"
     ]
    }
   ],
   "source": [
    "#url = \"https://covid-19-usa-data-by-zt.p.rapidapi.com/GetUSStateWiseData\"\n",
    "\n",
    "headers = {\n",
    "    'x-rapidapi-host': \"covid-19-usa-data-by-zt.p.rapidapi.com\",\n",
    "    'x-rapidapi-key': \"e4a0f5191dmsh32f12c91288b7ffp11a5adjsn38b664d6d513\"\n",
    "    }\n",
    "\n",
    "response = requests.request(\"GET\", url, headers=headers)\n",
    "\n",
    "print(response.text)"
   ]
  },
  {
   "cell_type": "code",
   "execution_count": 113,
   "metadata": {},
   "outputs": [
    {
     "data": {
      "text/plain": [
       "requests.models.Response"
      ]
     },
     "execution_count": 113,
     "metadata": {},
     "output_type": "execute_result"
    }
   ],
   "source": [
    "type(response)"
   ]
  },
  {
   "cell_type": "code",
   "execution_count": 114,
   "metadata": {},
   "outputs": [
    {
     "data": {
      "text/html": [
       "<div>\n",
       "<style scoped>\n",
       "    .dataframe tbody tr th:only-of-type {\n",
       "        vertical-align: middle;\n",
       "    }\n",
       "\n",
       "    .dataframe tbody tr th {\n",
       "        vertical-align: top;\n",
       "    }\n",
       "\n",
       "    .dataframe thead th {\n",
       "        text-align: right;\n",
       "    }\n",
       "</style>\n",
       "<table border=\"1\" class=\"dataframe\">\n",
       "  <thead>\n",
       "    <tr style=\"text-align: right;\">\n",
       "      <th></th>\n",
       "      <th>code</th>\n",
       "      <th>name</th>\n",
       "      <th>active</th>\n",
       "      <th>deaths</th>\n",
       "      <th>tested</th>\n",
       "      <th>confirmed</th>\n",
       "      <th>newdeaths</th>\n",
       "      <th>newtested</th>\n",
       "      <th>recovered</th>\n",
       "      <th>newconfirmed</th>\n",
       "      <th>newrecovered</th>\n",
       "      <th>lastupdatedtime</th>\n",
       "    </tr>\n",
       "  </thead>\n",
       "  <tbody>\n",
       "    <tr>\n",
       "      <th>0</th>\n",
       "      <td>MO</td>\n",
       "      <td>Missouri</td>\n",
       "      <td>19996</td>\n",
       "      <td>1005</td>\n",
       "      <td>373007</td>\n",
       "      <td>21001</td>\n",
       "      <td>1</td>\n",
       "      <td>5601</td>\n",
       "      <td>0</td>\n",
       "      <td>176</td>\n",
       "      <td>0</td>\n",
       "      <td>2020-07-01 04:34:05</td>\n",
       "    </tr>\n",
       "    <tr>\n",
       "      <th>1</th>\n",
       "      <td>VT</td>\n",
       "      <td>Vermont</td>\n",
       "      <td>199</td>\n",
       "      <td>56</td>\n",
       "      <td>65764</td>\n",
       "      <td>1208</td>\n",
       "      <td>0</td>\n",
       "      <td>771</td>\n",
       "      <td>953</td>\n",
       "      <td>0</td>\n",
       "      <td>4</td>\n",
       "      <td>2020-07-01 04:34:05</td>\n",
       "    </tr>\n",
       "    <tr>\n",
       "      <th>2</th>\n",
       "      <td>MN</td>\n",
       "      <td>Minnesota</td>\n",
       "      <td>3226</td>\n",
       "      <td>1476</td>\n",
       "      <td>605316</td>\n",
       "      <td>36303</td>\n",
       "      <td>6</td>\n",
       "      <td>12361</td>\n",
       "      <td>31601</td>\n",
       "      <td>442</td>\n",
       "      <td>376</td>\n",
       "      <td>2020-07-01 04:34:05</td>\n",
       "    </tr>\n",
       "    <tr>\n",
       "      <th>3</th>\n",
       "      <td>DE</td>\n",
       "      <td>Delaware</td>\n",
       "      <td>4298</td>\n",
       "      <td>509</td>\n",
       "      <td>110881</td>\n",
       "      <td>11474</td>\n",
       "      <td>2</td>\n",
       "      <td>950</td>\n",
       "      <td>6667</td>\n",
       "      <td>98</td>\n",
       "      <td>2</td>\n",
       "      <td>2020-07-01 04:34:05</td>\n",
       "    </tr>\n",
       "    <tr>\n",
       "      <th>4</th>\n",
       "      <td>MI</td>\n",
       "      <td>Michigan</td>\n",
       "      <td>13436</td>\n",
       "      <td>6193</td>\n",
       "      <td>1045057</td>\n",
       "      <td>70728</td>\n",
       "      <td>32</td>\n",
       "      <td>15682</td>\n",
       "      <td>51099</td>\n",
       "      <td>505</td>\n",
       "      <td>0</td>\n",
       "      <td>2020-07-01 04:34:05</td>\n",
       "    </tr>\n",
       "  </tbody>\n",
       "</table>\n",
       "</div>"
      ],
      "text/plain": [
       "  code       name active deaths   tested confirmed newdeaths newtested  \\\n",
       "0   MO   Missouri  19996   1005   373007     21001         1      5601   \n",
       "1   VT    Vermont    199     56    65764      1208         0       771   \n",
       "2   MN  Minnesota   3226   1476   605316     36303         6     12361   \n",
       "3   DE   Delaware   4298    509   110881     11474         2       950   \n",
       "4   MI   Michigan  13436   6193  1045057     70728        32     15682   \n",
       "\n",
       "  recovered newconfirmed newrecovered      lastupdatedtime  \n",
       "0         0          176            0  2020-07-01 04:34:05  \n",
       "1       953            0            4  2020-07-01 04:34:05  \n",
       "2     31601          442          376  2020-07-01 04:34:05  \n",
       "3      6667           98            2  2020-07-01 04:34:05  \n",
       "4     51099          505            0  2020-07-01 04:34:05  "
      ]
     },
     "execution_count": 114,
     "metadata": {},
     "output_type": "execute_result"
    }
   ],
   "source": [
    "# Extracting the data from the 'Response' variable.\n",
    "api = response.json()\n",
    "\n",
    "New_Data = pd.DataFrame(api['data'])\n",
    "New_Data.head()"
   ]
  },
  {
   "cell_type": "code",
   "execution_count": 115,
   "metadata": {},
   "outputs": [
    {
     "data": {
      "text/plain": [
       "(50, 12)"
      ]
     },
     "execution_count": 115,
     "metadata": {},
     "output_type": "execute_result"
    }
   ],
   "source": [
    "New_Data.shape"
   ]
  },
  {
   "cell_type": "code",
   "execution_count": 134,
   "metadata": {},
   "outputs": [],
   "source": [
    "# Extracting new data from the other API"
   ]
  },
  {
   "cell_type": "code",
   "execution_count": 135,
   "metadata": {},
   "outputs": [
    {
     "name": "stdout",
     "output_type": "stream",
     "text": [
      "{\"statusMsg\":\"OK\",\"records\":[{\"dateofrecord\":\"2020-01-23\",\"cases\":{\"dailytested\":\"0\",\"totaltested\":\"0\",\"dailydeceased\":\"0\",\"totaldeceased\":\"0\",\"dailyconfirmed\":\"0\",\"dailyrecovered\":\"0\",\"totalconfirmed\":\"1\",\"totalrecovered\":\"0\"}},{\"dateofrecord\":\"2020-01-24\",\"cases\":{\"dailytested\":\"0\",\"totaltested\":\"0\",\"dailydeceased\":\"0\",\"totaldeceased\":\"0\",\"dailyconfirmed\":\"1\",\"dailyrecovered\":\"0\",\"totalconfirmed\":\"2\",\"totalrecovered\":\"0\"}},{\"dateofrecord\":\"2020-01-25\",\"cases\":{\"dailytested\":\"0\",\"totaltested\":\"0\",\"dailydeceased\":\"0\",\"totaldeceased\":\"0\",\"dailyconfirmed\":\"0\",\"dailyrecovered\":\"0\",\"totalconfirmed\":\"2\",\"totalrecovered\":\"0\"}},{\"dateofrecord\":\"2020-01-26\",\"cases\":{\"dailytested\":\"0\",\"totaltested\":\"0\",\"dailydeceased\":\"0\",\"totaldeceased\":\"0\",\"dailyconfirmed\":\"3\",\"dailyrecovered\":\"0\",\"totalconfirmed\":\"5\",\"totalrecovered\":\"0\"}},{\"dateofrecord\":\"2020-01-27\",\"cases\":{\"dailytested\":\"0\",\"totaltested\":\"0\",\"dailydeceased\":\"0\",\"totaldeceased\":\"0\",\"dailyconfirmed\":\"0\",\"dailyrecovered\":\"0\",\"totalconfirmed\":\"5\",\"totalrecovered\":\"0\"}},{\"dateofrecord\":\"2020-01-28\",\"cases\":{\"dailytested\":\"0\",\"totaltested\":\"0\",\"dailydeceased\":\"0\",\"totaldeceased\":\"0\",\"dailyconfirmed\":\"0\",\"dailyrecovered\":\"0\",\"totalconfirmed\":\"5\",\"totalrecovered\":\"0\"}},{\"dateofrecord\":\"2020-01-29\",\"cases\":{\"dailytested\":\"0\",\"totaltested\":\"0\",\"dailydeceased\":\"0\",\"totaldeceased\":\"0\",\"dailyconfirmed\":\"0\",\"dailyrecovered\":\"0\",\"totalconfirmed\":\"5\",\"totalrecovered\":\"0\"}},{\"dateofrecord\":\"2020-01-30\",\"cases\":{\"dailytested\":\"0\",\"totaltested\":\"0\",\"dailydeceased\":\"0\",\"totaldeceased\":\"0\",\"dailyconfirmed\":\"0\",\"dailyrecovered\":\"0\",\"totalconfirmed\":\"5\",\"totalrecovered\":\"0\"}},{\"dateofrecord\":\"2020-01-31\",\"cases\":{\"dailytested\":\"0\",\"totaltested\":\"0\",\"dailydeceased\":\"0\",\"totaldeceased\":\"0\",\"dailyconfirmed\":\"1\",\"dailyrecovered\":\"0\",\"totalconfirmed\":\"6\",\"totalrecovered\":\"0\"}},{\"dateofrecord\":\"2020-02-01\",\"cases\":{\"dailytested\":\"0\",\"totaltested\":\"0\",\"dailydeceased\":\"0\",\"totaldeceased\":\"0\",\"dailyconfirmed\":\"2\",\"dailyrecovered\":\"0\",\"totalconfirmed\":\"8\",\"totalrecovered\":\"0\"}},{\"dateofrecord\":\"2020-02-02\",\"cases\":{\"dailytested\":\"0\",\"totaltested\":\"0\",\"dailydeceased\":\"0\",\"totaldeceased\":\"0\",\"dailyconfirmed\":\"0\",\"dailyrecovered\":\"0\",\"totalconfirmed\":\"8\",\"totalrecovered\":\"0\"}},{\"dateofrecord\":\"2020-02-03\",\"cases\":{\"dailytested\":\"0\",\"totaltested\":\"0\",\"dailydeceased\":\"0\",\"totaldeceased\":\"0\",\"dailyconfirmed\":\"3\",\"dailyrecovered\":\"0\",\"totalconfirmed\":\"11\",\"totalrecovered\":\"0\"}},{\"dateofrecord\":\"2020-02-04\",\"cases\":{\"dailytested\":\"0\",\"totaltested\":\"0\",\"dailydeceased\":\"0\",\"totaldeceased\":\"0\",\"dailyconfirmed\":\"0\",\"dailyrecovered\":\"0\",\"totalconfirmed\":\"11\",\"totalrecovered\":\"0\"}},{\"dateofrecord\":\"2020-02-05\",\"cases\":{\"dailytested\":\"0\",\"totaltested\":\"0\",\"dailydeceased\":\"0\",\"totaldeceased\":\"0\",\"dailyconfirmed\":\"1\",\"dailyrecovered\":\"0\",\"totalconfirmed\":\"12\",\"totalrecovered\":\"0\"}},{\"dateofrecord\":\"2020-02-06\",\"cases\":{\"dailytested\":\"0\",\"totaltested\":\"0\",\"dailydeceased\":\"0\",\"totaldeceased\":\"0\",\"dailyconfirmed\":\"0\",\"dailyrecovered\":\"0\",\"totalconfirmed\":\"12\",\"totalrecovered\":\"0\"}},{\"dateofrecord\":\"2020-02-07\",\"cases\":{\"dailytested\":\"0\",\"totaltested\":\"0\",\"dailydeceased\":\"0\",\"totaldeceased\":\"0\",\"dailyconfirmed\":\"0\",\"dailyrecovered\":\"0\",\"totalconfirmed\":\"12\",\"totalrecovered\":\"0\"}},{\"dateofrecord\":\"2020-02-08\",\"cases\":{\"dailytested\":\"0\",\"totaltested\":\"0\",\"dailydeceased\":\"0\",\"totaldeceased\":\"0\",\"dailyconfirmed\":\"0\",\"dailyrecovered\":\"0\",\"totalconfirmed\":\"12\",\"totalrecovered\":\"0\"}},{\"dateofrecord\":\"2020-02-09\",\"cases\":{\"dailytested\":\"0\",\"totaltested\":\"0\",\"dailydeceased\":\"0\",\"totaldeceased\":\"0\",\"dailyconfirmed\":\"0\",\"dailyrecovered\":\"3\",\"totalconfirmed\":\"12\",\"totalrecovered\":\"3\"}},{\"dateofrecord\":\"2020-02-10\",\"cases\":{\"dailytested\":\"0\",\"totaltested\":\"0\",\"dailydeceased\":\"0\",\"totaldeceased\":\"0\",\"dailyconfirmed\":\"0\",\"dailyrecovered\":\"0\",\"totalconfirmed\":\"12\",\"totalrecovered\":\"3\"}},{\"dateofrecord\":\"2020-02-11\",\"cases\":{\"dailytested\":\"0\",\"totaltested\":\"0\",\"dailydeceased\":\"0\",\"totaldeceased\":\"0\",\"dailyconfirmed\":\"1\",\"dailyrecovered\":\"0\",\"totalconfirmed\":\"13\",\"totalrecovered\":\"3\"}},{\"dateofrecord\":\"2020-02-12\",\"cases\":{\"dailytested\":\"0\",\"totaltested\":\"0\",\"dailydeceased\":\"0\",\"totaldeceased\":\"0\",\"dailyconfirmed\":\"0\",\"dailyrecovered\":\"0\",\"totalconfirmed\":\"13\",\"totalrecovered\":\"3\"}},{\"dateofrecord\":\"2020-02-13\",\"cases\":{\"dailytested\":\"0\",\"totaltested\":\"0\",\"dailydeceased\":\"0\",\"totaldeceased\":\"0\",\"dailyconfirmed\":\"2\",\"dailyrecovered\":\"0\",\"totalconfirmed\":\"15\",\"totalrecovered\":\"3\"}},{\"dateofrecord\":\"2020-02-14\",\"cases\":{\"dailytested\":\"0\",\"totaltested\":\"0\",\"dailydeceased\":\"0\",\"totaldeceased\":\"0\",\"dailyconfirmed\":\"0\",\"dailyrecovered\":\"0\",\"totalconfirmed\":\"15\",\"totalrecovered\":\"3\"}},{\"dateofrecord\":\"2020-02-15\",\"cases\":{\"dailytested\":\"0\",\"totaltested\":\"0\",\"dailydeceased\":\"0\",\"totaldeceased\":\"0\",\"dailyconfirmed\":\"0\",\"dailyrecovered\":\"0\",\"totalconfirmed\":\"15\",\"totalrecovered\":\"3\"}},{\"dateofrecord\":\"2020-02-16\",\"cases\":{\"dailytested\":\"0\",\"totaltested\":\"0\",\"dailydeceased\":\"0\",\"totaldeceased\":\"0\",\"dailyconfirmed\":\"0\",\"dailyrecovered\":\"0\",\"totalconfirmed\":\"15\",\"totalrecovered\":\"3\"}},{\"dateofrecord\":\"2020-02-17\",\"cases\":{\"dailytested\":\"0\",\"totaltested\":\"0\",\"dailydeceased\":\"0\",\"totaldeceased\":\"0\",\"dailyconfirmed\":\"0\",\"dailyrecovered\":\"0\",\"totalconfirmed\":\"15\",\"totalrecovered\":\"3\"}},{\"dateofrecord\":\"2020-02-18\",\"cases\":{\"dailytested\":\"0\",\"totaltested\":\"0\",\"dailydeceased\":\"0\",\"totaldeceased\":\"0\",\"dailyconfirmed\":\"0\",\"dailyrecovered\":\"0\",\"totalconfirmed\":\"15\",\"totalrecovered\":\"3\"}},{\"dateofrecord\":\"2020-02-19\",\"cases\":{\"dailytested\":\"0\",\"totaltested\":\"0\",\"dailydeceased\":\"0\",\"totaldeceased\":\"0\",\"dailyconfirmed\":\"0\",\"dailyrecovered\":\"0\",\"totalconfirmed\":\"15\",\"totalrecovered\":\"3\"}},{\"dateofrecord\":\"2020-02-20\",\"cases\":{\"dailytested\":\"0\",\"totaltested\":\"0\",\"dailydeceased\":\"0\",\"totaldeceased\":\"0\",\"dailyconfirmed\":\"0\",\"dailyrecovered\":\"0\",\"totalconfirmed\":\"15\",\"totalrecovered\":\"3\"}},{\"dateofrecord\":\"2020-02-21\",\"cases\":{\"dailytested\":\"0\",\"totaltested\":\"0\",\"dailydeceased\":\"0\",\"totaldeceased\":\"0\",\"dailyconfirmed\":\"20\",\"dailyrecovered\":\"2\",\"totalconfirmed\":\"35\",\"totalrecovered\":\"5\"}},{\"dateofrecord\":\"2020-02-22\",\"cases\":{\"dailytested\":\"0\",\"totaltested\":\"0\",\"dailydeceased\":\"0\",\"totaldeceased\":\"0\",\"dailyconfirmed\":\"0\",\"dailyrecovered\":\"0\",\"totalconfirmed\":\"35\",\"totalrecovered\":\"5\"}},{\"dateofrecord\":\"2020-02-23\",\"cases\":{\"dailytested\":\"0\",\"totaltested\":\"0\",\"dailydeceased\":\"0\",\"totaldeceased\":\"0\",\"dailyconfirmed\":\"0\",\"dailyrecovered\":\"0\",\"totalconfirmed\":\"35\",\"totalrecovered\":\"5\"}},{\"dateofrecord\":\"2020-02-24\",\"cases\":{\"dailytested\":\"0\",\"totaltested\":\"0\",\"dailydeceased\":\"0\",\"totaldeceased\":\"0\",\"dailyconfirmed\":\"18\",\"dailyrecovered\":\"0\",\"totalconfirmed\":\"53\",\"totalrecovered\":\"5\"}},{\"dateofrecord\":\"2020-02-25\",\"cases\":{\"dailytested\":\"0\",\"totaltested\":\"0\",\"dailydeceased\":\"0\",\"totaldeceased\":\"0\",\"dailyconfirmed\":\"0\",\"dailyrecovered\":\"1\",\"totalconfirmed\":\"53\",\"totalrecovered\":\"6\"}},{\"dateofrecord\":\"2020-02-26\",\"cases\":{\"dailytested\":\"0\",\"totaltested\":\"0\",\"dailydeceased\":\"0\",\"totaldeceased\":\"0\",\"dailyconfirmed\":\"6\",\"dailyrecovered\":\"0\",\"totalconfirmed\":\"59\",\"totalrecovered\":\"6\"}},{\"dateofrecord\":\"2020-02-27\",\"cases\":{\"dailytested\":\"0\",\"totaltested\":\"0\",\"dailydeceased\":\"0\",\"totaldeceased\":\"0\",\"dailyconfirmed\":\"1\",\"dailyrecovered\":\"0\",\"totalconfirmed\":\"60\",\"totalrecovered\":\"6\"}},{\"dateofrecord\":\"2020-02-28\",\"cases\":{\"dailytested\":\"0\",\"totaltested\":\"0\",\"dailydeceased\":\"0\",\"totaldeceased\":\"0\",\"dailyconfirmed\":\"2\",\"dailyrecovered\":\"1\",\"totalconfirmed\":\"62\",\"totalrecovered\":\"7\"}},{\"dateofrecord\":\"2020-02-29\",\"cases\":{\"dailytested\":\"0\",\"totaltested\":\"0\",\"dailydeceased\":\"1\",\"totaldeceased\":\"1\",\"dailyconfirmed\":\"8\",\"dailyrecovered\":\"0\",\"totalconfirmed\":\"70\",\"totalrecovered\":\"7\"}},{\"dateofrecord\":\"2020-03-01\",\"cases\":{\"dailytested\":\"0\",\"totaltested\":\"0\",\"dailydeceased\":\"0\",\"totaldeceased\":\"1\",\"dailyconfirmed\":\"6\",\"dailyrecovered\":\"0\",\"totalconfirmed\":\"76\",\"totalrecovered\":\"7\"}},{\"dateofrecord\":\"2020-03-02\",\"cases\":{\"dailytested\":\"0\",\"totaltested\":\"0\",\"dailydeceased\":\"5\",\"totaldeceased\":\"6\",\"dailyconfirmed\":\"25\",\"dailyrecovered\":\"0\",\"totalconfirmed\":\"101\",\"totalrecovered\":\"7\"}},{\"dateofrecord\":\"2020-03-03\",\"cases\":{\"dailytested\":\"0\",\"totaltested\":\"0\",\"dailydeceased\":\"1\",\"totaldeceased\":\"7\",\"dailyconfirmed\":\"21\",\"dailyrecovered\":\"1\",\"totalconfirmed\":\"122\",\"totalrecovered\":\"8\"}},{\"dateofrecord\":\"2020-03-04\",\"cases\":{\"dailytested\":\"0\",\"totaltested\":\"0\",\"dailydeceased\":\"4\",\"totaldeceased\":\"11\",\"dailyconfirmed\":\"31\",\"dailyrecovered\":\"0\",\"totalconfirmed\":\"153\",\"totalrecovered\":\"8\"}},{\"dateofrecord\":\"2020-03-05\",\"cases\":{\"dailytested\":\"0\",\"totaltested\":\"0\",\"dailydeceased\":\"1\",\"totaldeceased\":\"12\",\"dailyconfirmed\":\"68\",\"dailyrecovered\":\"0\",\"totalconfirmed\":\"221\",\"totalrecovered\":\"8\"}},{\"dateofrecord\":\"2020-03-06\",\"cases\":{\"dailytested\":\"0\",\"totaltested\":\"0\",\"dailydeceased\":\"2\",\"totaldeceased\":\"14\",\"dailyconfirmed\":\"57\",\"dailyrecovered\":\"0\",\"totalconfirmed\":\"278\",\"totalrecovered\":\"8\"}},{\"dateofrecord\":\"2020-03-07\",\"cases\":{\"dailytested\":\"0\",\"totaltested\":\"0\",\"dailydeceased\":\"3\",\"totaldeceased\":\"17\",\"dailyconfirmed\":\"139\",\"dailyrecovered\":\"0\",\"totalconfirmed\":\"417\",\"totalrecovered\":\"8\"}},{\"dateofrecord\":\"2020-03-08\",\"cases\":{\"dailytested\":\"0\",\"totaltested\":\"0\",\"dailydeceased\":\"4\",\"totaldeceased\":\"21\",\"dailyconfirmed\":\"120\",\"dailyrecovered\":\"0\",\"totalconfirmed\":\"537\",\"totalrecovered\":\"8\"}},{\"dateofrecord\":\"2020-03-09\",\"cases\":{\"dailytested\":\"0\",\"totaltested\":\"0\",\"dailydeceased\":\"1\",\"totaldeceased\":\"22\",\"dailyconfirmed\":\"68\",\"dailyrecovered\":\"0\",\"totalconfirmed\":\"605\",\"totalrecovered\":\"8\"}},{\"dateofrecord\":\"2020-03-10\",\"cases\":{\"dailytested\":\"0\",\"totaltested\":\"0\",\"dailydeceased\":\"6\",\"totaldeceased\":\"28\",\"dailyconfirmed\":\"354\",\"dailyrecovered\":\"0\",\"totalconfirmed\":\"959\",\"totalrecovered\":\"8\"}},{\"dateofrecord\":\"2020-03-11\",\"cases\":{\"dailytested\":\"0\",\"totaltested\":\"0\",\"dailydeceased\":\"8\",\"totaldeceased\":\"36\",\"dailyconfirmed\":\"322\",\"dailyrecovered\":\"0\",\"totalconfirmed\":\"1281\",\"totalrecovered\":\"8\"}},{\"dateofrecord\":\"2020-03-12\",\"cases\":{\"dailytested\":\"0\",\"totaltested\":\"0\",\"dailydeceased\":\"4\",\"totaldeceased\":\"40\",\"dailyconfirmed\":\"382\",\"dailyrecovered\":\"4\",\"totalconfirmed\":\"1663\",\"totalrecovered\":\"12\"}},{\"dateofrecord\":\"2020-03-13\",\"cases\":{\"dailytested\":\"0\",\"totaltested\":\"0\",\"dailydeceased\":\"7\",\"totaldeceased\":\"47\",\"dailyconfirmed\":\"516\",\"dailyrecovered\":\"0\",\"totalconfirmed\":\"2179\",\"totalrecovered\":\"12\"}},{\"dateofrecord\":\"2020-03-14\",\"cases\":{\"dailytested\":\"0\",\"totaltested\":\"0\",\"dailydeceased\":\"7\",\"totaldeceased\":\"54\",\"dailyconfirmed\":\"547\",\"dailyrecovered\":\"0\",\"totalconfirmed\":\"2726\",\"totalrecovered\":\"12\"}},{\"dateofrecord\":\"2020-03-15\",\"cases\":{\"dailytested\":\"0\",\"totaltested\":\"0\",\"dailydeceased\":\"9\",\"totaldeceased\":\"63\",\"dailyconfirmed\":\"773\",\"dailyrecovered\":\"0\",\"totalconfirmed\":\"3499\",\"totalrecovered\":\"12\"}},{\"dateofrecord\":\"2020-03-16\",\"cases\":{\"dailytested\":\"0\",\"totaltested\":\"0\",\"dailydeceased\":\"22\",\"totaldeceased\":\"85\",\"dailyconfirmed\":\"1133\",\"dailyrecovered\":\"5\",\"totalconfirmed\":\"4632\",\"totalrecovered\":\"17\"}},{\"dateofrecord\":\"2020-03-17\",\"cases\":{\"dailytested\":\"0\",\"totaltested\":\"0\",\"dailydeceased\":\"23\",\"totaldeceased\":\"108\",\"dailyconfirmed\":\"1789\",\"dailyrecovered\":\"0\",\"totalconfirmed\":\"6421\",\"totalrecovered\":\"17\"}},{\"dateofrecord\":\"2020-03-18\",\"cases\":{\"dailytested\":\"0\",\"totaltested\":\"0\",\"dailydeceased\":\"10\",\"totaldeceased\":\"118\",\"dailyconfirmed\":\"1365\",\"dailyrecovered\":\"89\",\"totalconfirmed\":\"7786\",\"totalrecovered\":\"106\"}},{\"dateofrecord\":\"2020-03-19\",\"cases\":{\"dailytested\":\"0\",\"totaltested\":\"0\",\"dailydeceased\":\"82\",\"totaldeceased\":\"200\",\"dailyconfirmed\":\"5894\",\"dailyrecovered\":\"2\",\"totalconfirmed\":\"13680\",\"totalrecovered\":\"108\"}},{\"dateofrecord\":\"2020-03-20\",\"cases\":{\"dailytested\":\"0\",\"totaltested\":\"0\",\"dailydeceased\":\"44\",\"totaldeceased\":\"244\",\"dailyconfirmed\":\"5421\",\"dailyrecovered\":\"39\",\"totalconfirmed\":\"19101\",\"totalrecovered\":\"147\"}},{\"dateofrecord\":\"2020-03-21\",\"cases\":{\"dailytested\":\"0\",\"totaltested\":\"0\",\"dailydeceased\":\"63\",\"totaldeceased\":\"307\",\"dailyconfirmed\":\"6413\",\"dailyrecovered\":\"24\",\"totalconfirmed\":\"25514\",\"totalrecovered\":\"171\"}},{\"dateofrecord\":\"2020-03-22\",\"cases\":{\"dailytested\":\"0\",\"totaltested\":\"0\",\"dailydeceased\":\"120\",\"totaldeceased\":\"427\",\"dailyconfirmed\":\"8334\",\"dailyrecovered\":\"0\",\"totalconfirmed\":\"33848\",\"totalrecovered\":\"0\"}},{\"dateofrecord\":\"2020-03-23\",\"cases\":{\"dailytested\":\"0\",\"totaltested\":\"0\",\"dailydeceased\":\"125\",\"totaldeceased\":\"552\",\"dailyconfirmed\":\"9815\",\"dailyrecovered\":\"0\",\"totalconfirmed\":\"43663\",\"totalrecovered\":\"0\"}},{\"dateofrecord\":\"2020-03-24\",\"cases\":{\"dailytested\":\"0\",\"totaltested\":\"0\",\"dailydeceased\":\"154\",\"totaldeceased\":\"706\",\"dailyconfirmed\":\"10073\",\"dailyrecovered\":\"348\",\"totalconfirmed\":\"53736\",\"totalrecovered\":\"348\"}},{\"dateofrecord\":\"2020-03-25\",\"cases\":{\"dailytested\":\"0\",\"totaltested\":\"0\",\"dailydeceased\":\"236\",\"totaldeceased\":\"942\",\"dailyconfirmed\":\"12042\",\"dailyrecovered\":\"13\",\"totalconfirmed\":\"65778\",\"totalrecovered\":\"361\"}},{\"dateofrecord\":\"2020-03-26\",\"cases\":{\"dailytested\":\"0\",\"totaltested\":\"0\",\"dailydeceased\":\"267\",\"totaldeceased\":\"1209\",\"dailyconfirmed\":\"18058\",\"dailyrecovered\":\"320\",\"totalconfirmed\":\"83836\",\"totalrecovered\":\"681\"}},{\"dateofrecord\":\"2020-03-27\",\"cases\":{\"dailytested\":\"0\",\"totaltested\":\"0\",\"dailydeceased\":\"372\",\"totaldeceased\":\"1581\",\"dailyconfirmed\":\"17821\",\"dailyrecovered\":\"188\",\"totalconfirmed\":\"101657\",\"totalrecovered\":\"869\"}},{\"dateofrecord\":\"2020-03-28\",\"cases\":{\"dailytested\":\"0\",\"totaltested\":\"0\",\"dailydeceased\":\"445\",\"totaldeceased\":\"2026\",\"dailyconfirmed\":\"19808\",\"dailyrecovered\":\"203\",\"totalconfirmed\":\"121465\",\"totalrecovered\":\"1072\"}},{\"dateofrecord\":\"2020-03-29\",\"cases\":{\"dailytested\":\"0\",\"totaltested\":\"0\",\"dailydeceased\":\"441\",\"totaldeceased\":\"2467\",\"dailyconfirmed\":\"19444\",\"dailyrecovered\":\"1593\",\"totalconfirmed\":\"140909\",\"totalrecovered\":\"2665\"}},{\"dateofrecord\":\"2020-03-30\",\"cases\":{\"dailytested\":\"0\",\"totaltested\":\"0\",\"dailydeceased\":\"511\",\"totaldeceased\":\"2978\",\"dailyconfirmed\":\"20922\",\"dailyrecovered\":\"2979\",\"totalconfirmed\":\"161831\",\"totalrecovered\":\"5644\"}},{\"dateofrecord\":\"2020-03-31\",\"cases\":{\"dailytested\":\"0\",\"totaltested\":\"0\",\"dailydeceased\":\"895\",\"totaldeceased\":\"3873\",\"dailyconfirmed\":\"26341\",\"dailyrecovered\":\"1380\",\"totalconfirmed\":\"188172\",\"totalrecovered\":\"7024\"}},{\"dateofrecord\":\"2020-04-01\",\"cases\":{\"dailytested\":\"0\",\"totaltested\":\"0\",\"dailydeceased\":\"884\",\"totaldeceased\":\"4757\",\"dailyconfirmed\":\"25200\",\"dailyrecovered\":\"1450\",\"totalconfirmed\":\"213372\",\"totalrecovered\":\"8474\"}},{\"dateofrecord\":\"2020-04-02\",\"cases\":{\"dailytested\":\"0\",\"totaltested\":\"0\",\"dailydeceased\":\"1169\",\"totaldeceased\":\"5926\",\"dailyconfirmed\":\"30227\",\"dailyrecovered\":\"527\",\"totalconfirmed\":\"243599\",\"totalrecovered\":\"9001\"}},{\"dateofrecord\":\"2020-04-03\",\"cases\":{\"dailytested\":\"0\",\"totaltested\":\"0\",\"dailydeceased\":\"1161\",\"totaldeceased\":\"7087\",\"dailyconfirmed\":\"31987\",\"dailyrecovered\":\"706\",\"totalconfirmed\":\"275586\",\"totalrecovered\":\"9707\"}},{\"dateofrecord\":\"2020-04-04\",\"cases\":{\"dailytested\":\"0\",\"totaltested\":\"0\",\"dailydeceased\":\"1320\",\"totaldeceased\":\"8407\",\"dailyconfirmed\":\"33267\",\"dailyrecovered\":\"4945\",\"totalconfirmed\":\"308853\",\"totalrecovered\":\"14652\"}},{\"dateofrecord\":\"2020-04-05\",\"cases\":{\"dailytested\":\"0\",\"totaltested\":\"0\",\"dailydeceased\":\"1212\",\"totaldeceased\":\"9619\",\"dailyconfirmed\":\"28219\",\"dailyrecovered\":\"2796\",\"totalconfirmed\":\"337072\",\"totalrecovered\":\"17448\"}},{\"dateofrecord\":\"2020-04-06\",\"cases\":{\"dailytested\":\"0\",\"totaltested\":\"0\",\"dailydeceased\":\"1164\",\"totaldeceased\":\"10783\",\"dailyconfirmed\":\"29595\",\"dailyrecovered\":\"2133\",\"totalconfirmed\":\"366667\",\"totalrecovered\":\"19581\"}},{\"dateofrecord\":\"2020-04-07\",\"cases\":{\"dailytested\":\"0\",\"totaltested\":\"0\",\"dailydeceased\":\"1939\",\"totaldeceased\":\"12722\",\"dailyconfirmed\":\"29556\",\"dailyrecovered\":\"2182\",\"totalconfirmed\":\"396223\",\"totalrecovered\":\"21763\"}},{\"dateofrecord\":\"2020-04-08\",\"cases\":{\"dailytested\":\"0\",\"totaltested\":\"0\",\"dailydeceased\":\"1973\",\"totaldeceased\":\"14695\",\"dailyconfirmed\":\"32829\",\"dailyrecovered\":\"1796\",\"totalconfirmed\":\"429052\",\"totalrecovered\":\"23559\"}},{\"dateofrecord\":\"2020-04-09\",\"cases\":{\"dailytested\":\"0\",\"totaltested\":\"0\",\"dailydeceased\":\"1783\",\"totaldeceased\":\"16478\",\"dailyconfirmed\":\"32385\",\"dailyrecovered\":\"1851\",\"totalconfirmed\":\"461437\",\"totalrecovered\":\"25410\"}},{\"dateofrecord\":\"2020-04-10\",\"cases\":{\"dailytested\":\"0\",\"totaltested\":\"0\",\"dailydeceased\":\"2108\",\"totaldeceased\":\"18586\",\"dailyconfirmed\":\"35098\",\"dailyrecovered\":\"3380\",\"totalconfirmed\":\"496535\",\"totalrecovered\":\"28790\"}},{\"dateofrecord\":\"2020-04-11\",\"cases\":{\"dailytested\":\"0\",\"totaltested\":\"0\",\"dailydeceased\":\"1876\",\"totaldeceased\":\"20462\",\"dailyconfirmed\":\"29861\",\"dailyrecovered\":\"2480\",\"totalconfirmed\":\"526396\",\"totalrecovered\":\"31270\"}},{\"dateofrecord\":\"2020-04-12\",\"cases\":{\"dailytested\":\"0\",\"totaltested\":\"0\",\"dailydeceased\":\"1557\",\"totaldeceased\":\"22019\",\"dailyconfirmed\":\"28917\",\"dailyrecovered\":\"1718\",\"totalconfirmed\":\"555313\",\"totalrecovered\":\"32988\"}},{\"dateofrecord\":\"2020-04-13\",\"cases\":{\"dailytested\":\"128571\",\"totaltested\":\"2915890\",\"dailydeceased\":\"1506\",\"totaldeceased\":\"23423\",\"dailyconfirmed\":\"25220\",\"dailyrecovered\":\"10494\",\"totalconfirmed\":\"577414\",\"totalrecovered\":\"43482\"}},{\"dateofrecord\":\"2020-04-14\",\"cases\":{\"dailytested\":\"145639\",\"totaltested\":\"3061529\",\"dailydeceased\":\"2288\",\"totaldeceased\":\"25711\",\"dailyconfirmed\":\"26928\",\"dailyrecovered\":\"4281\",\"totalconfirmed\":\"604342\",\"totalrecovered\":\"47763\"}},{\"dateofrecord\":\"2020-04-15\",\"cases\":{\"dailytested\":\"160499\",\"totaltested\":\"3222028\",\"dailydeceased\":\"2483\",\"totaldeceased\":\"28194\",\"dailyconfirmed\":\"28486\",\"dailyrecovered\":\"4333\",\"totalconfirmed\":\"632828\",\"totalrecovered\":\"52096\"}},{\"dateofrecord\":\"2020-04-16\",\"cases\":{\"dailytested\":\"157072\",\"totaltested\":\"3379100\",\"dailydeceased\":\"4577\",\"totaldeceased\":\"32771\",\"dailyconfirmed\":\"31229\",\"dailyrecovered\":\"2607\",\"totalconfirmed\":\"664057\",\"totalrecovered\":\"54703\"}},{\"dateofrecord\":\"2020-04-17\",\"cases\":{\"dailytested\":\"139135\",\"totaltested\":\"3518235\",\"dailydeceased\":\"3849\",\"totaldeceased\":\"36620\",\"dailyconfirmed\":\"31753\",\"dailyrecovered\":\"3842\",\"totalconfirmed\":\"695810\",\"totalrecovered\":\"58545\"}},{\"dateofrecord\":\"2020-04-18\",\"cases\":{\"dailytested\":\"148225\",\"totaltested\":\"3666460\",\"dailydeceased\":\"1883\",\"totaldeceased\":\"38503\",\"dailyconfirmed\":\"32248\",\"dailyrecovered\":\"6295\",\"totalconfirmed\":\"728058\",\"totalrecovered\":\"64840\"}},{\"dateofrecord\":\"2020-04-19\",\"cases\":{\"dailytested\":\"174473\",\"totaltested\":\"3840933\",\"dailydeceased\":\"1990\",\"totaldeceased\":\"40493\",\"dailyconfirmed\":\"26667\",\"dailyrecovered\":\"5497\",\"totalconfirmed\":\"754725\",\"totalrecovered\":\"70337\"}},{\"dateofrecord\":\"2020-04-20\",\"cases\":{\"dailytested\":\"136968\",\"totaltested\":\"3977901\",\"dailydeceased\":\"1423\",\"totaldeceased\":\"41916\",\"dailyconfirmed\":\"25067\",\"dailyrecovered\":\"1992\",\"totalconfirmed\":\"779792\",\"totalrecovered\":\"72329\"}},{\"dateofrecord\":\"2020-04-21\",\"cases\":{\"dailytested\":\"150389\",\"totaltested\":\"4128290\",\"dailydeceased\":\"2342\",\"totaldeceased\":\"44258\",\"dailyconfirmed\":\"27322\",\"dailyrecovered\":\"2875\",\"totalconfirmed\":\"807114\",\"totalrecovered\":\"75204\"}},{\"dateofrecord\":\"2020-04-22\",\"cases\":{\"dailytested\":\"311085\",\"totaltested\":\"4439375\",\"dailydeceased\":\"2164\",\"totaldeceased\":\"46422\",\"dailyconfirmed\":\"28292\",\"dailyrecovered\":\"2162\",\"totalconfirmed\":\"835406\",\"totalrecovered\":\"77366\"}},{\"dateofrecord\":\"2020-04-23\",\"cases\":{\"dailytested\":\"192697\",\"totaltested\":\"4632072\",\"dailydeceased\":\"3311\",\"totaldeceased\":\"49733\",\"dailyconfirmed\":\"28628\",\"dailyrecovered\":\"2837\",\"totalconfirmed\":\"864034\",\"totalrecovered\":\"80203\"}},{\"dateofrecord\":\"2020-04-24\",\"cases\":{\"dailytested\":\"279044\",\"totaltested\":\"4911116\",\"dailydeceased\":\"1973\",\"totaldeceased\":\"51706\",\"dailyconfirmed\":\"36134\",\"dailyrecovered\":\"18876\",\"totalconfirmed\":\"900168\",\"totalrecovered\":\"99079\"}},{\"dateofrecord\":\"2020-04-25\",\"cases\":{\"dailytested\":\"243332\",\"totaltested\":\"5154448\",\"dailydeceased\":\"1788\",\"totaldeceased\":\"53494\",\"dailyconfirmed\":\"32618\",\"dailyrecovered\":\"1293\",\"totalconfirmed\":\"932786\",\"totalrecovered\":\"100372\"}},{\"dateofrecord\":\"2020-04-26\",\"cases\":{\"dailytested\":\"255526\",\"totaltested\":\"5409974\",\"dailydeceased\":\"1111\",\"totaldeceased\":\"54605\",\"dailyconfirmed\":\"27421\",\"dailyrecovered\":\"6616\",\"totalconfirmed\":\"960207\",\"totalrecovered\":\"106988\"}},{\"dateofrecord\":\"2020-04-27\",\"cases\":{\"dailytested\":\"151992\",\"totaltested\":\"5561966\",\"dailydeceased\":\"1371\",\"totaldeceased\":\"55976\",\"dailyconfirmed\":\"22345\",\"dailyrecovered\":\"4436\",\"totalconfirmed\":\"982552\",\"totalrecovered\":\"111424\"}},{\"dateofrecord\":\"2020-04-28\",\"cases\":{\"dailytested\":\"201635\",\"totaltested\":\"5763601\",\"dailydeceased\":\"2089\",\"totaldeceased\":\"58065\",\"dailyconfirmed\":\"24272\",\"dailyrecovered\":\"4512\",\"totalconfirmed\":\"1006824\",\"totalrecovered\":\"115936\"}},{\"dateofrecord\":\"2020-04-29\",\"cases\":{\"dailytested\":\"229726\",\"totaltested\":\"5993327\",\"dailydeceased\":\"2597\",\"totaldeceased\":\"60662\",\"dailyconfirmed\":\"27182\",\"dailyrecovered\":\"4784\",\"totalconfirmed\":\"1034006\",\"totalrecovered\":\"120720\"}},{\"dateofrecord\":\"2020-04-30\",\"cases\":{\"dailytested\":\"203341\",\"totaltested\":\"6196668\",\"dailydeceased\":\"2004\",\"totaldeceased\":\"62666\",\"dailyconfirmed\":\"29179\",\"dailyrecovered\":\"32373\",\"totalconfirmed\":\"1063185\",\"totalrecovered\":\"153093\"}},{\"dateofrecord\":\"2020-05-01\",\"cases\":{\"dailytested\":\"318417\",\"totaltested\":\"6515085\",\"dailydeceased\":\"1938\",\"totaldeceased\":\"64604\",\"dailyconfirmed\":\"33666\",\"dailyrecovered\":\"10062\",\"totalconfirmed\":\"1096851\",\"totalrecovered\":\"163155\"}},{\"dateofrecord\":\"2020-05-02\",\"cases\":{\"dailytested\":\"263007\",\"totaltested\":\"6778092\",\"dailydeceased\":\"1416\",\"totaldeceased\":\"66020\",\"dailyconfirmed\":\"28757\",\"dailyrecovered\":\"11367\",\"totalconfirmed\":\"1125608\",\"totalrecovered\":\"174522\"}},{\"dateofrecord\":\"2020-05-03\",\"cases\":{\"dailytested\":\"235340\",\"totaltested\":\"7013432\",\"dailydeceased\":\"1300\",\"totaldeceased\":\"67320\",\"dailyconfirmed\":\"25231\",\"dailyrecovered\":\"4775\",\"totalconfirmed\":\"1150839\",\"totalrecovered\":\"179297\"}},{\"dateofrecord\":\"2020-05-04\",\"cases\":{\"dailytested\":\"230955\",\"totaltested\":\"7244387\",\"dailydeceased\":\"1233\",\"totaldeceased\":\"68553\",\"dailyconfirmed\":\"22146\",\"dailyrecovered\":\"7029\",\"totalconfirmed\":\"1172985\",\"totalrecovered\":\"186326\"}},{\"dateofrecord\":\"2020-05-05\",\"cases\":{\"dailytested\":\"257966\",\"totaltested\":\"7502353\",\"dailydeceased\":\"2134\",\"totaldeceased\":\"70687\",\"dailyconfirmed\":\"23743\",\"dailyrecovered\":\"2611\",\"totalconfirmed\":\"1196728\",\"totalrecovered\":\"188937\"}},{\"dateofrecord\":\"2020-05-06\",\"cases\":{\"dailytested\":\"223902\",\"totaltested\":\"7726255\",\"dailydeceased\":\"2354\",\"totaldeceased\":\"73041\",\"dailyconfirmed\":\"24064\",\"dailyrecovered\":\"0\",\"totalconfirmed\":\"1220792\",\"totalrecovered\":\"188913\"}},{\"dateofrecord\":\"2020-05-07\",\"cases\":{\"dailytested\":\"344719\",\"totaltested\":\"8070974\",\"dailydeceased\":\"2220\",\"totaldeceased\":\"75261\",\"dailyconfirmed\":\"28164\",\"dailyrecovered\":\"5109\",\"totalconfirmed\":\"1248956\",\"totalrecovered\":\"194022\"}},{\"dateofrecord\":\"2020-05-08\",\"cases\":{\"dailytested\":\"301255\",\"totaltested\":\"8372229\",\"dailydeceased\":\"1494\",\"totaldeceased\":\"76755\",\"dailyconfirmed\":\"26532\",\"dailyrecovered\":\"3955\",\"totalconfirmed\":\"1275488\",\"totalrecovered\":\"197977\"}},{\"dateofrecord\":\"2020-05-09\",\"cases\":{\"dailytested\":\"299739\",\"totaltested\":\"8671968\",\"dailydeceased\":\"1607\",\"totaldeceased\":\"78362\",\"dailyconfirmed\":\"25400\",\"dailyrecovered\":\"13485\",\"totalconfirmed\":\"1300888\",\"totalrecovered\":\"211462\"}},{\"dateofrecord\":\"2020-05-10\",\"cases\":{\"dailytested\":\"276403\",\"totaltested\":\"8948371\",\"dailydeceased\":\"716\",\"totaldeceased\":\"79078\",\"dailyconfirmed\":\"19514\",\"dailyrecovered\":\"3632\",\"totalconfirmed\":\"1320402\",\"totalrecovered\":\"215094\"}},{\"dateofrecord\":\"2020-05-11\",\"cases\":{\"dailytested\":\"393379\",\"totaltested\":\"9341750\",\"dailydeceased\":\"1148\",\"totaldeceased\":\"80226\",\"dailyconfirmed\":\"18443\",\"dailyrecovered\":\"16562\",\"totalconfirmed\":\"1338845\",\"totalrecovered\":\"231656\"}},{\"dateofrecord\":\"2020-05-12\",\"cases\":{\"dailytested\":\"254578\",\"totaltested\":\"9596328\",\"dailydeceased\":\"1684\",\"totaldeceased\":\"81910\",\"dailyconfirmed\":\"21553\",\"dailyrecovered\":\"0\",\"totalconfirmed\":\"1360398\",\"totalrecovered\":\"229204\"}},{\"dateofrecord\":\"2020-05-13\",\"cases\":{\"dailytested\":\"335912\",\"totaltested\":\"9932240\",\"dailydeceased\":\"1728\",\"totaldeceased\":\"83638\",\"dailyconfirmed\":\"20703\",\"dailyrecovered\":\"13095\",\"totalconfirmed\":\"1381101\",\"totalrecovered\":\"242299\"}},{\"dateofrecord\":\"2020-05-14\",\"cases\":{\"dailytested\":\"365067\",\"totaltested\":\"10297307\",\"dailydeceased\":\"1769\",\"totaldeceased\":\"85407\",\"dailyconfirmed\":\"27118\",\"dailyrecovered\":\"2952\",\"totalconfirmed\":\"1408219\",\"totalrecovered\":\"245251\"}},{\"dateofrecord\":\"2020-05-15\",\"cases\":{\"dailytested\":\"376789\",\"totaltested\":\"10674096\",\"dailydeceased\":\"1617\",\"totaldeceased\":\"87024\",\"dailyconfirmed\":\"24798\",\"dailyrecovered\":\"4324\",\"totalconfirmed\":\"1433017\",\"totalrecovered\":\"249575\"}},{\"dateofrecord\":\"2020-05-16\",\"cases\":{\"dailytested\":\"355736\",\"totaltested\":\"11029832\",\"dailydeceased\":\"1217\",\"totaldeceased\":\"88241\",\"dailyconfirmed\":\"24776\",\"dailyrecovered\":\"17604\",\"totalconfirmed\":\"1457793\",\"totalrecovered\":\"267179\"}},{\"dateofrecord\":\"2020-05-17\",\"cases\":{\"dailytested\":\"420804\",\"totaltested\":\"11450636\",\"dailydeceased\":\"799\",\"totaldeceased\":\"89040\",\"dailyconfirmed\":\"18799\",\"dailyrecovered\":\"3864\",\"totalconfirmed\":\"1476592\",\"totalrecovered\":\"271043\"}},{\"dateofrecord\":\"2020-05-18\",\"cases\":{\"dailytested\":\"333742\",\"totaltested\":\"11784378\",\"dailydeceased\":\"775\",\"totaldeceased\":\"89815\",\"dailyconfirmed\":\"21340\",\"dailyrecovered\":\"10908\",\"totalconfirmed\":\"1497932\",\"totalrecovered\":\"281951\"}},{\"dateofrecord\":\"2020-05-19\",\"cases\":{\"dailytested\":\"397295\",\"totaltested\":\"12181673\",\"dailydeceased\":\"1566\",\"totaldeceased\":\"91381\",\"dailyconfirmed\":\"20001\",\"dailyrecovered\":\"6201\",\"totalconfirmed\":\"1517933\",\"totalrecovered\":\"288152\"}},{\"dateofrecord\":\"2020-05-20\",\"cases\":{\"dailytested\":\"412537\",\"totaltested\":\"12594210\",\"dailydeceased\":\"1510\",\"totaldeceased\":\"92891\",\"dailyconfirmed\":\"23107\",\"dailyrecovered\":\"4902\",\"totalconfirmed\":\"1541040\",\"totalrecovered\":\"293054\"}},{\"dateofrecord\":\"2020-05-21\",\"cases\":{\"dailytested\":\"406667\",\"totaltested\":\"13000877\",\"dailydeceased\":\"1257\",\"totaldeceased\":\"94148\",\"dailyconfirmed\":\"24998\",\"dailyrecovered\":\"4104\",\"totalconfirmed\":\"1566038\",\"totalrecovered\":\"297158\"}},{\"dateofrecord\":\"2020-05-22\",\"cases\":{\"dailytested\":\"340591\",\"totaltested\":\"13341468\",\"dailydeceased\":\"1271\",\"totaldeceased\":\"95419\",\"dailyconfirmed\":\"23568\",\"dailyrecovered\":\"51709\",\"totalconfirmed\":\"1589606\",\"totalrecovered\":\"348867\"}},{\"dateofrecord\":\"2020-05-23\",\"cases\":{\"dailytested\":\"377014\",\"totaltested\":\"13718482\",\"dailydeceased\":\"1098\",\"totaldeceased\":\"96517\",\"dailyconfirmed\":\"21532\",\"dailyrecovered\":\"11089\",\"totalconfirmed\":\"1611138\",\"totalrecovered\":\"359956\"}},{\"dateofrecord\":\"2020-05-24\",\"cases\":{\"dailytested\":\"378391\",\"totaltested\":\"14096873\",\"dailydeceased\":\"628\",\"totaldeceased\":\"97145\",\"dailyconfirmed\":\"20400\",\"dailyrecovered\":\"5493\",\"totalconfirmed\":\"1631538\",\"totalrecovered\":\"365449\"}},{\"dateofrecord\":\"2020-05-25\",\"cases\":{\"dailytested\":\"452144\",\"totaltested\":\"14549017\",\"dailydeceased\":\"490\",\"totaldeceased\":\"97635\",\"dailyconfirmed\":\"18870\",\"dailyrecovered\":\"12416\",\"totalconfirmed\":\"1650408\",\"totalrecovered\":\"377865\"}},{\"dateofrecord\":\"2020-05-26\",\"cases\":{\"dailytested\":\"300403\",\"totaltested\":\"14849420\",\"dailydeceased\":\"693\",\"totaldeceased\":\"98328\",\"dailyconfirmed\":\"18437\",\"dailyrecovered\":\"5744\",\"totalconfirmed\":\"1668845\",\"totalrecovered\":\"383609\"}},{\"dateofrecord\":\"2020-05-27\",\"cases\":{\"dailytested\":\"284397\",\"totaltested\":\"15133817\",\"dailydeceased\":\"1500\",\"totaldeceased\":\"99828\",\"dailyconfirmed\":\"18115\",\"dailyrecovered\":\"6600\",\"totalconfirmed\":\"1686960\",\"totalrecovered\":\"390209\"}},{\"dateofrecord\":\"2020-05-28\",\"cases\":{\"dailytested\":\"451979\",\"totaltested\":\"15585796\",\"dailydeceased\":\"1188\",\"totaldeceased\":\"101016\",\"dailyconfirmed\":\"22401\",\"dailyrecovered\":\"8483\",\"totalconfirmed\":\"1709361\",\"totalrecovered\":\"398692\"}},{\"dateofrecord\":\"2020-05-29\",\"cases\":{\"dailytested\":\"452559\",\"totaltested\":\"16038355\",\"dailydeceased\":\"1185\",\"totaldeceased\":\"102201\",\"dailyconfirmed\":\"24058\",\"dailyrecovered\":\"6447\",\"totalconfirmed\":\"1733419\",\"totalrecovered\":\"405139\"}},{\"dateofrecord\":\"2020-05-30\",\"cases\":{\"dailytested\":\"393755\",\"totaltested\":\"16432110\",\"dailydeceased\":\"964\",\"totaldeceased\":\"103165\",\"dailyconfirmed\":\"23896\",\"dailyrecovered\":\"10002\",\"totalconfirmed\":\"1757315\",\"totalrecovered\":\"415141\"}},{\"dateofrecord\":\"2020-05-31\",\"cases\":{\"dailytested\":\"440371\",\"totaltested\":\"16872481\",\"dailydeceased\":\"598\",\"totaldeceased\":\"103763\",\"dailyconfirmed\":\"19865\",\"dailyrecovered\":\"28281\",\"totalconfirmed\":\"1777180\",\"totalrecovered\":\"443422\"}},{\"dateofrecord\":\"2020-06-01\",\"cases\":{\"dailytested\":\"402430\",\"totaltested\":\"17274911\",\"dailydeceased\":\"766\",\"totaldeceased\":\"104529\",\"dailyconfirmed\":\"20691\",\"dailyrecovered\":\"13460\",\"totalconfirmed\":\"1797871\",\"totalrecovered\":\"456882\"}},{\"dateofrecord\":\"2020-06-02\",\"cases\":{\"dailytested\":\"416163\",\"totaltested\":\"17691074\",\"dailydeceased\":\"1027\",\"totaldeceased\":\"105556\",\"dailyconfirmed\":\"20709\",\"dailyrecovered\":\"5623\",\"totalconfirmed\":\"1818580\",\"totalrecovered\":\"462505\"}},{\"dateofrecord\":\"2020-06-03\",\"cases\":{\"dailytested\":\"454807\",\"totaltested\":\"18145881\",\"dailydeceased\":\"976\",\"totaldeceased\":\"106532\",\"dailyconfirmed\":\"19478\",\"dailyrecovered\":\"15386\",\"totalconfirmed\":\"1838058\",\"totalrecovered\":\"477891\"}},{\"dateofrecord\":\"2020-06-04\",\"cases\":{\"dailytested\":\"463145\",\"totaltested\":\"18609026\",\"dailydeceased\":\"1034\",\"totaldeceased\":\"107566\",\"dailyconfirmed\":\"20546\",\"dailyrecovered\":\"5733\",\"totalconfirmed\":\"1858604\",\"totalrecovered\":\"483624\"}},{\"dateofrecord\":\"2020-06-05\",\"cases\":{\"dailytested\":\"549643\",\"totaltested\":\"19158669\",\"dailydeceased\":\"916\",\"totaldeceased\":\"108482\",\"dailyconfirmed\":\"24529\",\"dailyrecovered\":\"6704\",\"totalconfirmed\":\"1883133\",\"totalrecovered\":\"490328\"}},{\"dateofrecord\":\"2020-06-06\",\"cases\":{\"dailytested\":\"545083\",\"totaltested\":\"19703752\",\"dailydeceased\":\"664\",\"totaldeceased\":\"109146\",\"dailyconfirmed\":\"22316\",\"dailyrecovered\":\"9143\",\"totalconfirmed\":\"1905449\",\"totalrecovered\":\"499471\"}},{\"dateofrecord\":\"2020-06-07\",\"cases\":{\"dailytested\":\"455320\",\"totaltested\":\"20159072\",\"dailydeceased\":\"715\",\"totaldeceased\":\"109861\",\"dailyconfirmed\":\"23452\",\"dailyrecovered\":\"5510\",\"totalconfirmed\":\"1928901\",\"totalrecovered\":\"504981\"}},{\"dateofrecord\":\"2020-06-08\",\"cases\":{\"dailytested\":\"378075\",\"totaltested\":\"20537147\",\"dailydeceased\":\"480\",\"totaldeceased\":\"110341\",\"dailyconfirmed\":\"17131\",\"dailyrecovered\":\"12154\",\"totalconfirmed\":\"1946032\",\"totalrecovered\":\"517135\"}},{\"dateofrecord\":\"2020-06-09\",\"cases\":{\"dailytested\":\"430818\",\"totaltested\":\"20967965\",\"dailydeceased\":\"974\",\"totaldeceased\":\"111336\",\"dailyconfirmed\":\"17756\",\"dailyrecovered\":\"6332\",\"totalconfirmed\":\"1964319\",\"totalrecovered\":\"523467\"}},{\"dateofrecord\":\"2020-06-10\",\"cases\":{\"dailytested\":\"418114\",\"totaltested\":\"21386079\",\"dailydeceased\":\"925\",\"totaldeceased\":\"112266\",\"dailyconfirmed\":\"20767\",\"dailyrecovered\":\"8647\",\"totalconfirmed\":\"1985164\",\"totalrecovered\":\"532114\"}},{\"dateofrecord\":\"2020-06-11\",\"cases\":{\"dailytested\":\"464195\",\"totaltested\":\"21850274\",\"dailydeceased\":\"892\",\"totaldeceased\":\"113158\",\"dailyconfirmed\":\"22805\",\"dailyrecovered\":\"6784\",\"totalconfirmed\":\"2007969\",\"totalrecovered\":\"538898\"}},{\"dateofrecord\":\"2020-06-12\",\"cases\":{\"dailytested\":\"580743\",\"totaltested\":\"22431017\",\"dailydeceased\":\"843\",\"totaldeceased\":\"114001\",\"dailyconfirmed\":\"25390\",\"dailyrecovered\":\"7094\",\"totalconfirmed\":\"2033359\",\"totalrecovered\":\"545992\"}},{\"dateofrecord\":\"2020-06-13\",\"cases\":{\"dailytested\":\"521552\",\"totaltested\":\"22952569\",\"dailydeceased\":\"762\",\"totaldeceased\":\"114763\",\"dailyconfirmed\":\"25331\",\"dailyrecovered\":\"9220\",\"totalconfirmed\":\"2058690\",\"totalrecovered\":\"555212\"}},{\"dateofrecord\":\"2020-06-14\",\"cases\":{\"dailytested\":\"492931\",\"totaltested\":\"23445500\",\"dailydeceased\":\"291\",\"totaldeceased\":\"115054\",\"dailyconfirmed\":\"19353\",\"dailyrecovered\":\"5203\",\"totalconfirmed\":\"2078043\",\"totalrecovered\":\"560415\"}},{\"dateofrecord\":\"2020-06-15\",\"cases\":{\"dailytested\":\"447877\",\"totaltested\":\"23893377\",\"dailydeceased\":\"395\",\"totaldeceased\":\"115449\",\"dailyconfirmed\":\"19855\",\"dailyrecovered\":\"14512\",\"totalconfirmed\":\"2097898\",\"totalrecovered\":\"574927\"}},{\"dateofrecord\":\"2020-06-16\",\"cases\":{\"dailytested\":\"463100\",\"totaltested\":\"24356477\",\"dailydeceased\":\"831\",\"totaldeceased\":\"116280\",\"dailyconfirmed\":\"23624\",\"dailyrecovered\":\"7169\",\"totalconfirmed\":\"2121522\",\"totalrecovered\":\"582096\"}},{\"dateofrecord\":\"2020-06-17\",\"cases\":{\"dailytested\":\"485343\",\"totaltested\":\"24841820\",\"dailydeceased\":\"751\",\"totaldeceased\":\"117031\",\"dailyconfirmed\":\"25475\",\"dailyrecovered\":\"8687\",\"totalconfirmed\":\"2146997\",\"totalrecovered\":\"590783\"}},{\"dateofrecord\":\"2020-06-18\",\"cases\":{\"dailytested\":\"463010\",\"totaltested\":\"25304830\",\"dailydeceased\":\"713\",\"totaldeceased\":\"117744\",\"dailyconfirmed\":\"27594\",\"dailyrecovered\":\"6924\",\"totalconfirmed\":\"2174591\",\"totalrecovered\":\"597707\"}},{\"dateofrecord\":\"2020-06-19\",\"cases\":{\"dailytested\":\"577215\",\"totaltested\":\"25882045\",\"dailydeceased\":\"689\",\"totaldeceased\":\"118431\",\"dailyconfirmed\":\"31386\",\"dailyrecovered\":\"7590\",\"totalconfirmed\":\"2205977\",\"totalrecovered\":\"605297\"}},{\"dateofrecord\":\"2020-06-20\",\"cases\":{\"dailytested\":\"579173\",\"totaltested\":\"26461218\",\"dailydeceased\":\"594\",\"totaldeceased\":\"119025\",\"dailyconfirmed\":\"32218\",\"dailyrecovered\":\"10741\",\"totalconfirmed\":\"2238195\",\"totalrecovered\":\"616038\"}},{\"dateofrecord\":\"2020-06-21\",\"cases\":{\"dailytested\":\"516704\",\"totaltested\":\"26977922\",\"dailydeceased\":\"254\",\"totaldeceased\":\"119279\",\"dailyconfirmed\":\"26070\",\"dailyrecovered\":\"4667\",\"totalconfirmed\":\"2264265\",\"totalrecovered\":\"620705\"}},{\"dateofrecord\":\"2020-06-22\",\"cases\":{\"dailytested\":\"465766\",\"totaltested\":\"27443688\",\"dailydeceased\":\"423\",\"totaldeceased\":\"119702\",\"dailyconfirmed\":\"30935\",\"dailyrecovered\":\"18055\",\"totalconfirmed\":\"2295200\",\"totalrecovered\":\"638760\"}},{\"dateofrecord\":\"2020-06-23\",\"cases\":{\"dailytested\":\"509728\",\"totaltested\":\"27953416\",\"dailydeceased\":\"824\",\"totaldeceased\":\"120526\",\"dailyconfirmed\":\"34560\",\"dailyrecovered\":\"7349\",\"totalconfirmed\":\"2329760\",\"totalrecovered\":\"646109\"}},{\"dateofrecord\":\"2020-06-24\",\"cases\":{\"dailytested\":\"500846\",\"totaltested\":\"28454262\",\"dailydeceased\":\"748\",\"totaldeceased\":\"121274\",\"dailyconfirmed\":\"34301\",\"dailyrecovered\":\"8613\",\"totalconfirmed\":\"2364061\",\"totalrecovered\":\"654722\"}},{\"dateofrecord\":\"2020-06-25\",\"cases\":{\"dailytested\":\"636885\",\"totaltested\":\"29091147\",\"dailydeceased\":\"2426\",\"totaldeceased\":\"123700\",\"dailyconfirmed\":\"40709\",\"dailyrecovered\":\"7401\",\"totalconfirmed\":\"2404770\",\"totalrecovered\":\"662123\"}},{\"dateofrecord\":\"2020-06-26\",\"cases\":{\"dailytested\":\"600984\",\"totaltested\":\"29692131\",\"dailydeceased\":\"626\",\"totaldeceased\":\"124326\",\"dailyconfirmed\":\"45167\",\"dailyrecovered\":\"7235\",\"totalconfirmed\":\"2449937\",\"totalrecovered\":\"669358\"}},{\"dateofrecord\":\"2020-06-27\",\"cases\":{\"dailytested\":\"589285\",\"totaltested\":\"30281416\",\"dailydeceased\":\"497\",\"totaldeceased\":\"124823\",\"dailyconfirmed\":\"42422\",\"dailyrecovered\":\"8487\",\"totalconfirmed\":\"2492359\",\"totalrecovered\":\"677845\"}},{\"dateofrecord\":\"2020-06-28\",\"cases\":{\"dailytested\":\"582158\",\"totaltested\":\"30863574\",\"dailydeceased\":\"261\",\"totaldeceased\":\"125084\",\"dailyconfirmed\":\"38690\",\"dailyrecovered\":\"5851\",\"totalconfirmed\":\"2531049\",\"totalrecovered\":\"683696\"}},{\"dateofrecord\":\"2020-06-29\",\"cases\":{\"dailytested\":\"566569\",\"totaltested\":\"31430143\",\"dailydeceased\":\"336\",\"totaldeceased\":\"125420\",\"dailyconfirmed\":\"41544\",\"dailyrecovered\":\"20038\",\"totalconfirmed\":\"2572593\",\"totalrecovered\":\"703734\"}},{\"dateofrecord\":\"2020-06-30\",\"cases\":{\"dailytested\":\"646211\",\"totaltested\":\"32076354\",\"dailydeceased\":\"1277\",\"totaldeceased\":\"126697\",\"dailyconfirmed\":\"44512\",\"dailyrecovered\":\"15356\",\"totalconfirmed\":\"2617105\",\"totalrecovered\":\"719090\"}}]}\n"
     ]
    }
   ],
   "source": [
    "url = \"https://covid-19-usa-data-by-zt.p.rapidapi.com/GetUSAllHistoricalData\"\n",
    "\n",
    "headers = {\n",
    "    'x-rapidapi-host': \"covid-19-usa-data-by-zt.p.rapidapi.com\",\n",
    "    'x-rapidapi-key': \"e4a0f5191dmsh32f12c91288b7ffp11a5adjsn38b664d6d513\"\n",
    "    }\n",
    "\n",
    "response1 = requests.request(\"GET\", url, headers=headers)\n",
    "\n",
    "print(response1.text)"
   ]
  },
  {
   "cell_type": "code",
   "execution_count": 139,
   "metadata": {},
   "outputs": [
    {
     "data": {
      "text/html": [
       "<div>\n",
       "<style scoped>\n",
       "    .dataframe tbody tr th:only-of-type {\n",
       "        vertical-align: middle;\n",
       "    }\n",
       "\n",
       "    .dataframe tbody tr th {\n",
       "        vertical-align: top;\n",
       "    }\n",
       "\n",
       "    .dataframe thead th {\n",
       "        text-align: right;\n",
       "    }\n",
       "</style>\n",
       "<table border=\"1\" class=\"dataframe\">\n",
       "  <thead>\n",
       "    <tr style=\"text-align: right;\">\n",
       "      <th></th>\n",
       "      <th>dateofrecord</th>\n",
       "      <th>cases</th>\n",
       "    </tr>\n",
       "  </thead>\n",
       "  <tbody>\n",
       "    <tr>\n",
       "      <th>0</th>\n",
       "      <td>2020-01-23</td>\n",
       "      <td>{'dailytested': '0', 'totaltested': '0', 'dail...</td>\n",
       "    </tr>\n",
       "    <tr>\n",
       "      <th>1</th>\n",
       "      <td>2020-01-24</td>\n",
       "      <td>{'dailytested': '0', 'totaltested': '0', 'dail...</td>\n",
       "    </tr>\n",
       "    <tr>\n",
       "      <th>2</th>\n",
       "      <td>2020-01-25</td>\n",
       "      <td>{'dailytested': '0', 'totaltested': '0', 'dail...</td>\n",
       "    </tr>\n",
       "    <tr>\n",
       "      <th>3</th>\n",
       "      <td>2020-01-26</td>\n",
       "      <td>{'dailytested': '0', 'totaltested': '0', 'dail...</td>\n",
       "    </tr>\n",
       "    <tr>\n",
       "      <th>4</th>\n",
       "      <td>2020-01-27</td>\n",
       "      <td>{'dailytested': '0', 'totaltested': '0', 'dail...</td>\n",
       "    </tr>\n",
       "  </tbody>\n",
       "</table>\n",
       "</div>"
      ],
      "text/plain": [
       "  dateofrecord                                              cases\n",
       "0   2020-01-23  {'dailytested': '0', 'totaltested': '0', 'dail...\n",
       "1   2020-01-24  {'dailytested': '0', 'totaltested': '0', 'dail...\n",
       "2   2020-01-25  {'dailytested': '0', 'totaltested': '0', 'dail...\n",
       "3   2020-01-26  {'dailytested': '0', 'totaltested': '0', 'dail...\n",
       "4   2020-01-27  {'dailytested': '0', 'totaltested': '0', 'dail..."
      ]
     },
     "execution_count": 139,
     "metadata": {},
     "output_type": "execute_result"
    }
   ],
   "source": [
    "api1 = response1.json()\n",
    "\n",
    "New_Data1 = pd.DataFrame(api1['records'])\n",
    "New_Data1.head()"
   ]
  },
  {
   "cell_type": "code",
   "execution_count": 146,
   "metadata": {},
   "outputs": [
    {
     "data": {
      "text/plain": [
       "'463100'"
      ]
     },
     "execution_count": 146,
     "metadata": {},
     "output_type": "execute_result"
    }
   ],
   "source": [
    "New_Data1['cases'][0]['dailytested']"
   ]
  },
  {
   "cell_type": "code",
   "execution_count": null,
   "metadata": {},
   "outputs": [],
   "source": []
  },
  {
   "cell_type": "code",
   "execution_count": 140,
   "metadata": {},
   "outputs": [
    {
     "data": {
      "text/plain": [
       "(160, 2)"
      ]
     },
     "execution_count": 140,
     "metadata": {},
     "output_type": "execute_result"
    }
   ],
   "source": [
    "New_Data1.shape"
   ]
  },
  {
   "cell_type": "markdown",
   "metadata": {},
   "source": [
    "##### Exercise 3: To extract the data from documents (PDF)"
   ]
  },
  {
   "cell_type": "markdown",
   "metadata": {},
   "source": [
    "Note: <br>\n",
    "Data can be stored in documents & below explaination is to extract from PDF file. <br>\n",
    "We used camelot library for the data extraction"
   ]
  },
  {
   "cell_type": "code",
   "execution_count": 117,
   "metadata": {},
   "outputs": [],
   "source": [
    "#pip install camelot-py[cv]"
   ]
  },
  {
   "cell_type": "code",
   "execution_count": 12,
   "metadata": {},
   "outputs": [],
   "source": [
    "import tkinter\n",
    "import camelot"
   ]
  },
  {
   "cell_type": "code",
   "execution_count": 119,
   "metadata": {},
   "outputs": [],
   "source": [
    "Data_New = camelot.read_pdf(\"2020-05-21-COVID19-Report-23.pdf\", pages='11')"
   ]
  },
  {
   "cell_type": "code",
   "execution_count": 120,
   "metadata": {},
   "outputs": [
    {
     "data": {
      "text/html": [
       "<div>\n",
       "<style scoped>\n",
       "    .dataframe tbody tr th:only-of-type {\n",
       "        vertical-align: middle;\n",
       "    }\n",
       "\n",
       "    .dataframe tbody tr th {\n",
       "        vertical-align: top;\n",
       "    }\n",
       "\n",
       "    .dataframe thead th {\n",
       "        text-align: right;\n",
       "    }\n",
       "</style>\n",
       "<table border=\"1\" class=\"dataframe\">\n",
       "  <thead>\n",
       "    <tr style=\"text-align: right;\">\n",
       "      <th></th>\n",
       "      <th>0</th>\n",
       "      <th>1</th>\n",
       "      <th>2</th>\n",
       "      <th>3</th>\n",
       "    </tr>\n",
       "  </thead>\n",
       "  <tbody>\n",
       "    <tr>\n",
       "      <th>0</th>\n",
       "      <td>State</td>\n",
       "      <td>% of total population\\ninfected (mean [95%\\ncr...</td>\n",
       "      <td>State</td>\n",
       "      <td>% of total population\\ninfected (mean [95%\\ncr...</td>\n",
       "    </tr>\n",
       "    <tr>\n",
       "      <th>1</th>\n",
       "      <td>Alabama\\nAlaska\\nArizona\\nArkansas\\nCalifornia...</td>\n",
       "      <td>1.9% [1.2%-3.0%]\\n0.2% [0.0%-0.7%]\\n2.3% [1.4%...</td>\n",
       "      <td>Montana\\nNebraska\\nNevada\\nNew Hampshire\\nNew ...</td>\n",
       "      <td>0.2% [0.0%-0.4%]\\n1.2% [0.7%-2.0%]\\n1.8% [1.3%...</td>\n",
       "    </tr>\n",
       "  </tbody>\n",
       "</table>\n",
       "</div>"
      ],
      "text/plain": [
       "                                                   0  \\\n",
       "0                                              State   \n",
       "1  Alabama\\nAlaska\\nArizona\\nArkansas\\nCalifornia...   \n",
       "\n",
       "                                                   1  \\\n",
       "0  % of total population\\ninfected (mean [95%\\ncr...   \n",
       "1  1.9% [1.2%-3.0%]\\n0.2% [0.0%-0.7%]\\n2.3% [1.4%...   \n",
       "\n",
       "                                                   2  \\\n",
       "0                                              State   \n",
       "1  Montana\\nNebraska\\nNevada\\nNew Hampshire\\nNew ...   \n",
       "\n",
       "                                                   3  \n",
       "0  % of total population\\ninfected (mean [95%\\ncr...  \n",
       "1  0.2% [0.0%-0.4%]\\n1.2% [0.7%-2.0%]\\n1.8% [1.3%...  "
      ]
     },
     "execution_count": 120,
     "metadata": {},
     "output_type": "execute_result"
    }
   ],
   "source": [
    "Data_New[0].df # Accessing the data"
   ]
  },
  {
   "cell_type": "code",
   "execution_count": 121,
   "metadata": {},
   "outputs": [],
   "source": [
    "Data_Extracted=Data_New[0].df"
   ]
  },
  {
   "cell_type": "code",
   "execution_count": 122,
   "metadata": {},
   "outputs": [],
   "source": [
    "Data_Extracted.columns=Data_Extracted.iloc[0]\n",
    "Data_Extracted.drop(Data_Extracted.index[0], inplace=True) "
   ]
  },
  {
   "cell_type": "code",
   "execution_count": 123,
   "metadata": {},
   "outputs": [
    {
     "data": {
      "text/html": [
       "<div>\n",
       "<style scoped>\n",
       "    .dataframe tbody tr th:only-of-type {\n",
       "        vertical-align: middle;\n",
       "    }\n",
       "\n",
       "    .dataframe tbody tr th {\n",
       "        vertical-align: top;\n",
       "    }\n",
       "\n",
       "    .dataframe thead th {\n",
       "        text-align: right;\n",
       "    }\n",
       "</style>\n",
       "<table border=\"1\" class=\"dataframe\">\n",
       "  <thead>\n",
       "    <tr style=\"text-align: right;\">\n",
       "      <th></th>\n",
       "      <th>State</th>\n",
       "      <th>% of total population\\ninfected (mean [95%\\ncredible interval])</th>\n",
       "      <th>State</th>\n",
       "      <th>% of total population\\ninfected (mean [95%\\ncredible interval])</th>\n",
       "    </tr>\n",
       "  </thead>\n",
       "  <tbody>\n",
       "    <tr>\n",
       "      <th>1</th>\n",
       "      <td>Alabama\\nAlaska\\nArizona\\nArkansas\\nCalifornia...</td>\n",
       "      <td>1.9% [1.2%-3.0%]\\n0.2% [0.0%-0.7%]\\n2.3% [1.4%...</td>\n",
       "      <td>Montana\\nNebraska\\nNevada\\nNew Hampshire\\nNew ...</td>\n",
       "      <td>0.2% [0.0%-0.4%]\\n1.2% [0.7%-2.0%]\\n1.8% [1.3%...</td>\n",
       "    </tr>\n",
       "  </tbody>\n",
       "</table>\n",
       "</div>"
      ],
      "text/plain": [
       "0                                              State  \\\n",
       "1  Alabama\\nAlaska\\nArizona\\nArkansas\\nCalifornia...   \n",
       "\n",
       "0 % of total population\\ninfected (mean [95%\\ncredible interval])  \\\n",
       "1  1.9% [1.2%-3.0%]\\n0.2% [0.0%-0.7%]\\n2.3% [1.4%...                \n",
       "\n",
       "0                                              State  \\\n",
       "1  Montana\\nNebraska\\nNevada\\nNew Hampshire\\nNew ...   \n",
       "\n",
       "0 % of total population\\ninfected (mean [95%\\ncredible interval])  \n",
       "1  0.2% [0.0%-0.4%]\\n1.2% [0.7%-2.0%]\\n1.8% [1.3%...               "
      ]
     },
     "execution_count": 123,
     "metadata": {},
     "output_type": "execute_result"
    }
   ],
   "source": [
    "Data_Extracted"
   ]
  },
  {
   "cell_type": "code",
   "execution_count": 124,
   "metadata": {},
   "outputs": [],
   "source": [
    "# Data Cleaning\n",
    "Data_Extracted.columns = ['State1','Population infected1','State2','Population infected2']"
   ]
  },
  {
   "cell_type": "code",
   "execution_count": 125,
   "metadata": {},
   "outputs": [],
   "source": [
    "State1=Data_Extracted['State1'].str.split('\\n')\n",
    "State2=Data_Extracted['State2'].str.split('\\n')\n",
    "Pop1=Data_Extracted['Population infected1'].str.split('\\n')\n",
    "Pop2=Data_Extracted['Population infected1'].str.split('\\n')"
   ]
  },
  {
   "cell_type": "code",
   "execution_count": 126,
   "metadata": {},
   "outputs": [],
   "source": [
    "State1=list(State1)\n",
    "State1=State1[0]\n",
    "State2=list(State2)\n",
    "State2=State2[0]"
   ]
  },
  {
   "cell_type": "code",
   "execution_count": 127,
   "metadata": {},
   "outputs": [],
   "source": [
    "Pop1=list(Pop1)\n",
    "Pop1=Pop1[0]\n",
    "Pop2=list(Pop2)\n",
    "Pop2=Pop2[0]"
   ]
  },
  {
   "cell_type": "code",
   "execution_count": 128,
   "metadata": {},
   "outputs": [],
   "source": [
    "State1.extend(State2) # Extending the lState ist \n",
    "Pop1.extend(Pop2) # Extending the population list "
   ]
  },
  {
   "cell_type": "code",
   "execution_count": 129,
   "metadata": {},
   "outputs": [],
   "source": [
    "Data_Extracted1=pd.DataFrame({'State':State1,'Population Infected':Pop1})"
   ]
  },
  {
   "cell_type": "code",
   "execution_count": 130,
   "metadata": {},
   "outputs": [
    {
     "data": {
      "text/html": [
       "<div>\n",
       "<style scoped>\n",
       "    .dataframe tbody tr th:only-of-type {\n",
       "        vertical-align: middle;\n",
       "    }\n",
       "\n",
       "    .dataframe tbody tr th {\n",
       "        vertical-align: top;\n",
       "    }\n",
       "\n",
       "    .dataframe thead th {\n",
       "        text-align: right;\n",
       "    }\n",
       "</style>\n",
       "<table border=\"1\" class=\"dataframe\">\n",
       "  <thead>\n",
       "    <tr style=\"text-align: right;\">\n",
       "      <th></th>\n",
       "      <th>State</th>\n",
       "      <th>Population Infected</th>\n",
       "    </tr>\n",
       "  </thead>\n",
       "  <tbody>\n",
       "    <tr>\n",
       "      <th>0</th>\n",
       "      <td>Alabama</td>\n",
       "      <td>1.9% [1.2%-3.0%]</td>\n",
       "    </tr>\n",
       "    <tr>\n",
       "      <th>1</th>\n",
       "      <td>Alaska</td>\n",
       "      <td>0.2% [0.0%-0.7%]</td>\n",
       "    </tr>\n",
       "    <tr>\n",
       "      <th>2</th>\n",
       "      <td>Arizona</td>\n",
       "      <td>2.3% [1.4%-4.0%]</td>\n",
       "    </tr>\n",
       "    <tr>\n",
       "      <th>3</th>\n",
       "      <td>Arkansas</td>\n",
       "      <td>0.5% [0.3%-0.8%]</td>\n",
       "    </tr>\n",
       "    <tr>\n",
       "      <th>4</th>\n",
       "      <td>California</td>\n",
       "      <td>1.6% [1.1%-2.5%]</td>\n",
       "    </tr>\n",
       "  </tbody>\n",
       "</table>\n",
       "</div>"
      ],
      "text/plain": [
       "        State Population Infected\n",
       "0     Alabama    1.9% [1.2%-3.0%]\n",
       "1      Alaska    0.2% [0.0%-0.7%]\n",
       "2     Arizona    2.3% [1.4%-4.0%]\n",
       "3    Arkansas    0.5% [0.3%-0.8%]\n",
       "4  California    1.6% [1.1%-2.5%]"
      ]
     },
     "execution_count": 130,
     "metadata": {},
     "output_type": "execute_result"
    }
   ],
   "source": [
    "Data_Extracted1.head()"
   ]
  },
  {
   "cell_type": "markdown",
   "metadata": {},
   "source": [
    "##### Exercise 4: To extract the data from RDBMS"
   ]
  },
  {
   "cell_type": "code",
   "execution_count": null,
   "metadata": {},
   "outputs": [],
   "source": [
    "# Below is the way to extract data from Oracle DB\n",
    "\n",
    "import cx_Oracle\n",
    "ip = 'XX.XX.X.XXX'\n",
    "port = YYYY\n",
    "SID = 'DW'\n",
    "dsn_tns = cx_Oracle.makedsn(ip, port, SID)\n",
    "\n",
    "connection = cx_Oracle.connect('ID', 'PASSWORD', dsn_tns)"
   ]
  },
  {
   "cell_type": "code",
   "execution_count": 85,
   "metadata": {},
   "outputs": [],
   "source": [
    "query = \"\"\"SELECT* \n",
    "           FROM EMPLOYEE\n",
    "           WHERE E.DEPTNO=10\"\"\"\n",
    "df_ora = pd.read_sql(query, con=connection)"
   ]
  }
 ],
 "metadata": {
  "kernelspec": {
   "display_name": "Python 3",
   "language": "python",
   "name": "python3"
  },
  "language_info": {
   "codemirror_mode": {
    "name": "ipython",
    "version": 3
   },
   "file_extension": ".py",
   "mimetype": "text/x-python",
   "name": "python",
   "nbconvert_exporter": "python",
   "pygments_lexer": "ipython3",
   "version": "3.7.6"
  }
 },
 "nbformat": 4,
 "nbformat_minor": 4
}
