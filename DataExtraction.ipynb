{
 "cells": [
  {
   "cell_type": "markdown",
   "metadata": {},
   "source": [
    "### Demonstration of Data Collection / Extraction from various sources"
   ]
  },
  {
   "cell_type": "markdown",
   "metadata": {},
   "source": [
    "As part of Data Scientist activities, Data collection or extraction is one of the steps which takes quite a good amount of time and effort "
   ]
  },
  {
   "cell_type": "markdown",
   "metadata": {},
   "source": [
    "###### For this particular Use Case, we are extracting state wise Covid-19 cases in USA from various sources "
   ]
  },
  {
   "cell_type": "markdown",
   "metadata": {},
   "source": [
    "#### There are multiple sources in which data is resided & a Data Scientist should be able to extract the data. Below are few sources\n",
    "1.Website <br>\n",
    "2.API <br>\n",
    "3.Documents such as PDF <br>\n",
    "4.RDBMS <br>"
   ]
  },
  {
   "cell_type": "markdown",
   "metadata": {},
   "source": [
    "##### Exercise 1: To scrape the data from a website"
   ]
  },
  {
   "cell_type": "code",
   "execution_count": 93,
   "metadata": {},
   "outputs": [],
   "source": [
    "# Import libraries\n",
    "import requests\n",
    "import numpy as np\n",
    "import pandas as pd\n",
    "from pathlib import Path"
   ]
  },
  {
   "cell_type": "code",
   "execution_count": 94,
   "metadata": {},
   "outputs": [
    {
     "name": "stdout",
     "output_type": "stream",
     "text": [
      "Status: 200\n"
     ]
    }
   ],
   "source": [
    "Data_URL = 'https://www.worldometers.info/coronavirus/country/us/'\n",
    "\n",
    "r = requests.get(Data_URL)\n",
    "print(f'Status: {r.status_code}') # Status: 200 states that the response is success from website"
   ]
  },
  {
   "cell_type": "markdown",
   "metadata": {},
   "source": [
    "Documentation for BeautifulSoup library - https://www.crummy.com/software/BeautifulSoup/bs4/doc/"
   ]
  },
  {
   "cell_type": "code",
   "execution_count": 95,
   "metadata": {},
   "outputs": [],
   "source": [
    "# Import BeautifulSoup\n",
    "import bs4\n",
    "from bs4 import BeautifulSoup as BS\n",
    "\n",
    "page = BS(r.content, 'html.parser')\n",
    "table = page.table"
   ]
  },
  {
   "cell_type": "code",
   "execution_count": 96,
   "metadata": {},
   "outputs": [
    {
     "name": "stdout",
     "output_type": "stream",
     "text": [
      "<tr class=\"total_row_usa\">\n",
      " <td style=\"text-align:left;\">\n",
      "  USA Total\n",
      " </td>\n",
      " <td>\n",
      "  2,727,996\n",
      " </td>\n",
      " <td>\n",
      "  +143\n",
      " </td>\n",
      " <td>\n",
      "  130,123\n",
      " </td>\n",
      " <td>\n",
      "  +1\n",
      " </td>\n",
      " <td>\n",
      "  1,454,383\n",
      " </td>\n",
      " <td>\n",
      "  8,242\n",
      " </td>\n",
      " <td>\n",
      "  393\n",
      " </td>\n",
      " <td>\n",
      "  34,199,918\n",
      " </td>\n",
      " <td>\n",
      "  103,322\n",
      " </td>\n",
      " <td>\n",
      " </td>\n",
      " <td>\n",
      " </td>\n",
      "</tr>\n",
      "\n"
     ]
    }
   ],
   "source": [
    "print(table.tbody.tr.prettify())"
   ]
  },
  {
   "cell_type": "code",
   "execution_count": 147,
   "metadata": {},
   "outputs": [
    {
     "data": {
      "text/plain": [
       "[['USA Total',\n",
       "  '2,727,996',\n",
       "  '+143',\n",
       "  '130,123',\n",
       "  '+1',\n",
       "  '1,454,383',\n",
       "  '8,242',\n",
       "  '393',\n",
       "  '34,199,918',\n",
       "  '103,322',\n",
       "  '\\xa0',\n",
       "  '\\xa0'],\n",
       " ['\\nNew York ',\n",
       "  '417,836 ',\n",
       "  '\\n',\n",
       "  '\\n32,129 ',\n",
       "  ' ',\n",
       "  '\\n296,232 ',\n",
       "  '21,479',\n",
       "  '1,652',\n",
       "  '\\n3,914,938 ',\n",
       "  '201,245',\n",
       "  '\\n[view by county]\\xa0[1]\\xa0[2]\\xa0[3]\\xa0[4]\\xa0 ',\n",
       "  '\\n[projections]\\n'],\n",
       " ['\\nCalifornia ',\n",
       "  '230,891 ',\n",
       "  '\\n',\n",
       "  '\\n6,081  ',\n",
       "  ' ',\n",
       "  '\\n161,148 ',\n",
       "  '5,844',\n",
       "  '154',\n",
       "  '\\n4,168,509 ',\n",
       "  '105,499',\n",
       "  '\\n[view by county]\\xa0[1]\\xa0 ',\n",
       "  '\\n[projections]\\n'],\n",
       " ['\\nNew Jersey ',\n",
       "  '176,953 ',\n",
       "  '\\n',\n",
       "  '\\n15,177 ',\n",
       "  ' ',\n",
       "  '\\n116,634 ',\n",
       "  '19,922',\n",
       "  '1,709',\n",
       "  '\\n1,422,374 ',\n",
       "  '160,138',\n",
       "  '\\n[view by county]\\xa0[1]\\xa0 ',\n",
       "  '\\n [projections]\\n'],\n",
       " ['\\nTexas ',\n",
       "  '167,269 ',\n",
       "  '\\n',\n",
       "  '\\n2,496 ',\n",
       "  ' ',\n",
       "  '\\n79,955 ',\n",
       "  '5,769',\n",
       "  '86',\n",
       "  '\\n2,119,036 ',\n",
       "  '73,081',\n",
       "  '\\n[view by county]\\xa0[1]\\xa0[2]\\xa0 ',\n",
       "  '\\n[projections]\\n'],\n",
       " ['\\nFlorida ',\n",
       "  '152,434 ',\n",
       "  '\\n',\n",
       "  '\\n3,505 ',\n",
       "  ' ',\n",
       "  '\\n125,011 ',\n",
       "  '7,097',\n",
       "  '163',\n",
       "  '\\n1,946,510 ',\n",
       "  '90,629',\n",
       "  '\\n[view by county]\\xa0[1]\\xa0[2]\\xa0[3]\\xa0 ',\n",
       "  '\\n[projections]\\n'],\n",
       " ['\\nIllinois ',\n",
       "  '144,238 ',\n",
       "  '\\n',\n",
       "  '\\n7,124 ',\n",
       "  ' ',\n",
       "  '\\n25,505 ',\n",
       "  '11,383',\n",
       "  '562',\n",
       "  '\\n1,604,018 ',\n",
       "  '126,581',\n",
       "  '\\n[1]\\xa0[2]\\xa0[3]\\xa0[4]\\xa0 ',\n",
       "  '\\n[projections]\\n'],\n",
       " ['\\nMassachusetts ',\n",
       "  '108,882 ',\n",
       "  '\\n',\n",
       "  '\\n8,054 ',\n",
       "  ' ',\n",
       "  '\\n9,424 ',\n",
       "  '15,797',\n",
       "  '1,169',\n",
       "  '\\n914,646 ',\n",
       "  '132,702',\n",
       "  '\\n[1]\\xa0 ',\n",
       "  '\\n[projections]\\n'],\n",
       " ['\\nPennsylvania ',\n",
       "  '91,228 ',\n",
       "  '\\n',\n",
       "  '\\n6,702 ',\n",
       "  ' ',\n",
       "  '\\n16,974  ',\n",
       "  '7,126',\n",
       "  '524',\n",
       "  '\\n775,037 ',\n",
       "  '60,540',\n",
       "  '\\n[view by county]\\xa0[1]\\xa0 ',\n",
       "  '\\n[projections]\\n'],\n",
       " ['\\nGeorgia ',\n",
       "  '81,291 ',\n",
       "  '\\n',\n",
       "  '\\n2,805 ',\n",
       "  ' ',\n",
       "  '\\n69,234 ',\n",
       "  '7,656',\n",
       "  '264',\n",
       "  '\\n991,501 ',\n",
       "  '93,384',\n",
       "  '\\n[1]\\xa0 ',\n",
       "  '\\n[projections]\\n']]"
      ]
     },
     "execution_count": 147,
     "metadata": {},
     "output_type": "execute_result"
    }
   ],
   "source": [
    "from typing import List\n",
    "\n",
    "def extract_from_table(table: bs4.element.Tag) -> List:\n",
    "    '''Extracts data from HTML table.\n",
    "    \n",
    "    Input:  bs4 *table*\n",
    "    Return: List of all the values in the table\n",
    "    '''\n",
    "    data = list()\n",
    "    \n",
    "    for row in table.select('tbody tr'):\n",
    "        data.append([col.text for col in row.find_all('td')])\n",
    "        \n",
    "    return data\n",
    "\n",
    "data_table = extract_from_table(table)\n",
    "data_table[0:10]"
   ]
  },
  {
   "cell_type": "code",
   "execution_count": 98,
   "metadata": {},
   "outputs": [
    {
     "data": {
      "text/plain": [
       "USA State                 object\n",
       "Total Cases               object\n",
       "New Cases                 object\n",
       "Total Deaths              object\n",
       "New Deaths                object\n",
       "Active Cases              object\n",
       "Total Cases per 1M pop    object\n",
       "Deaths per 1M pop         object\n",
       "Total Tests               object\n",
       "Tests per 1M pop          object\n",
       "View                      object\n",
       "projections               object\n",
       "dtype: object"
      ]
     },
     "execution_count": 98,
     "metadata": {},
     "output_type": "execute_result"
    }
   ],
   "source": [
    "# Setting the column names \n",
    "columns = ['USA State','Total Cases','New Cases','Total Deaths','New Deaths','Active Cases','Total Cases per 1M pop','Deaths per 1M pop','Total Tests','Tests per 1M pop','View','projections']\n",
    "stats = pd.DataFrame(data_table, columns=columns)\n",
    "stats.dtypes"
   ]
  },
  {
   "cell_type": "code",
   "execution_count": 99,
   "metadata": {},
   "outputs": [
    {
     "data": {
      "text/html": [
       "<div>\n",
       "<style scoped>\n",
       "    .dataframe tbody tr th:only-of-type {\n",
       "        vertical-align: middle;\n",
       "    }\n",
       "\n",
       "    .dataframe tbody tr th {\n",
       "        vertical-align: top;\n",
       "    }\n",
       "\n",
       "    .dataframe thead th {\n",
       "        text-align: right;\n",
       "    }\n",
       "</style>\n",
       "<table border=\"1\" class=\"dataframe\">\n",
       "  <thead>\n",
       "    <tr style=\"text-align: right;\">\n",
       "      <th></th>\n",
       "      <th>USA State</th>\n",
       "      <th>Total Cases</th>\n",
       "      <th>New Cases</th>\n",
       "      <th>Total Deaths</th>\n",
       "      <th>New Deaths</th>\n",
       "      <th>Active Cases</th>\n",
       "      <th>Total Cases per 1M pop</th>\n",
       "      <th>Deaths per 1M pop</th>\n",
       "      <th>Total Tests</th>\n",
       "      <th>Tests per 1M pop</th>\n",
       "      <th>View</th>\n",
       "      <th>projections</th>\n",
       "    </tr>\n",
       "  </thead>\n",
       "  <tbody>\n",
       "    <tr>\n",
       "      <th>0</th>\n",
       "      <td>USA Total</td>\n",
       "      <td>2,727,996</td>\n",
       "      <td>+143</td>\n",
       "      <td>130,123</td>\n",
       "      <td>+1</td>\n",
       "      <td>1,454,383</td>\n",
       "      <td>8,242</td>\n",
       "      <td>393</td>\n",
       "      <td>34,199,918</td>\n",
       "      <td>103,322</td>\n",
       "      <td></td>\n",
       "      <td></td>\n",
       "    </tr>\n",
       "    <tr>\n",
       "      <th>1</th>\n",
       "      <td>\\nNew York</td>\n",
       "      <td>417,836</td>\n",
       "      <td>\\n</td>\n",
       "      <td>\\n32,129</td>\n",
       "      <td></td>\n",
       "      <td>\\n296,232</td>\n",
       "      <td>21,479</td>\n",
       "      <td>1,652</td>\n",
       "      <td>\\n3,914,938</td>\n",
       "      <td>201,245</td>\n",
       "      <td>\\n[view by county] [1] [2] [3] [4]</td>\n",
       "      <td>\\n[projections]\\n</td>\n",
       "    </tr>\n",
       "  </tbody>\n",
       "</table>\n",
       "</div>"
      ],
      "text/plain": [
       "     USA State Total Cases New Cases Total Deaths New Deaths Active Cases  \\\n",
       "0    USA Total   2,727,996      +143      130,123         +1    1,454,383   \n",
       "1  \\nNew York     417,836         \\n    \\n32,129               \\n296,232    \n",
       "\n",
       "  Total Cases per 1M pop Deaths per 1M pop   Total Tests Tests per 1M pop  \\\n",
       "0                  8,242               393    34,199,918          103,322   \n",
       "1                 21,479             1,652  \\n3,914,938           201,245   \n",
       "\n",
       "                                   View        projections  \n",
       "0                                                           \n",
       "1  \\n[view by county] [1] [2] [3] [4]    \\n[projections]\\n  "
      ]
     },
     "execution_count": 99,
     "metadata": {},
     "output_type": "execute_result"
    }
   ],
   "source": [
    "stats.head(2)"
   ]
  },
  {
   "cell_type": "code",
   "execution_count": 100,
   "metadata": {},
   "outputs": [],
   "source": [
    "# Lets remove unwanted columns from the data set\n",
    "cols=['New Cases','New Deaths','View','projections']\n",
    "stats.drop(columns=cols,inplace=True)"
   ]
  },
  {
   "cell_type": "code",
   "execution_count": 101,
   "metadata": {},
   "outputs": [
    {
     "data": {
      "text/html": [
       "<div>\n",
       "<style scoped>\n",
       "    .dataframe tbody tr th:only-of-type {\n",
       "        vertical-align: middle;\n",
       "    }\n",
       "\n",
       "    .dataframe tbody tr th {\n",
       "        vertical-align: top;\n",
       "    }\n",
       "\n",
       "    .dataframe thead th {\n",
       "        text-align: right;\n",
       "    }\n",
       "</style>\n",
       "<table border=\"1\" class=\"dataframe\">\n",
       "  <thead>\n",
       "    <tr style=\"text-align: right;\">\n",
       "      <th></th>\n",
       "      <th>USA State</th>\n",
       "      <th>Total Cases</th>\n",
       "      <th>Total Deaths</th>\n",
       "      <th>Active Cases</th>\n",
       "      <th>Total Cases per 1M pop</th>\n",
       "      <th>Deaths per 1M pop</th>\n",
       "      <th>Total Tests</th>\n",
       "      <th>Tests per 1M pop</th>\n",
       "    </tr>\n",
       "  </thead>\n",
       "  <tbody>\n",
       "    <tr>\n",
       "      <th>0</th>\n",
       "      <td>USA Total</td>\n",
       "      <td>2,727,996</td>\n",
       "      <td>130,123</td>\n",
       "      <td>1,454,383</td>\n",
       "      <td>8,242</td>\n",
       "      <td>393</td>\n",
       "      <td>34,199,918</td>\n",
       "      <td>103,322</td>\n",
       "    </tr>\n",
       "    <tr>\n",
       "      <th>1</th>\n",
       "      <td>\\nNew York</td>\n",
       "      <td>417,836</td>\n",
       "      <td>\\n32,129</td>\n",
       "      <td>\\n296,232</td>\n",
       "      <td>21,479</td>\n",
       "      <td>1,652</td>\n",
       "      <td>\\n3,914,938</td>\n",
       "      <td>201,245</td>\n",
       "    </tr>\n",
       "  </tbody>\n",
       "</table>\n",
       "</div>"
      ],
      "text/plain": [
       "     USA State Total Cases Total Deaths Active Cases Total Cases per 1M pop  \\\n",
       "0    USA Total   2,727,996      130,123    1,454,383                  8,242   \n",
       "1  \\nNew York     417,836     \\n32,129    \\n296,232                  21,479   \n",
       "\n",
       "  Deaths per 1M pop   Total Tests Tests per 1M pop  \n",
       "0               393    34,199,918          103,322  \n",
       "1             1,652  \\n3,914,938           201,245  "
      ]
     },
     "execution_count": 101,
     "metadata": {},
     "output_type": "execute_result"
    }
   ],
   "source": [
    "stats.head(2)"
   ]
  },
  {
   "cell_type": "code",
   "execution_count": 102,
   "metadata": {},
   "outputs": [],
   "source": [
    "# Data Clean up \n",
    "# Below function iterates through every column in the df, to iterarte through each column\n",
    "def cleanup_df():\n",
    "    for col in stats.columns:\n",
    "        print(col)\n",
    "        stats[col]=stats[col].str.replace(',','') # Replacing commma with blank\n",
    "        stats[col]=stats[col].str.replace('\\n','',regex=True) # Replacing \\n with blank\n",
    "        #stats[col]=stats[col].str.replace(\"\",'0')\n",
    "        stats[col]=stats[col].str.strip() # Stripping the unwanted spaces at the start & at the end of the values in the column\n",
    "        stats.loc[stats[col] =='', col] = 0 # Assigning a value '0', where there are no values in the data set"
   ]
  },
  {
   "cell_type": "code",
   "execution_count": 104,
   "metadata": {},
   "outputs": [
    {
     "name": "stdout",
     "output_type": "stream",
     "text": [
      "USA State\n",
      "Total Cases\n",
      "Total Deaths\n",
      "Active Cases\n",
      "Total Cases per 1M pop\n",
      "Deaths per 1M pop\n",
      "Total Tests\n",
      "Tests per 1M pop\n"
     ]
    }
   ],
   "source": [
    "# Calling the function\n",
    "cleanup_df()"
   ]
  },
  {
   "cell_type": "code",
   "execution_count": 105,
   "metadata": {},
   "outputs": [],
   "source": [
    "# All the columns are in string data type. Need to convert into 'int' data type to perform arithematic operations further\n",
    "stats[['Total Cases','Total Deaths','Active Cases','Total Cases per 1M pop','Deaths per 1M pop','Total Tests','Tests per 1M pop']] = stats[['Total Cases','Total Deaths','Active Cases','Total Cases per 1M pop','Deaths per 1M pop','Total Tests','Tests per 1M pop']].astype(int)"
   ]
  },
  {
   "cell_type": "code",
   "execution_count": 106,
   "metadata": {},
   "outputs": [
    {
     "data": {
      "text/html": [
       "<div>\n",
       "<style scoped>\n",
       "    .dataframe tbody tr th:only-of-type {\n",
       "        vertical-align: middle;\n",
       "    }\n",
       "\n",
       "    .dataframe tbody tr th {\n",
       "        vertical-align: top;\n",
       "    }\n",
       "\n",
       "    .dataframe thead th {\n",
       "        text-align: right;\n",
       "    }\n",
       "</style>\n",
       "<table border=\"1\" class=\"dataframe\">\n",
       "  <thead>\n",
       "    <tr style=\"text-align: right;\">\n",
       "      <th></th>\n",
       "      <th>USA State</th>\n",
       "      <th>Total Cases</th>\n",
       "      <th>Total Deaths</th>\n",
       "      <th>Active Cases</th>\n",
       "      <th>Total Cases per 1M pop</th>\n",
       "      <th>Deaths per 1M pop</th>\n",
       "      <th>Total Tests</th>\n",
       "      <th>Tests per 1M pop</th>\n",
       "    </tr>\n",
       "  </thead>\n",
       "  <tbody>\n",
       "    <tr>\n",
       "      <th>0</th>\n",
       "      <td>USA Total</td>\n",
       "      <td>2727996</td>\n",
       "      <td>130123</td>\n",
       "      <td>1454383</td>\n",
       "      <td>8242</td>\n",
       "      <td>393</td>\n",
       "      <td>34199918</td>\n",
       "      <td>103322</td>\n",
       "    </tr>\n",
       "    <tr>\n",
       "      <th>1</th>\n",
       "      <td>New York</td>\n",
       "      <td>417836</td>\n",
       "      <td>32129</td>\n",
       "      <td>296232</td>\n",
       "      <td>21479</td>\n",
       "      <td>1652</td>\n",
       "      <td>3914938</td>\n",
       "      <td>201245</td>\n",
       "    </tr>\n",
       "  </tbody>\n",
       "</table>\n",
       "</div>"
      ],
      "text/plain": [
       "   USA State  Total Cases  Total Deaths  Active Cases  Total Cases per 1M pop  \\\n",
       "0  USA Total      2727996        130123       1454383                    8242   \n",
       "1   New York       417836         32129        296232                   21479   \n",
       "\n",
       "   Deaths per 1M pop  Total Tests  Tests per 1M pop  \n",
       "0                393     34199918            103322  \n",
       "1               1652      3914938            201245  "
      ]
     },
     "execution_count": 106,
     "metadata": {},
     "output_type": "execute_result"
    }
   ],
   "source": [
    "stats.head(2)"
   ]
  },
  {
   "cell_type": "code",
   "execution_count": 107,
   "metadata": {},
   "outputs": [
    {
     "name": "stdout",
     "output_type": "stream",
     "text": [
      "<class 'pandas.core.frame.DataFrame'>\n",
      "RangeIndex: 64 entries, 0 to 63\n",
      "Data columns (total 8 columns):\n",
      " #   Column                  Non-Null Count  Dtype \n",
      "---  ------                  --------------  ----- \n",
      " 0   USA State               64 non-null     object\n",
      " 1   Total Cases             64 non-null     int32 \n",
      " 2   Total Deaths            64 non-null     int32 \n",
      " 3   Active Cases            64 non-null     int32 \n",
      " 4   Total Cases per 1M pop  64 non-null     int32 \n",
      " 5   Deaths per 1M pop       64 non-null     int32 \n",
      " 6   Total Tests             64 non-null     int32 \n",
      " 7   Tests per 1M pop        64 non-null     int32 \n",
      "dtypes: int32(7), object(1)\n",
      "memory usage: 2.4+ KB\n"
     ]
    }
   ],
   "source": [
    "stats.info()"
   ]
  },
  {
   "cell_type": "code",
   "execution_count": 108,
   "metadata": {},
   "outputs": [
    {
     "data": {
      "text/html": [
       "<style  type=\"text/css\" >\n",
       "    #T_9d767ae8_bb83_11ea_9210_98af657cfb40row0_col8 {\n",
       "            background-color:  #7f0000;\n",
       "            color:  #f1f1f1;\n",
       "        }    #T_9d767ae8_bb83_11ea_9210_98af657cfb40row1_col8 {\n",
       "            background-color:  #dd3e2a;\n",
       "            color:  #f1f1f1;\n",
       "        }    #T_9d767ae8_bb83_11ea_9210_98af657cfb40row2_col8 {\n",
       "            background-color:  #ef6548;\n",
       "            color:  #000000;\n",
       "        }    #T_9d767ae8_bb83_11ea_9210_98af657cfb40row3_col8 {\n",
       "            background-color:  #fee4bf;\n",
       "            color:  #000000;\n",
       "        }    #T_9d767ae8_bb83_11ea_9210_98af657cfb40row4_col8 {\n",
       "            background-color:  #fff7ec;\n",
       "            color:  #000000;\n",
       "        }</style><table id=\"T_9d767ae8_bb83_11ea_9210_98af657cfb40\" ><thead>    <tr>        <th class=\"col_heading level0 col0\" >USA State</th>        <th class=\"col_heading level0 col1\" >Total Cases</th>        <th class=\"col_heading level0 col2\" >Total Deaths</th>        <th class=\"col_heading level0 col3\" >Active Cases</th>        <th class=\"col_heading level0 col4\" >Total Cases per 1M pop</th>        <th class=\"col_heading level0 col5\" >Deaths per 1M pop</th>        <th class=\"col_heading level0 col6\" >Total Tests</th>        <th class=\"col_heading level0 col7\" >Tests per 1M pop</th>        <th class=\"col_heading level0 col8\" >dead_rate</th>    </tr></thead><tbody>\n",
       "                <tr>\n",
       "                                <td id=\"T_9d767ae8_bb83_11ea_9210_98af657cfb40row0_col0\" class=\"data row0 col0\" >Connecticut</td>\n",
       "                        <td id=\"T_9d767ae8_bb83_11ea_9210_98af657cfb40row0_col1\" class=\"data row0 col1\" >46514</td>\n",
       "                        <td id=\"T_9d767ae8_bb83_11ea_9210_98af657cfb40row0_col2\" class=\"data row0 col2\" >4322</td>\n",
       "                        <td id=\"T_9d767ae8_bb83_11ea_9210_98af657cfb40row0_col3\" class=\"data row0 col3\" >31220</td>\n",
       "                        <td id=\"T_9d767ae8_bb83_11ea_9210_98af657cfb40row0_col4\" class=\"data row0 col4\" >13046</td>\n",
       "                        <td id=\"T_9d767ae8_bb83_11ea_9210_98af657cfb40row0_col5\" class=\"data row0 col5\" >1212</td>\n",
       "                        <td id=\"T_9d767ae8_bb83_11ea_9210_98af657cfb40row0_col6\" class=\"data row0 col6\" >466394</td>\n",
       "                        <td id=\"T_9d767ae8_bb83_11ea_9210_98af657cfb40row0_col7\" class=\"data row0 col7\" >130815</td>\n",
       "                        <td id=\"T_9d767ae8_bb83_11ea_9210_98af657cfb40row0_col8\" class=\"data row0 col8\" >9.291826</td>\n",
       "            </tr>\n",
       "            <tr>\n",
       "                                <td id=\"T_9d767ae8_bb83_11ea_9210_98af657cfb40row1_col0\" class=\"data row1 col0\" >Michigan</td>\n",
       "                        <td id=\"T_9d767ae8_bb83_11ea_9210_98af657cfb40row1_col1\" class=\"data row1 col1\" >70728</td>\n",
       "                        <td id=\"T_9d767ae8_bb83_11ea_9210_98af657cfb40row1_col2\" class=\"data row1 col2\" >6193</td>\n",
       "                        <td id=\"T_9d767ae8_bb83_11ea_9210_98af657cfb40row1_col3\" class=\"data row1 col3\" >13436</td>\n",
       "                        <td id=\"T_9d767ae8_bb83_11ea_9210_98af657cfb40row1_col4\" class=\"data row1 col4\" >7082</td>\n",
       "                        <td id=\"T_9d767ae8_bb83_11ea_9210_98af657cfb40row1_col5\" class=\"data row1 col5\" >620</td>\n",
       "                        <td id=\"T_9d767ae8_bb83_11ea_9210_98af657cfb40row1_col6\" class=\"data row1 col6\" >1222547</td>\n",
       "                        <td id=\"T_9d767ae8_bb83_11ea_9210_98af657cfb40row1_col7\" class=\"data row1 col7\" >122416</td>\n",
       "                        <td id=\"T_9d767ae8_bb83_11ea_9210_98af657cfb40row1_col8\" class=\"data row1 col8\" >8.756080</td>\n",
       "            </tr>\n",
       "            <tr>\n",
       "                                <td id=\"T_9d767ae8_bb83_11ea_9210_98af657cfb40row2_col0\" class=\"data row2 col0\" >New Jersey</td>\n",
       "                        <td id=\"T_9d767ae8_bb83_11ea_9210_98af657cfb40row2_col1\" class=\"data row2 col1\" >176953</td>\n",
       "                        <td id=\"T_9d767ae8_bb83_11ea_9210_98af657cfb40row2_col2\" class=\"data row2 col2\" >15177</td>\n",
       "                        <td id=\"T_9d767ae8_bb83_11ea_9210_98af657cfb40row2_col3\" class=\"data row2 col3\" >116634</td>\n",
       "                        <td id=\"T_9d767ae8_bb83_11ea_9210_98af657cfb40row2_col4\" class=\"data row2 col4\" >19922</td>\n",
       "                        <td id=\"T_9d767ae8_bb83_11ea_9210_98af657cfb40row2_col5\" class=\"data row2 col5\" >1709</td>\n",
       "                        <td id=\"T_9d767ae8_bb83_11ea_9210_98af657cfb40row2_col6\" class=\"data row2 col6\" >1422374</td>\n",
       "                        <td id=\"T_9d767ae8_bb83_11ea_9210_98af657cfb40row2_col7\" class=\"data row2 col7\" >160138</td>\n",
       "                        <td id=\"T_9d767ae8_bb83_11ea_9210_98af657cfb40row2_col8\" class=\"data row2 col8\" >8.576854</td>\n",
       "            </tr>\n",
       "            <tr>\n",
       "                                <td id=\"T_9d767ae8_bb83_11ea_9210_98af657cfb40row3_col0\" class=\"data row3 col0\" >New York</td>\n",
       "                        <td id=\"T_9d767ae8_bb83_11ea_9210_98af657cfb40row3_col1\" class=\"data row3 col1\" >417836</td>\n",
       "                        <td id=\"T_9d767ae8_bb83_11ea_9210_98af657cfb40row3_col2\" class=\"data row3 col2\" >32129</td>\n",
       "                        <td id=\"T_9d767ae8_bb83_11ea_9210_98af657cfb40row3_col3\" class=\"data row3 col3\" >296232</td>\n",
       "                        <td id=\"T_9d767ae8_bb83_11ea_9210_98af657cfb40row3_col4\" class=\"data row3 col4\" >21479</td>\n",
       "                        <td id=\"T_9d767ae8_bb83_11ea_9210_98af657cfb40row3_col5\" class=\"data row3 col5\" >1652</td>\n",
       "                        <td id=\"T_9d767ae8_bb83_11ea_9210_98af657cfb40row3_col6\" class=\"data row3 col6\" >3914938</td>\n",
       "                        <td id=\"T_9d767ae8_bb83_11ea_9210_98af657cfb40row3_col7\" class=\"data row3 col7\" >201245</td>\n",
       "                        <td id=\"T_9d767ae8_bb83_11ea_9210_98af657cfb40row3_col8\" class=\"data row3 col8\" >7.689381</td>\n",
       "            </tr>\n",
       "            <tr>\n",
       "                                <td id=\"T_9d767ae8_bb83_11ea_9210_98af657cfb40row4_col0\" class=\"data row4 col0\" >Massachusetts</td>\n",
       "                        <td id=\"T_9d767ae8_bb83_11ea_9210_98af657cfb40row4_col1\" class=\"data row4 col1\" >108882</td>\n",
       "                        <td id=\"T_9d767ae8_bb83_11ea_9210_98af657cfb40row4_col2\" class=\"data row4 col2\" >8054</td>\n",
       "                        <td id=\"T_9d767ae8_bb83_11ea_9210_98af657cfb40row4_col3\" class=\"data row4 col3\" >9424</td>\n",
       "                        <td id=\"T_9d767ae8_bb83_11ea_9210_98af657cfb40row4_col4\" class=\"data row4 col4\" >15797</td>\n",
       "                        <td id=\"T_9d767ae8_bb83_11ea_9210_98af657cfb40row4_col5\" class=\"data row4 col5\" >1169</td>\n",
       "                        <td id=\"T_9d767ae8_bb83_11ea_9210_98af657cfb40row4_col6\" class=\"data row4 col6\" >914646</td>\n",
       "                        <td id=\"T_9d767ae8_bb83_11ea_9210_98af657cfb40row4_col7\" class=\"data row4 col7\" >132702</td>\n",
       "                        <td id=\"T_9d767ae8_bb83_11ea_9210_98af657cfb40row4_col8\" class=\"data row4 col8\" >7.396999</td>\n",
       "            </tr>\n",
       "    </tbody></table>"
      ],
      "text/plain": [
       "<pandas.io.formats.style.Styler at 0x2c918789288>"
      ]
     },
     "execution_count": 108,
     "metadata": {},
     "output_type": "execute_result"
    }
   ],
   "source": [
    "# Calculating the death rate at each state in US\n",
    "stats['dead_rate'] = (stats['Total Deaths'] / stats['Total Cases'] * 100)\n",
    "(stats\n",
    "    .sort_values(by='dead_rate', ascending=False)   \n",
    "    .head(5)\n",
    "    .style\n",
    "    .hide_index()\n",
    "    .background_gradient(cmap='OrRd', subset='dead_rate')\n",
    ")"
   ]
  },
  {
   "cell_type": "code",
   "execution_count": 109,
   "metadata": {},
   "outputs": [
    {
     "data": {
      "text/html": [
       "<style  type=\"text/css\" >\n",
       "    #T_9e1f49de_bb83_11ea_9a32_98af657cfb40row0_col9 {\n",
       "            background-color:  #004529;\n",
       "            color:  #f1f1f1;\n",
       "        }    #T_9e1f49de_bb83_11ea_9a32_98af657cfb40row1_col9 {\n",
       "            background-color:  #56b568;\n",
       "            color:  #000000;\n",
       "        }    #T_9e1f49de_bb83_11ea_9a32_98af657cfb40row2_col9 {\n",
       "            background-color:  #66bd70;\n",
       "            color:  #000000;\n",
       "        }    #T_9e1f49de_bb83_11ea_9a32_98af657cfb40row3_col9 {\n",
       "            background-color:  #77c679;\n",
       "            color:  #000000;\n",
       "        }    #T_9e1f49de_bb83_11ea_9a32_98af657cfb40row4_col9 {\n",
       "            background-color:  #ffffe5;\n",
       "            color:  #000000;\n",
       "        }</style><table id=\"T_9e1f49de_bb83_11ea_9a32_98af657cfb40\" ><thead>    <tr>        <th class=\"col_heading level0 col0\" >USA State</th>        <th class=\"col_heading level0 col1\" >Total Cases</th>        <th class=\"col_heading level0 col2\" >Total Deaths</th>        <th class=\"col_heading level0 col3\" >Active Cases</th>        <th class=\"col_heading level0 col4\" >Total Cases per 1M pop</th>        <th class=\"col_heading level0 col5\" >Deaths per 1M pop</th>        <th class=\"col_heading level0 col6\" >Total Tests</th>        <th class=\"col_heading level0 col7\" >Tests per 1M pop</th>        <th class=\"col_heading level0 col8\" >dead_rate</th>        <th class=\"col_heading level0 col9\" >cured_rate</th>    </tr></thead><tbody>\n",
       "                <tr>\n",
       "                                <td id=\"T_9e1f49de_bb83_11ea_9a32_98af657cfb40row0_col0\" class=\"data row0 col0\" >United States Virgin Islands</td>\n",
       "                        <td id=\"T_9e1f49de_bb83_11ea_9a32_98af657cfb40row0_col1\" class=\"data row0 col1\" >84</td>\n",
       "                        <td id=\"T_9e1f49de_bb83_11ea_9a32_98af657cfb40row0_col2\" class=\"data row0 col2\" >6</td>\n",
       "                        <td id=\"T_9e1f49de_bb83_11ea_9a32_98af657cfb40row0_col3\" class=\"data row0 col3\" >5</td>\n",
       "                        <td id=\"T_9e1f49de_bb83_11ea_9a32_98af657cfb40row0_col4\" class=\"data row0 col4\" >0</td>\n",
       "                        <td id=\"T_9e1f49de_bb83_11ea_9a32_98af657cfb40row0_col5\" class=\"data row0 col5\" >0</td>\n",
       "                        <td id=\"T_9e1f49de_bb83_11ea_9a32_98af657cfb40row0_col6\" class=\"data row0 col6\" >2907</td>\n",
       "                        <td id=\"T_9e1f49de_bb83_11ea_9a32_98af657cfb40row0_col7\" class=\"data row0 col7\" >0</td>\n",
       "                        <td id=\"T_9e1f49de_bb83_11ea_9a32_98af657cfb40row0_col8\" class=\"data row0 col8\" >7.142857</td>\n",
       "                        <td id=\"T_9e1f49de_bb83_11ea_9a32_98af657cfb40row0_col9\" class=\"data row0 col9\" >94.047619</td>\n",
       "            </tr>\n",
       "            <tr>\n",
       "                                <td id=\"T_9e1f49de_bb83_11ea_9a32_98af657cfb40row1_col0\" class=\"data row1 col0\" >North Dakota</td>\n",
       "                        <td id=\"T_9e1f49de_bb83_11ea_9a32_98af657cfb40row1_col1\" class=\"data row1 col1\" >3576</td>\n",
       "                        <td id=\"T_9e1f49de_bb83_11ea_9a32_98af657cfb40row1_col2\" class=\"data row1 col2\" >79</td>\n",
       "                        <td id=\"T_9e1f49de_bb83_11ea_9a32_98af657cfb40row1_col3\" class=\"data row1 col3\" >302</td>\n",
       "                        <td id=\"T_9e1f49de_bb83_11ea_9a32_98af657cfb40row1_col4\" class=\"data row1 col4\" >4693</td>\n",
       "                        <td id=\"T_9e1f49de_bb83_11ea_9a32_98af657cfb40row1_col5\" class=\"data row1 col5\" >104</td>\n",
       "                        <td id=\"T_9e1f49de_bb83_11ea_9a32_98af657cfb40row1_col6\" class=\"data row1 col6\" >106122</td>\n",
       "                        <td id=\"T_9e1f49de_bb83_11ea_9a32_98af657cfb40row1_col7\" class=\"data row1 col7\" >139256</td>\n",
       "                        <td id=\"T_9e1f49de_bb83_11ea_9a32_98af657cfb40row1_col8\" class=\"data row1 col8\" >2.209172</td>\n",
       "                        <td id=\"T_9e1f49de_bb83_11ea_9a32_98af657cfb40row1_col9\" class=\"data row1 col9\" >91.554810</td>\n",
       "            </tr>\n",
       "            <tr>\n",
       "                                <td id=\"T_9e1f49de_bb83_11ea_9a32_98af657cfb40row2_col0\" class=\"data row2 col0\" >Massachusetts</td>\n",
       "                        <td id=\"T_9e1f49de_bb83_11ea_9a32_98af657cfb40row2_col1\" class=\"data row2 col1\" >108882</td>\n",
       "                        <td id=\"T_9e1f49de_bb83_11ea_9a32_98af657cfb40row2_col2\" class=\"data row2 col2\" >8054</td>\n",
       "                        <td id=\"T_9e1f49de_bb83_11ea_9a32_98af657cfb40row2_col3\" class=\"data row2 col3\" >9424</td>\n",
       "                        <td id=\"T_9e1f49de_bb83_11ea_9a32_98af657cfb40row2_col4\" class=\"data row2 col4\" >15797</td>\n",
       "                        <td id=\"T_9e1f49de_bb83_11ea_9a32_98af657cfb40row2_col5\" class=\"data row2 col5\" >1169</td>\n",
       "                        <td id=\"T_9e1f49de_bb83_11ea_9a32_98af657cfb40row2_col6\" class=\"data row2 col6\" >914646</td>\n",
       "                        <td id=\"T_9e1f49de_bb83_11ea_9a32_98af657cfb40row2_col7\" class=\"data row2 col7\" >132702</td>\n",
       "                        <td id=\"T_9e1f49de_bb83_11ea_9a32_98af657cfb40row2_col8\" class=\"data row2 col8\" >7.396999</td>\n",
       "                        <td id=\"T_9e1f49de_bb83_11ea_9a32_98af657cfb40row2_col9\" class=\"data row2 col9\" >91.344759</td>\n",
       "            </tr>\n",
       "            <tr>\n",
       "                                <td id=\"T_9e1f49de_bb83_11ea_9a32_98af657cfb40row3_col0\" class=\"data row3 col0\" >Minnesota</td>\n",
       "                        <td id=\"T_9e1f49de_bb83_11ea_9a32_98af657cfb40row3_col1\" class=\"data row3 col1\" >36303</td>\n",
       "                        <td id=\"T_9e1f49de_bb83_11ea_9a32_98af657cfb40row3_col2\" class=\"data row3 col2\" >1476</td>\n",
       "                        <td id=\"T_9e1f49de_bb83_11ea_9a32_98af657cfb40row3_col3\" class=\"data row3 col3\" >3226</td>\n",
       "                        <td id=\"T_9e1f49de_bb83_11ea_9a32_98af657cfb40row3_col4\" class=\"data row3 col4\" >6437</td>\n",
       "                        <td id=\"T_9e1f49de_bb83_11ea_9a32_98af657cfb40row3_col5\" class=\"data row3 col5\" >262</td>\n",
       "                        <td id=\"T_9e1f49de_bb83_11ea_9a32_98af657cfb40row3_col6\" class=\"data row3 col6\" >605316</td>\n",
       "                        <td id=\"T_9e1f49de_bb83_11ea_9a32_98af657cfb40row3_col7\" class=\"data row3 col7\" >107333</td>\n",
       "                        <td id=\"T_9e1f49de_bb83_11ea_9a32_98af657cfb40row3_col8\" class=\"data row3 col8\" >4.065780</td>\n",
       "                        <td id=\"T_9e1f49de_bb83_11ea_9a32_98af657cfb40row3_col9\" class=\"data row3 col9\" >91.113682</td>\n",
       "            </tr>\n",
       "            <tr>\n",
       "                                <td id=\"T_9e1f49de_bb83_11ea_9a32_98af657cfb40row4_col0\" class=\"data row4 col0\" >South Dakota</td>\n",
       "                        <td id=\"T_9e1f49de_bb83_11ea_9a32_98af657cfb40row4_col1\" class=\"data row4 col1\" >6764</td>\n",
       "                        <td id=\"T_9e1f49de_bb83_11ea_9a32_98af657cfb40row4_col2\" class=\"data row4 col2\" >91</td>\n",
       "                        <td id=\"T_9e1f49de_bb83_11ea_9a32_98af657cfb40row4_col3\" class=\"data row4 col3\" >801</td>\n",
       "                        <td id=\"T_9e1f49de_bb83_11ea_9a32_98af657cfb40row4_col4\" class=\"data row4 col4\" >7646</td>\n",
       "                        <td id=\"T_9e1f49de_bb83_11ea_9a32_98af657cfb40row4_col5\" class=\"data row4 col5\" >103</td>\n",
       "                        <td id=\"T_9e1f49de_bb83_11ea_9a32_98af657cfb40row4_col6\" class=\"data row4 col6\" >80088</td>\n",
       "                        <td id=\"T_9e1f49de_bb83_11ea_9a32_98af657cfb40row4_col7\" class=\"data row4 col7\" >90530</td>\n",
       "                        <td id=\"T_9e1f49de_bb83_11ea_9a32_98af657cfb40row4_col8\" class=\"data row4 col8\" >1.345358</td>\n",
       "                        <td id=\"T_9e1f49de_bb83_11ea_9a32_98af657cfb40row4_col9\" class=\"data row4 col9\" >88.157895</td>\n",
       "            </tr>\n",
       "    </tbody></table>"
      ],
      "text/plain": [
       "<pandas.io.formats.style.Styler at 0x2c91878fd48>"
      ]
     },
     "execution_count": 109,
     "metadata": {},
     "output_type": "execute_result"
    }
   ],
   "source": [
    "# Calculating the cured rate at each state in US\n",
    "stats['cured_rate'] = ((stats['Total Cases'] - stats['Active Cases'])/ stats['Total Cases'] * 100)\n",
    "(stats\n",
    "    .sort_values(by='cured_rate', ascending=False)   \n",
    "    .head(5)\n",
    "    .style\n",
    "    .hide_index()\n",
    "    .background_gradient(cmap='YlGn', subset='cured_rate')\n",
    ")"
   ]
  },
  {
   "cell_type": "markdown",
   "metadata": {},
   "source": [
    "##### Exercise 2: To Pull the data from API"
   ]
  },
  {
   "cell_type": "markdown",
   "metadata": {},
   "source": [
    "Notes for extracting the data from API <br>\n",
    "To pull or access the data through API, need host & key for the API. There can be few public APIs with no authenticaion required. "
   ]
  },
  {
   "cell_type": "code",
   "execution_count": 111,
   "metadata": {},
   "outputs": [
    {
     "name": "stdout",
     "output_type": "stream",
     "text": [
      "Status 200\n"
     ]
    }
   ],
   "source": [
    "DATA_URL = 'https://rapidapi.com/ZermeloTechnologies/api/covid-19-usa-data-by-zt'\n",
    "\n",
    "r = requests.get(DATA_URL)\n",
    "print(f'Status {r.status_code}')"
   ]
  },
  {
   "cell_type": "code",
   "execution_count": 148,
   "metadata": {},
   "outputs": [],
   "source": [
    "url = \"https://covid-19-usa-data-by-zt.p.rapidapi.com/GetUSStateWiseData\"\n",
    "\n",
    "headers = {\n",
    "    'x-rapidapi-host': \"covid-19-usa-data-by-zt.p.rapidapi.com\",\n",
    "    'x-rapidapi-key': \"e4a0f5191dmsh32f12c91288b7ffp11a5adjsn38b664d6d513\"\n",
    "    }\n",
    "\n",
    "response = requests.request(\"GET\", url, headers=headers)\n",
    "\n",
    "#print(response.text)"
   ]
  },
  {
   "cell_type": "code",
   "execution_count": 113,
   "metadata": {},
   "outputs": [
    {
     "data": {
      "text/plain": [
       "requests.models.Response"
      ]
     },
     "execution_count": 113,
     "metadata": {},
     "output_type": "execute_result"
    }
   ],
   "source": [
    "type(response)"
   ]
  },
  {
   "cell_type": "code",
   "execution_count": 114,
   "metadata": {},
   "outputs": [
    {
     "data": {
      "text/html": [
       "<div>\n",
       "<style scoped>\n",
       "    .dataframe tbody tr th:only-of-type {\n",
       "        vertical-align: middle;\n",
       "    }\n",
       "\n",
       "    .dataframe tbody tr th {\n",
       "        vertical-align: top;\n",
       "    }\n",
       "\n",
       "    .dataframe thead th {\n",
       "        text-align: right;\n",
       "    }\n",
       "</style>\n",
       "<table border=\"1\" class=\"dataframe\">\n",
       "  <thead>\n",
       "    <tr style=\"text-align: right;\">\n",
       "      <th></th>\n",
       "      <th>code</th>\n",
       "      <th>name</th>\n",
       "      <th>active</th>\n",
       "      <th>deaths</th>\n",
       "      <th>tested</th>\n",
       "      <th>confirmed</th>\n",
       "      <th>newdeaths</th>\n",
       "      <th>newtested</th>\n",
       "      <th>recovered</th>\n",
       "      <th>newconfirmed</th>\n",
       "      <th>newrecovered</th>\n",
       "      <th>lastupdatedtime</th>\n",
       "    </tr>\n",
       "  </thead>\n",
       "  <tbody>\n",
       "    <tr>\n",
       "      <th>0</th>\n",
       "      <td>MO</td>\n",
       "      <td>Missouri</td>\n",
       "      <td>19996</td>\n",
       "      <td>1005</td>\n",
       "      <td>373007</td>\n",
       "      <td>21001</td>\n",
       "      <td>1</td>\n",
       "      <td>5601</td>\n",
       "      <td>0</td>\n",
       "      <td>176</td>\n",
       "      <td>0</td>\n",
       "      <td>2020-07-01 04:34:05</td>\n",
       "    </tr>\n",
       "    <tr>\n",
       "      <th>1</th>\n",
       "      <td>VT</td>\n",
       "      <td>Vermont</td>\n",
       "      <td>199</td>\n",
       "      <td>56</td>\n",
       "      <td>65764</td>\n",
       "      <td>1208</td>\n",
       "      <td>0</td>\n",
       "      <td>771</td>\n",
       "      <td>953</td>\n",
       "      <td>0</td>\n",
       "      <td>4</td>\n",
       "      <td>2020-07-01 04:34:05</td>\n",
       "    </tr>\n",
       "    <tr>\n",
       "      <th>2</th>\n",
       "      <td>MN</td>\n",
       "      <td>Minnesota</td>\n",
       "      <td>3226</td>\n",
       "      <td>1476</td>\n",
       "      <td>605316</td>\n",
       "      <td>36303</td>\n",
       "      <td>6</td>\n",
       "      <td>12361</td>\n",
       "      <td>31601</td>\n",
       "      <td>442</td>\n",
       "      <td>376</td>\n",
       "      <td>2020-07-01 04:34:05</td>\n",
       "    </tr>\n",
       "    <tr>\n",
       "      <th>3</th>\n",
       "      <td>DE</td>\n",
       "      <td>Delaware</td>\n",
       "      <td>4298</td>\n",
       "      <td>509</td>\n",
       "      <td>110881</td>\n",
       "      <td>11474</td>\n",
       "      <td>2</td>\n",
       "      <td>950</td>\n",
       "      <td>6667</td>\n",
       "      <td>98</td>\n",
       "      <td>2</td>\n",
       "      <td>2020-07-01 04:34:05</td>\n",
       "    </tr>\n",
       "    <tr>\n",
       "      <th>4</th>\n",
       "      <td>MI</td>\n",
       "      <td>Michigan</td>\n",
       "      <td>13436</td>\n",
       "      <td>6193</td>\n",
       "      <td>1045057</td>\n",
       "      <td>70728</td>\n",
       "      <td>32</td>\n",
       "      <td>15682</td>\n",
       "      <td>51099</td>\n",
       "      <td>505</td>\n",
       "      <td>0</td>\n",
       "      <td>2020-07-01 04:34:05</td>\n",
       "    </tr>\n",
       "  </tbody>\n",
       "</table>\n",
       "</div>"
      ],
      "text/plain": [
       "  code       name active deaths   tested confirmed newdeaths newtested  \\\n",
       "0   MO   Missouri  19996   1005   373007     21001         1      5601   \n",
       "1   VT    Vermont    199     56    65764      1208         0       771   \n",
       "2   MN  Minnesota   3226   1476   605316     36303         6     12361   \n",
       "3   DE   Delaware   4298    509   110881     11474         2       950   \n",
       "4   MI   Michigan  13436   6193  1045057     70728        32     15682   \n",
       "\n",
       "  recovered newconfirmed newrecovered      lastupdatedtime  \n",
       "0         0          176            0  2020-07-01 04:34:05  \n",
       "1       953            0            4  2020-07-01 04:34:05  \n",
       "2     31601          442          376  2020-07-01 04:34:05  \n",
       "3      6667           98            2  2020-07-01 04:34:05  \n",
       "4     51099          505            0  2020-07-01 04:34:05  "
      ]
     },
     "execution_count": 114,
     "metadata": {},
     "output_type": "execute_result"
    }
   ],
   "source": [
    "# Extracting the data from the 'Response' variable.\n",
    "api = response.json()\n",
    "\n",
    "New_Data = pd.DataFrame(api['data'])\n",
    "New_Data.head()"
   ]
  },
  {
   "cell_type": "code",
   "execution_count": 115,
   "metadata": {},
   "outputs": [
    {
     "data": {
      "text/plain": [
       "(50, 12)"
      ]
     },
     "execution_count": 115,
     "metadata": {},
     "output_type": "execute_result"
    }
   ],
   "source": [
    "New_Data.shape"
   ]
  },
  {
   "cell_type": "markdown",
   "metadata": {},
   "source": [
    "Extracting new data from the other API"
   ]
  },
  {
   "cell_type": "code",
   "execution_count": 149,
   "metadata": {},
   "outputs": [],
   "source": [
    "url = \"https://covid-19-usa-data-by-zt.p.rapidapi.com/GetUSAllHistoricalData\"\n",
    "\n",
    "headers = {\n",
    "    'x-rapidapi-host': \"covid-19-usa-data-by-zt.p.rapidapi.com\",\n",
    "    'x-rapidapi-key': \"e4a0f5191dmsh32f12c91288b7ffp11a5adjsn38b664d6d513\"\n",
    "    }\n",
    "\n",
    "response1 = requests.request(\"GET\", url, headers=headers)\n",
    "\n",
    "#print(response1.text)"
   ]
  },
  {
   "cell_type": "code",
   "execution_count": 150,
   "metadata": {},
   "outputs": [
    {
     "data": {
      "text/html": [
       "<div>\n",
       "<style scoped>\n",
       "    .dataframe tbody tr th:only-of-type {\n",
       "        vertical-align: middle;\n",
       "    }\n",
       "\n",
       "    .dataframe tbody tr th {\n",
       "        vertical-align: top;\n",
       "    }\n",
       "\n",
       "    .dataframe thead th {\n",
       "        text-align: right;\n",
       "    }\n",
       "</style>\n",
       "<table border=\"1\" class=\"dataframe\">\n",
       "  <thead>\n",
       "    <tr style=\"text-align: right;\">\n",
       "      <th></th>\n",
       "      <th>dateofrecord</th>\n",
       "      <th>cases</th>\n",
       "    </tr>\n",
       "  </thead>\n",
       "  <tbody>\n",
       "    <tr>\n",
       "      <th>0</th>\n",
       "      <td>2020-01-23</td>\n",
       "      <td>{'dailytested': '0', 'totaltested': '0', 'dail...</td>\n",
       "    </tr>\n",
       "    <tr>\n",
       "      <th>1</th>\n",
       "      <td>2020-01-24</td>\n",
       "      <td>{'dailytested': '0', 'totaltested': '0', 'dail...</td>\n",
       "    </tr>\n",
       "    <tr>\n",
       "      <th>2</th>\n",
       "      <td>2020-01-25</td>\n",
       "      <td>{'dailytested': '0', 'totaltested': '0', 'dail...</td>\n",
       "    </tr>\n",
       "    <tr>\n",
       "      <th>3</th>\n",
       "      <td>2020-01-26</td>\n",
       "      <td>{'dailytested': '0', 'totaltested': '0', 'dail...</td>\n",
       "    </tr>\n",
       "    <tr>\n",
       "      <th>4</th>\n",
       "      <td>2020-01-27</td>\n",
       "      <td>{'dailytested': '0', 'totaltested': '0', 'dail...</td>\n",
       "    </tr>\n",
       "  </tbody>\n",
       "</table>\n",
       "</div>"
      ],
      "text/plain": [
       "  dateofrecord                                              cases\n",
       "0   2020-01-23  {'dailytested': '0', 'totaltested': '0', 'dail...\n",
       "1   2020-01-24  {'dailytested': '0', 'totaltested': '0', 'dail...\n",
       "2   2020-01-25  {'dailytested': '0', 'totaltested': '0', 'dail...\n",
       "3   2020-01-26  {'dailytested': '0', 'totaltested': '0', 'dail...\n",
       "4   2020-01-27  {'dailytested': '0', 'totaltested': '0', 'dail..."
      ]
     },
     "execution_count": 150,
     "metadata": {},
     "output_type": "execute_result"
    }
   ],
   "source": [
    "api1 = response1.json()\n",
    "\n",
    "New_Data1 = pd.DataFrame(api1['records'])\n",
    "New_Data1.head()"
   ]
  },
  {
   "cell_type": "code",
   "execution_count": 152,
   "metadata": {},
   "outputs": [
    {
     "data": {
      "text/plain": [
       "{'dailytested': '0',\n",
       " 'totaltested': '0',\n",
       " 'dailydeceased': '0',\n",
       " 'totaldeceased': '0',\n",
       " 'dailyconfirmed': '0',\n",
       " 'dailyrecovered': '0',\n",
       " 'totalconfirmed': '1',\n",
       " 'totalrecovered': '0'}"
      ]
     },
     "execution_count": 152,
     "metadata": {},
     "output_type": "execute_result"
    }
   ],
   "source": [
    "New_Data1['cases'][0]"
   ]
  },
  {
   "cell_type": "code",
   "execution_count": 185,
   "metadata": {},
   "outputs": [
    {
     "data": {
      "text/plain": [
       "(160, 2)"
      ]
     },
     "execution_count": 185,
     "metadata": {},
     "output_type": "execute_result"
    }
   ],
   "source": [
    "New_Data1.shape"
   ]
  },
  {
   "cell_type": "code",
   "execution_count": 186,
   "metadata": {},
   "outputs": [],
   "source": [
    "# Extracting the dictionary values from the column 'cases' in dataframe\n",
    "New_Data2=New_Data1['cases'].apply(pd.Series)\n",
    "New_Data1=pd.concat([New_Data1, New_Data2],axis=1)"
   ]
  },
  {
   "cell_type": "code",
   "execution_count": 190,
   "metadata": {},
   "outputs": [
    {
     "data": {
      "text/html": [
       "<div>\n",
       "<style scoped>\n",
       "    .dataframe tbody tr th:only-of-type {\n",
       "        vertical-align: middle;\n",
       "    }\n",
       "\n",
       "    .dataframe tbody tr th {\n",
       "        vertical-align: top;\n",
       "    }\n",
       "\n",
       "    .dataframe thead th {\n",
       "        text-align: right;\n",
       "    }\n",
       "</style>\n",
       "<table border=\"1\" class=\"dataframe\">\n",
       "  <thead>\n",
       "    <tr style=\"text-align: right;\">\n",
       "      <th></th>\n",
       "      <th>dateofrecord</th>\n",
       "      <th>cases</th>\n",
       "      <th>dailytested</th>\n",
       "      <th>totaltested</th>\n",
       "      <th>dailydeceased</th>\n",
       "      <th>totaldeceased</th>\n",
       "      <th>dailyconfirmed</th>\n",
       "      <th>dailyrecovered</th>\n",
       "      <th>totalconfirmed</th>\n",
       "      <th>totalrecovered</th>\n",
       "    </tr>\n",
       "  </thead>\n",
       "  <tbody>\n",
       "    <tr>\n",
       "      <th>0</th>\n",
       "      <td>2020-01-23</td>\n",
       "      <td>{'dailytested': '0', 'totaltested': '0', 'dail...</td>\n",
       "      <td>0</td>\n",
       "      <td>0</td>\n",
       "      <td>0</td>\n",
       "      <td>0</td>\n",
       "      <td>0</td>\n",
       "      <td>0</td>\n",
       "      <td>1</td>\n",
       "      <td>0</td>\n",
       "    </tr>\n",
       "    <tr>\n",
       "      <th>1</th>\n",
       "      <td>2020-01-24</td>\n",
       "      <td>{'dailytested': '0', 'totaltested': '0', 'dail...</td>\n",
       "      <td>0</td>\n",
       "      <td>0</td>\n",
       "      <td>0</td>\n",
       "      <td>0</td>\n",
       "      <td>1</td>\n",
       "      <td>0</td>\n",
       "      <td>2</td>\n",
       "      <td>0</td>\n",
       "    </tr>\n",
       "    <tr>\n",
       "      <th>2</th>\n",
       "      <td>2020-01-25</td>\n",
       "      <td>{'dailytested': '0', 'totaltested': '0', 'dail...</td>\n",
       "      <td>0</td>\n",
       "      <td>0</td>\n",
       "      <td>0</td>\n",
       "      <td>0</td>\n",
       "      <td>0</td>\n",
       "      <td>0</td>\n",
       "      <td>2</td>\n",
       "      <td>0</td>\n",
       "    </tr>\n",
       "    <tr>\n",
       "      <th>3</th>\n",
       "      <td>2020-01-26</td>\n",
       "      <td>{'dailytested': '0', 'totaltested': '0', 'dail...</td>\n",
       "      <td>0</td>\n",
       "      <td>0</td>\n",
       "      <td>0</td>\n",
       "      <td>0</td>\n",
       "      <td>3</td>\n",
       "      <td>0</td>\n",
       "      <td>5</td>\n",
       "      <td>0</td>\n",
       "    </tr>\n",
       "    <tr>\n",
       "      <th>4</th>\n",
       "      <td>2020-01-27</td>\n",
       "      <td>{'dailytested': '0', 'totaltested': '0', 'dail...</td>\n",
       "      <td>0</td>\n",
       "      <td>0</td>\n",
       "      <td>0</td>\n",
       "      <td>0</td>\n",
       "      <td>0</td>\n",
       "      <td>0</td>\n",
       "      <td>5</td>\n",
       "      <td>0</td>\n",
       "    </tr>\n",
       "  </tbody>\n",
       "</table>\n",
       "</div>"
      ],
      "text/plain": [
       "  dateofrecord                                              cases dailytested  \\\n",
       "0   2020-01-23  {'dailytested': '0', 'totaltested': '0', 'dail...           0   \n",
       "1   2020-01-24  {'dailytested': '0', 'totaltested': '0', 'dail...           0   \n",
       "2   2020-01-25  {'dailytested': '0', 'totaltested': '0', 'dail...           0   \n",
       "3   2020-01-26  {'dailytested': '0', 'totaltested': '0', 'dail...           0   \n",
       "4   2020-01-27  {'dailytested': '0', 'totaltested': '0', 'dail...           0   \n",
       "\n",
       "  totaltested dailydeceased totaldeceased dailyconfirmed dailyrecovered  \\\n",
       "0           0             0             0              0              0   \n",
       "1           0             0             0              1              0   \n",
       "2           0             0             0              0              0   \n",
       "3           0             0             0              3              0   \n",
       "4           0             0             0              0              0   \n",
       "\n",
       "  totalconfirmed totalrecovered  \n",
       "0              1              0  \n",
       "1              2              0  \n",
       "2              2              0  \n",
       "3              5              0  \n",
       "4              5              0  "
      ]
     },
     "execution_count": 190,
     "metadata": {},
     "output_type": "execute_result"
    }
   ],
   "source": [
    "New_Data1.head()"
   ]
  },
  {
   "cell_type": "code",
   "execution_count": 221,
   "metadata": {},
   "outputs": [
    {
     "name": "stderr",
     "output_type": "stream",
     "text": [
      "C:\\Users\\bhargav.potluri\\Anaconda3\\lib\\site-packages\\ipykernel_launcher.py:7: RuntimeWarning: Second argument 'y1' is ambiguous: could be a color spec but is in data; using as data.  Either rename the entry in data or use three arguments to plot.\n",
      "  import sys\n",
      "C:\\Users\\bhargav.potluri\\Anaconda3\\lib\\site-packages\\ipykernel_launcher.py:8: RuntimeWarning: Second argument 'y2' is ambiguous: could be a color spec but is in data; using as data.  Either rename the entry in data or use three arguments to plot.\n",
      "  \n",
      "C:\\Users\\bhargav.potluri\\Anaconda3\\lib\\site-packages\\ipykernel_launcher.py:9: RuntimeWarning: Second argument 'y3' is ambiguous: could be a color spec but is in data; using as data.  Either rename the entry in data or use three arguments to plot.\n",
      "  if __name__ == '__main__':\n"
     ]
    },
    {
     "data": {
      "text/plain": [
       "<matplotlib.legend.Legend at 0x2c921765688>"
      ]
     },
     "execution_count": 221,
     "metadata": {},
     "output_type": "execute_result"
    },
    {
     "data": {
      "image/png": "[encoded data removed]",
      "text/plain": [
       "<Figure size 1080x720 with 1 Axes>"
      ]
     },
     "metadata": {
      "needs_background": "light"
     },
     "output_type": "display_data"
    }
   ],
   "source": [
    "# To plot the values in a graph\n",
    "import matplotlib.pyplot as plt\n",
    " \n",
    "# Data\n",
    "df=pd.DataFrame({'x': New_Data1['dateofrecord'], 'y1': New_Data1['dailytested'], 'y2': New_Data1['dailyrecovered'], 'y3': New_Data1['dailydeceased'] })\n",
    "plt.figure(figsize=(15,10))\n",
    "# multiple line plot\n",
    "plt.plot( 'x', 'y1', data=df, markerfacecolor='blue', color='skyblue',label=\"Tested\")\n",
    "plt.plot( 'x', 'y2', data=df, color='olive', linewidth=2,label=\"Recovered\")\n",
    "plt.plot( 'x', 'y3', data=df, color='red', linewidth=2, label=\"Deceased\")\n",
    "plt.legend()"
   ]
  },
  {
   "cell_type": "markdown",
   "metadata": {},
   "source": [
    "##### Exercise 3: To extract the data from documents (PDF)"
   ]
  },
  {
   "cell_type": "markdown",
   "metadata": {},
   "source": [
    "Note: <br>\n",
    "Data can be stored in documents & below explaination is to extract from PDF file. <br>\n",
    "We used camelot library for the data extraction"
   ]
  },
  {
   "cell_type": "code",
   "execution_count": 117,
   "metadata": {},
   "outputs": [],
   "source": [
    "#pip install camelot-py[cv]"
   ]
  },
  {
   "cell_type": "code",
   "execution_count": 12,
   "metadata": {},
   "outputs": [],
   "source": [
    "import tkinter\n",
    "import camelot"
   ]
  },
  {
   "cell_type": "code",
   "execution_count": 119,
   "metadata": {},
   "outputs": [],
   "source": [
    "Data_New = camelot.read_pdf(\"2020-05-21-COVID19-Report-23.pdf\", pages='11')"
   ]
  },
  {
   "cell_type": "code",
   "execution_count": 120,
   "metadata": {},
   "outputs": [
    {
     "data": {
      "text/html": [
       "<div>\n",
       "<style scoped>\n",
       "    .dataframe tbody tr th:only-of-type {\n",
       "        vertical-align: middle;\n",
       "    }\n",
       "\n",
       "    .dataframe tbody tr th {\n",
       "        vertical-align: top;\n",
       "    }\n",
       "\n",
       "    .dataframe thead th {\n",
       "        text-align: right;\n",
       "    }\n",
       "</style>\n",
       "<table border=\"1\" class=\"dataframe\">\n",
       "  <thead>\n",
       "    <tr style=\"text-align: right;\">\n",
       "      <th></th>\n",
       "      <th>0</th>\n",
       "      <th>1</th>\n",
       "      <th>2</th>\n",
       "      <th>3</th>\n",
       "    </tr>\n",
       "  </thead>\n",
       "  <tbody>\n",
       "    <tr>\n",
       "      <th>0</th>\n",
       "      <td>State</td>\n",
       "      <td>% of total population\\ninfected (mean [95%\\ncr...</td>\n",
       "      <td>State</td>\n",
       "      <td>% of total population\\ninfected (mean [95%\\ncr...</td>\n",
       "    </tr>\n",
       "    <tr>\n",
       "      <th>1</th>\n",
       "      <td>Alabama\\nAlaska\\nArizona\\nArkansas\\nCalifornia...</td>\n",
       "      <td>1.9% [1.2%-3.0%]\\n0.2% [0.0%-0.7%]\\n2.3% [1.4%...</td>\n",
       "      <td>Montana\\nNebraska\\nNevada\\nNew Hampshire\\nNew ...</td>\n",
       "      <td>0.2% [0.0%-0.4%]\\n1.2% [0.7%-2.0%]\\n1.8% [1.3%...</td>\n",
       "    </tr>\n",
       "  </tbody>\n",
       "</table>\n",
       "</div>"
      ],
      "text/plain": [
       "                                                   0  \\\n",
       "0                                              State   \n",
       "1  Alabama\\nAlaska\\nArizona\\nArkansas\\nCalifornia...   \n",
       "\n",
       "                                                   1  \\\n",
       "0  % of total population\\ninfected (mean [95%\\ncr...   \n",
       "1  1.9% [1.2%-3.0%]\\n0.2% [0.0%-0.7%]\\n2.3% [1.4%...   \n",
       "\n",
       "                                                   2  \\\n",
       "0                                              State   \n",
       "1  Montana\\nNebraska\\nNevada\\nNew Hampshire\\nNew ...   \n",
       "\n",
       "                                                   3  \n",
       "0  % of total population\\ninfected (mean [95%\\ncr...  \n",
       "1  0.2% [0.0%-0.4%]\\n1.2% [0.7%-2.0%]\\n1.8% [1.3%...  "
      ]
     },
     "execution_count": 120,
     "metadata": {},
     "output_type": "execute_result"
    }
   ],
   "source": [
    "Data_New[0].df # Accessing the data"
   ]
  },
  {
   "cell_type": "code",
   "execution_count": 121,
   "metadata": {},
   "outputs": [],
   "source": [
    "Data_Extracted=Data_New[0].df"
   ]
  },
  {
   "cell_type": "code",
   "execution_count": 122,
   "metadata": {},
   "outputs": [],
   "source": [
    "Data_Extracted.columns=Data_Extracted.iloc[0]\n",
    "Data_Extracted.drop(Data_Extracted.index[0], inplace=True) "
   ]
  },
  {
   "cell_type": "code",
   "execution_count": 123,
   "metadata": {},
   "outputs": [
    {
     "data": {
      "text/html": [
       "<div>\n",
       "<style scoped>\n",
       "    .dataframe tbody tr th:only-of-type {\n",
       "        vertical-align: middle;\n",
       "    }\n",
       "\n",
       "    .dataframe tbody tr th {\n",
       "        vertical-align: top;\n",
       "    }\n",
       "\n",
       "    .dataframe thead th {\n",
       "        text-align: right;\n",
       "    }\n",
       "</style>\n",
       "<table border=\"1\" class=\"dataframe\">\n",
       "  <thead>\n",
       "    <tr style=\"text-align: right;\">\n",
       "      <th></th>\n",
       "      <th>State</th>\n",
       "      <th>% of total population\\ninfected (mean [95%\\ncredible interval])</th>\n",
       "      <th>State</th>\n",
       "      <th>% of total population\\ninfected (mean [95%\\ncredible interval])</th>\n",
       "    </tr>\n",
       "  </thead>\n",
       "  <tbody>\n",
       "    <tr>\n",
       "      <th>1</th>\n",
       "      <td>Alabama\\nAlaska\\nArizona\\nArkansas\\nCalifornia...</td>\n",
       "      <td>1.9% [1.2%-3.0%]\\n0.2% [0.0%-0.7%]\\n2.3% [1.4%...</td>\n",
       "      <td>Montana\\nNebraska\\nNevada\\nNew Hampshire\\nNew ...</td>\n",
       "      <td>0.2% [0.0%-0.4%]\\n1.2% [0.7%-2.0%]\\n1.8% [1.3%...</td>\n",
       "    </tr>\n",
       "  </tbody>\n",
       "</table>\n",
       "</div>"
      ],
      "text/plain": [
       "0                                              State  \\\n",
       "1  Alabama\\nAlaska\\nArizona\\nArkansas\\nCalifornia...   \n",
       "\n",
       "0 % of total population\\ninfected (mean [95%\\ncredible interval])  \\\n",
       "1  1.9% [1.2%-3.0%]\\n0.2% [0.0%-0.7%]\\n2.3% [1.4%...                \n",
       "\n",
       "0                                              State  \\\n",
       "1  Montana\\nNebraska\\nNevada\\nNew Hampshire\\nNew ...   \n",
       "\n",
       "0 % of total population\\ninfected (mean [95%\\ncredible interval])  \n",
       "1  0.2% [0.0%-0.4%]\\n1.2% [0.7%-2.0%]\\n1.8% [1.3%...               "
      ]
     },
     "execution_count": 123,
     "metadata": {},
     "output_type": "execute_result"
    }
   ],
   "source": [
    "Data_Extracted"
   ]
  },
  {
   "cell_type": "code",
   "execution_count": 124,
   "metadata": {},
   "outputs": [],
   "source": [
    "# Data Cleaning\n",
    "Data_Extracted.columns = ['State1','Population infected1','State2','Population infected2']"
   ]
  },
  {
   "cell_type": "code",
   "execution_count": 125,
   "metadata": {},
   "outputs": [],
   "source": [
    "State1=Data_Extracted['State1'].str.split('\\n')\n",
    "State2=Data_Extracted['State2'].str.split('\\n')\n",
    "Pop1=Data_Extracted['Population infected1'].str.split('\\n')\n",
    "Pop2=Data_Extracted['Population infected1'].str.split('\\n')"
   ]
  },
  {
   "cell_type": "code",
   "execution_count": 126,
   "metadata": {},
   "outputs": [],
   "source": [
    "State1=list(State1)\n",
    "State1=State1[0]\n",
    "State2=list(State2)\n",
    "State2=State2[0]"
   ]
  },
  {
   "cell_type": "code",
   "execution_count": 127,
   "metadata": {},
   "outputs": [],
   "source": [
    "Pop1=list(Pop1)\n",
    "Pop1=Pop1[0]\n",
    "Pop2=list(Pop2)\n",
    "Pop2=Pop2[0]"
   ]
  },
  {
   "cell_type": "code",
   "execution_count": 128,
   "metadata": {},
   "outputs": [],
   "source": [
    "State1.extend(State2) # Extending the lState ist \n",
    "Pop1.extend(Pop2) # Extending the population list "
   ]
  },
  {
   "cell_type": "code",
   "execution_count": 129,
   "metadata": {},
   "outputs": [],
   "source": [
    "Data_Extracted1=pd.DataFrame({'State':State1,'Population Infected':Pop1})"
   ]
  },
  {
   "cell_type": "code",
   "execution_count": 130,
   "metadata": {},
   "outputs": [
    {
     "data": {
      "text/html": [
       "<div>\n",
       "<style scoped>\n",
       "    .dataframe tbody tr th:only-of-type {\n",
       "        vertical-align: middle;\n",
       "    }\n",
       "\n",
       "    .dataframe tbody tr th {\n",
       "        vertical-align: top;\n",
       "    }\n",
       "\n",
       "    .dataframe thead th {\n",
       "        text-align: right;\n",
       "    }\n",
       "</style>\n",
       "<table border=\"1\" class=\"dataframe\">\n",
       "  <thead>\n",
       "    <tr style=\"text-align: right;\">\n",
       "      <th></th>\n",
       "      <th>State</th>\n",
       "      <th>Population Infected</th>\n",
       "    </tr>\n",
       "  </thead>\n",
       "  <tbody>\n",
       "    <tr>\n",
       "      <th>0</th>\n",
       "      <td>Alabama</td>\n",
       "      <td>1.9% [1.2%-3.0%]</td>\n",
       "    </tr>\n",
       "    <tr>\n",
       "      <th>1</th>\n",
       "      <td>Alaska</td>\n",
       "      <td>0.2% [0.0%-0.7%]</td>\n",
       "    </tr>\n",
       "    <tr>\n",
       "      <th>2</th>\n",
       "      <td>Arizona</td>\n",
       "      <td>2.3% [1.4%-4.0%]</td>\n",
       "    </tr>\n",
       "    <tr>\n",
       "      <th>3</th>\n",
       "      <td>Arkansas</td>\n",
       "      <td>0.5% [0.3%-0.8%]</td>\n",
       "    </tr>\n",
       "    <tr>\n",
       "      <th>4</th>\n",
       "      <td>California</td>\n",
       "      <td>1.6% [1.1%-2.5%]</td>\n",
       "    </tr>\n",
       "  </tbody>\n",
       "</table>\n",
       "</div>"
      ],
      "text/plain": [
       "        State Population Infected\n",
       "0     Alabama    1.9% [1.2%-3.0%]\n",
       "1      Alaska    0.2% [0.0%-0.7%]\n",
       "2     Arizona    2.3% [1.4%-4.0%]\n",
       "3    Arkansas    0.5% [0.3%-0.8%]\n",
       "4  California    1.6% [1.1%-2.5%]"
      ]
     },
     "execution_count": 130,
     "metadata": {},
     "output_type": "execute_result"
    }
   ],
   "source": [
    "Data_Extracted1.head()"
   ]
  },
  {
   "cell_type": "markdown",
   "metadata": {},
   "source": [
    "##### Exercise 4: To extract the data from RDBMS"
   ]
  },
  {
   "cell_type": "code",
   "execution_count": null,
   "metadata": {},
   "outputs": [],
   "source": [
    "# Below is the way to extract data from Oracle DB\n",
    "\n",
    "import cx_Oracle\n",
    "ip = 'XX.XX.X.XXX'\n",
    "port = YYYY\n",
    "SID = 'DW'\n",
    "dsn_tns = cx_Oracle.makedsn(ip, port, SID)\n",
    "\n",
    "connection = cx_Oracle.connect('ID', 'PASSWORD', dsn_tns)"
   ]
  },
  {
   "cell_type": "code",
   "execution_count": 85,
   "metadata": {},
   "outputs": [],
   "source": [
    "query = \"\"\"SELECT* \n",
    "           FROM EMPLOYEE\n",
    "           WHERE E.DEPTNO=10\"\"\"\n",
    "df_ora = pd.read_sql(query, con=connection)"
   ]
  }
 ],
 "metadata": {
  "kernelspec": {
   "display_name": "Python 3",
   "language": "python",
   "name": "python3"
  },
  "language_info": {
   "codemirror_mode": {
    "name": "ipython",
    "version": 3
   },
   "file_extension": ".py",
   "mimetype": "text/x-python",
   "name": "python",
   "nbconvert_exporter": "python",
   "pygments_lexer": "ipython3",
   "version": "3.7.6"
  }
 },
 "nbformat": 4,
 "nbformat_minor": 4
}
